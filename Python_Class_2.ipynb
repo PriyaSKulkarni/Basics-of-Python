{
  "nbformat": 4,
  "nbformat_minor": 0,
  "metadata": {
    "colab": {
      "provenance": []
    },
    "kernelspec": {
      "name": "python3",
      "display_name": "Python 3"
    },
    "language_info": {
      "name": "python"
    }
  },
  "cells": [
    {
      "cell_type": "markdown",
      "source": [
        "Decision Structures"
      ],
      "metadata": {
        "id": "bClo9MEd-2Ub"
      }
    },
    {
      "cell_type": "code",
      "execution_count": 4,
      "metadata": {
        "colab": {
          "base_uri": "https://localhost:8080/"
        },
        "id": "Yb0DwpUi-pW_",
        "outputId": "4d50acde-4f0b-4ec6-b7a0-e57b584c9725"
      },
      "outputs": [
        {
          "output_type": "stream",
          "name": "stdout",
          "text": [
            "True\n",
            "False\n",
            "True\n",
            "False\n",
            "True\n"
          ]
        }
      ],
      "source": [
        "print(10==10)\n",
        "print(10!=10)\n",
        "print(10<=10)\n",
        "print(10<10)\n",
        "print(10>=10)"
      ]
    },
    {
      "cell_type": "code",
      "source": [
        "num1= 30\n",
        "num2 = 40\n",
        "if num2 > num1:\n",
        "  print(f\"{num2} is greater than {num1}\")"
      ],
      "metadata": {
        "colab": {
          "base_uri": "https://localhost:8080/"
        },
        "id": "3bf7OySd-zDF",
        "outputId": "6aceaf3d-6222-4b8d-e827-0cc972adcd14"
      },
      "execution_count": 7,
      "outputs": [
        {
          "output_type": "stream",
          "name": "stdout",
          "text": [
            "40 is greater than 30\n"
          ]
        }
      ]
    },
    {
      "cell_type": "markdown",
      "source": [
        "example for checking whether the number is even or odd"
      ],
      "metadata": {
        "id": "L0N1WusqAoa1"
      }
    },
    {
      "cell_type": "code",
      "source": [
        "num1 = int(input(\"enter the number\"))\n",
        "if (num1 % 2) == 0:\n",
        "  print(f\"{num1} is even number\")\n",
        "else:\n",
        "  print(f\"{num1} is odd number\")"
      ],
      "metadata": {
        "colab": {
          "base_uri": "https://localhost:8080/"
        },
        "id": "kfl58wa__PuM",
        "outputId": "9e375906-3794-4e84-d7f5-d7dc6897bd75"
      },
      "execution_count": 14,
      "outputs": [
        {
          "output_type": "stream",
          "name": "stdout",
          "text": [
            "enter the number2\n",
            "2 is even number\n"
          ]
        }
      ]
    },
    {
      "cell_type": "markdown",
      "source": [
        "if conditions are not mutually exclusive"
      ],
      "metadata": {
        "id": "DQ8nrNpYCXkk"
      }
    },
    {
      "cell_type": "code",
      "source": [
        "salary = float(input(\"enter the salary: \"))\n",
        "if (salary > 50000):\n",
        "  print(\"Offer A\")\n",
        "if (salary > 30000):\n",
        "  print(\"Offer B\")\n",
        "else:\n",
        "  print(\"Offer C\")"
      ],
      "metadata": {
        "colab": {
          "base_uri": "https://localhost:8080/"
        },
        "id": "H7-5bMee_-np",
        "outputId": "1008d540-2256-4176-af3f-f35b78e3d938"
      },
      "execution_count": 18,
      "outputs": [
        {
          "output_type": "stream",
          "name": "stdout",
          "text": [
            "enter the salary: 70000\n",
            "Offer A\n",
            "Offer B\n"
          ]
        }
      ]
    },
    {
      "cell_type": "code",
      "source": [
        "salary = float(input(\"enter the salary: \"))\n",
        "if (salary > 50000):\n",
        "  print(\"Offer A\")\n",
        "elif (salary > 30000):\n",
        "  print(\"Offer B\")\n",
        "else:\n",
        "  print(\"Offer C\")"
      ],
      "metadata": {
        "colab": {
          "base_uri": "https://localhost:8080/"
        },
        "id": "M3KCeq-YCH02",
        "outputId": "97478f4e-32ec-475c-816f-3a5e1874acc1"
      },
      "execution_count": 19,
      "outputs": [
        {
          "output_type": "stream",
          "name": "stdout",
          "text": [
            "enter the salary: 70000\n",
            "Offer A\n"
          ]
        }
      ]
    },
    {
      "cell_type": "markdown",
      "source": [
        "Example: Ask user to input score for three class tests\n",
        "• Compute the average score.\n",
        "• Write a program to assign a letter grade for the average score\n",
        "• Grading system:\n",
        "• A (90 or above)\n",
        "• B (80 – 89)\n",
        "• C (70 – 79)\n",
        "• D (60 – 69)\n",
        "• F (Below 60))\n"
      ],
      "metadata": {
        "id": "9bDRyH2eC9Qh"
      }
    },
    {
      "cell_type": "code",
      "source": [
        "s1 = int(input(\"Enter the score1 \"))\n",
        "s2 = int(input(\"Enter the score2 \"))\n",
        "s3 = int(input(\"Enter the score3 \"))\n",
        "avg = (s1+s2+s3)/3\n",
        "if( avg >= 90):\n",
        "  grade =\"A\"\n",
        "elif avg>= 80:\n",
        "  grade =\"B\"\n",
        "elif avg>=70:\n",
        "  grade =\"C\"\n",
        "elif avg>=60:\n",
        "  grade =\"D\"\n",
        "else:\n",
        "  grade =\"F\"\n",
        "print(f\"the average score is {avg}\")\n",
        "print(f\"the grade is {grade}\")"
      ],
      "metadata": {
        "colab": {
          "base_uri": "https://localhost:8080/"
        },
        "id": "9ms_KPquCigm",
        "outputId": "7d522eaf-2a19-423d-be7f-41bbbb20332e"
      },
      "execution_count": 24,
      "outputs": [
        {
          "output_type": "stream",
          "name": "stdout",
          "text": [
            "Enter the score1 60\n",
            "Enter the score2 90\n",
            "Enter the score3 88\n",
            "the average score is 79.33333333333333\n",
            "the grade is C\n"
          ]
        }
      ]
    },
    {
      "cell_type": "markdown",
      "source": [
        "Nested If statement"
      ],
      "metadata": {
        "id": "5jZAc3nFFeCA"
      }
    },
    {
      "cell_type": "code",
      "source": [
        "age = int(input(\" enter you age: \"))\n",
        "if( age< 18):\n",
        "  print(\"Not allowed\")\n",
        "else:\n",
        "  if( age<=30):\n",
        "    print(\"Silver\")\n",
        "  elif( age<=40):\n",
        "    print(\"Platinum\")\n",
        "  else:\n",
        "    print(\"Gold\")"
      ],
      "metadata": {
        "colab": {
          "base_uri": "https://localhost:8080/"
        },
        "id": "aH8QWCfpDo1m",
        "outputId": "53d4736f-44f6-4758-d33f-73a30aa22d2f"
      },
      "execution_count": 25,
      "outputs": [
        {
          "output_type": "stream",
          "name": "stdout",
          "text": [
            " enter you age: 18\n",
            "Silver\n"
          ]
        }
      ]
    },
    {
      "cell_type": "markdown",
      "source": [
        "Example: ou are going to make a learning app for the kids. Make a program to learn the capital of\n",
        "the following states.\n",
        "• State = ['Alabama’, 'Alaska', 'Arizona', 'California', 'Idaho’]\n",
        "• Capital = [Montgomery', ‘Juneau’, ' Phoenix', ' Sacramento', 'Boise’]\n",
        "• Prompt the user to choose one state.\n",
        "• Make sure to convert the user input as Capitalize\n",
        "• Show the name of the selected state and the corresponding capital in the lower and\n",
        "UPPER case, respectively.\n",
        "• Also show an error message if the user chooses anything other than the above states.\n"
      ],
      "metadata": {
        "id": "69Y8p9crGQXf"
      }
    },
    {
      "cell_type": "code",
      "source": [
        "state = input(\" Enter the state :\").capitalize()\n",
        "if( state== 'Alabama'):\n",
        "  capital = 'Montgomery'\n",
        "  print(f\" Capital of {state.lower()} is {capital.upper()}\")\n",
        "elif state =='Alaska':\n",
        "  capital= 'Juneau'\n",
        "  print(f\"Caputal of {state.lower()} is {capital.upper()}\")\n",
        "elif state =='Arizona':\n",
        "  capital ='Phoenix'\n",
        "  print(f'Capital of {state.lower()} is {capital.upper()}')\n",
        "elif state == 'California':\n",
        "  capital ='Sacramento'\n",
        "  print(f'Capital of {state.lower()} is {capital.upper()}')\n",
        "elif state == 'Idaho':\n",
        "  capital=\"Boise\"\n",
        "  print(f'Capital of {state.lower()} is {capital.upper()}')\n",
        "else:\n",
        "  print(\" Try different state\")"
      ],
      "metadata": {
        "colab": {
          "base_uri": "https://localhost:8080/"
        },
        "id": "JdhVthz6F2Go",
        "outputId": "f6c66775-1585-4953-f10b-a8dffab2b28b"
      },
      "execution_count": 30,
      "outputs": [
        {
          "output_type": "stream",
          "name": "stdout",
          "text": [
            " Enter the state :arizona\n",
            "Capital of arizona is PHOENIX\n"
          ]
        }
      ]
    },
    {
      "cell_type": "markdown",
      "source": [
        "RANDOM library"
      ],
      "metadata": {
        "id": "XAsQSec_K4cW"
      }
    },
    {
      "cell_type": "code",
      "source": [
        "import random"
      ],
      "metadata": {
        "id": "0F_cr5xXIAbt"
      },
      "execution_count": 31,
      "outputs": []
    },
    {
      "cell_type": "code",
      "source": [
        "rand = random.random() # a valur from 0 to 1 is produced\n",
        "print(rand)"
      ],
      "metadata": {
        "colab": {
          "base_uri": "https://localhost:8080/"
        },
        "id": "DDIEKrsgK7Cm",
        "outputId": "acc950d1-22b6-4adb-cc4a-09c34af688b0"
      },
      "execution_count": 35,
      "outputs": [
        {
          "output_type": "stream",
          "name": "stdout",
          "text": [
            "0.7409204929973864\n"
          ]
        }
      ]
    },
    {
      "cell_type": "code",
      "source": [
        "rand = random.randint(1,10) # inclusive\n",
        "print(rand)"
      ],
      "metadata": {
        "colab": {
          "base_uri": "https://localhost:8080/"
        },
        "id": "0lORwca4K9mP",
        "outputId": "44bcdcac-ba0a-4926-ea3a-a0723e592945"
      },
      "execution_count": 36,
      "outputs": [
        {
          "output_type": "stream",
          "name": "stdout",
          "text": [
            "5\n"
          ]
        }
      ]
    },
    {
      "cell_type": "code",
      "source": [
        "city_name = [\"Arlington\",\"Dallas\",\"Irving\"]\n",
        "print(random.choice(city_name))"
      ],
      "metadata": {
        "colab": {
          "base_uri": "https://localhost:8080/"
        },
        "id": "l35oIq0CLKKf",
        "outputId": "84f8319f-472a-4018-d4c2-14c886252fdc"
      },
      "execution_count": 38,
      "outputs": [
        {
          "output_type": "stream",
          "name": "stdout",
          "text": [
            "Irving\n"
          ]
        }
      ]
    },
    {
      "cell_type": "markdown",
      "source": [
        "Example: You want to mail a gift to your friend through USPS. The initial\n",
        "charge is 6.0. The following  rates per pound are applied based on\n",
        "the weight of the gift.\n",
        "• 1.50 up to 2lb\n",
        "• 3.00 up to 4lb\n",
        "•4.00 up to 6lb\n",
        "• $4.75 above 6lb\n",
        "• Write a program to compute the final charge with 2-decimal points.\n",
        "• What will be the amount of charge for a 5.5lb gift."
      ],
      "metadata": {
        "id": "lxuGEc18UG7Z"
      }
    },
    {
      "cell_type": "code",
      "source": [
        "weight = float(input(\"Enter the weight in lb: \"))\n",
        "if weight <= 2:\n",
        "  charge = 1.50 + 6\n",
        "elif  weight <= 4:\n",
        "  charge = 3.0 +6\n",
        "elif weight <=6:\n",
        "  charge = 4+ 6\n",
        "else:\n",
        "  charge =4.75+6\n",
        "\n",
        "print(f\"the final charge is {charge:.2f}\")"
      ],
      "metadata": {
        "colab": {
          "base_uri": "https://localhost:8080/"
        },
        "id": "-CM36MCxLmGU",
        "outputId": "dcf8acf7-12f8-4c5b-91fa-29c614187bcc"
      },
      "execution_count": 40,
      "outputs": [
        {
          "output_type": "stream",
          "name": "stdout",
          "text": [
            "Enter the weight in lb: 2.3\n",
            "the final charge is 9.00\n"
          ]
        }
      ]
    },
    {
      "cell_type": "code",
      "source": [],
      "metadata": {
        "id": "gy0Fy07-VXWP"
      },
      "execution_count": 39,
      "outputs": []
    }
  ]
}