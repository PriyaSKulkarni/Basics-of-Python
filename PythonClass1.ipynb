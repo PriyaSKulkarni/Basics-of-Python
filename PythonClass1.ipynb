{
  "nbformat": 4,
  "nbformat_minor": 0,
  "metadata": {
    "colab": {
      "provenance": []
    },
    "kernelspec": {
      "name": "python3",
      "display_name": "Python 3"
    },
    "language_info": {
      "name": "python"
    }
  },
  "cells": [
    {
      "cell_type": "markdown",
      "source": [
        "# Variable\n",
        "1. primitive and Non primitive"
      ],
      "metadata": {
        "id": "IK9yOySJMte5"
      }
    },
    {
      "cell_type": "code",
      "source": [
        "num1 = 10\n",
        "type(num1)"
      ],
      "metadata": {
        "colab": {
          "base_uri": "https://localhost:8080/"
        },
        "id": "zlnY_DM2Mzdb",
        "outputId": "8e51ac53-7c06-4e8e-f973-87038394507c"
      },
      "execution_count": 1,
      "outputs": [
        {
          "output_type": "execute_result",
          "data": {
            "text/plain": [
              "int"
            ]
          },
          "metadata": {},
          "execution_count": 1
        }
      ]
    },
    {
      "cell_type": "code",
      "source": [
        "num2 = 10.3\n",
        "type(num2)"
      ],
      "metadata": {
        "colab": {
          "base_uri": "https://localhost:8080/"
        },
        "id": "MLS1UYV3NJfC",
        "outputId": "ee64f787-e3d5-443f-e177-9964c2ba331c"
      },
      "execution_count": 2,
      "outputs": [
        {
          "output_type": "execute_result",
          "data": {
            "text/plain": [
              "float"
            ]
          },
          "metadata": {},
          "execution_count": 2
        }
      ]
    },
    {
      "cell_type": "code",
      "source": [
        "name =\"Priya\"\n",
        "type(name)"
      ],
      "metadata": {
        "colab": {
          "base_uri": "https://localhost:8080/"
        },
        "id": "kRh6JAR_NiU8",
        "outputId": "91eb1176-0374-4b10-dca6-d595dda66376"
      },
      "execution_count": 3,
      "outputs": [
        {
          "output_type": "execute_result",
          "data": {
            "text/plain": [
              "str"
            ]
          },
          "metadata": {},
          "execution_count": 3
        }
      ]
    },
    {
      "cell_type": "code",
      "source": [
        "num3 = int(\"10\") #typecasting\n",
        "type(num3)"
      ],
      "metadata": {
        "colab": {
          "base_uri": "https://localhost:8080/"
        },
        "id": "VSo8EvykOMDQ",
        "outputId": "ddfa61f4-84e2-44ae-94fe-618691965599"
      },
      "execution_count": 4,
      "outputs": [
        {
          "output_type": "execute_result",
          "data": {
            "text/plain": [
              "int"
            ]
          },
          "metadata": {},
          "execution_count": 4
        }
      ]
    },
    {
      "cell_type": "code",
      "source": [
        "#No space in naming convention"
      ],
      "metadata": {
        "id": "L9cmzspgOXQd"
      },
      "execution_count": 5,
      "outputs": []
    },
    {
      "cell_type": "code",
      "source": [
        "firstName = \"ABC\" # Camel case\n",
        "FirstName = \"ABC\"  # Pascal case\n",
        "first_name = \"ABC\" # Snake case"
      ],
      "metadata": {
        "id": "kvxlmuf8PA7C"
      },
      "execution_count": 6,
      "outputs": []
    },
    {
      "cell_type": "code",
      "source": [
        "text1 = \"ABC\"\n",
        "text2 = \"CDE\"\n",
        "res = text1 + \" \" + text2  #combining the values (does not consider the white space)\n",
        "print(res)"
      ],
      "metadata": {
        "colab": {
          "base_uri": "https://localhost:8080/"
        },
        "id": "HDCbvSLzPR3_",
        "outputId": "06ea2668-d8de-4667-ff89-804ee393e170"
      },
      "execution_count": 7,
      "outputs": [
        {
          "output_type": "stream",
          "name": "stdout",
          "text": [
            "ABC CDE\n"
          ]
        }
      ]
    },
    {
      "cell_type": "code",
      "source": [
        "school = \"UTA\"\n",
        "print(\"I Like\"+school)\n",
        "print(\"I like \"+school)\n",
        "print(\"I like\",school)\n"
      ],
      "metadata": {
        "colab": {
          "base_uri": "https://localhost:8080/"
        },
        "id": "XIQniWCYPdDi",
        "outputId": "423daab1-2bf9-4955-c6ae-3d1b603f35f7"
      },
      "execution_count": 8,
      "outputs": [
        {
          "output_type": "stream",
          "name": "stdout",
          "text": [
            "I LikeUTA\n",
            "I like UTA\n",
            "I like UTA\n"
          ]
        }
      ]
    },
    {
      "cell_type": "code",
      "source": [
        "print( \"I like 'Arlington'\")\n",
        "print('I like \"Arlington\"')\n",
        "print(\"I like \\\"Arlington\\\"\")"
      ],
      "metadata": {
        "colab": {
          "base_uri": "https://localhost:8080/"
        },
        "id": "2rZafkMlQYch",
        "outputId": "e6a808e3-d1fd-4990-dea5-94128356b026"
      },
      "execution_count": 9,
      "outputs": [
        {
          "output_type": "stream",
          "name": "stdout",
          "text": [
            "I like 'Arlington'\n",
            "I like \"Arlington\"\n",
            "I like \"Arlington\"\n"
          ]
        }
      ]
    },
    {
      "cell_type": "code",
      "source": [
        "print(\"I like\" + \"\\n\" + \"UTA\")"
      ],
      "metadata": {
        "colab": {
          "base_uri": "https://localhost:8080/"
        },
        "id": "ZqQTFIP4QtgX",
        "outputId": "a303df87-a0d2-460c-e729-631f32cc7e7c"
      },
      "execution_count": 10,
      "outputs": [
        {
          "output_type": "stream",
          "name": "stdout",
          "text": [
            "I like\n",
            "UTA\n"
          ]
        }
      ]
    },
    {
      "cell_type": "code",
      "source": [
        "fn, ln = \"ABC\" , \"DEF\"\n",
        "print(fn)\n",
        "print(ln)"
      ],
      "metadata": {
        "colab": {
          "base_uri": "https://localhost:8080/"
        },
        "id": "ui4qlv6hRd19",
        "outputId": "286265b1-fd63-4453-c455-e04e910d217f"
      },
      "execution_count": 11,
      "outputs": [
        {
          "output_type": "stream",
          "name": "stdout",
          "text": [
            "ABC\n",
            "DEF\n"
          ]
        }
      ]
    },
    {
      "cell_type": "code",
      "source": [
        "#fn, ln = \"ABC\" # error\n",
        "print(fn)\n",
        "print(ln)"
      ],
      "metadata": {
        "colab": {
          "base_uri": "https://localhost:8080/"
        },
        "id": "Qoz1cDpKR7pA",
        "outputId": "98c99236-0099-4b2f-e848-2eb1407948b6"
      },
      "execution_count": 13,
      "outputs": [
        {
          "output_type": "stream",
          "name": "stdout",
          "text": [
            "ABC\n",
            "DEF\n"
          ]
        }
      ]
    },
    {
      "cell_type": "code",
      "source": [
        "fn = ln = \"ABC\" # error\n",
        "print(fn)\n",
        "print(ln)"
      ],
      "metadata": {
        "colab": {
          "base_uri": "https://localhost:8080/"
        },
        "id": "WdsSr1p0SDD_",
        "outputId": "2617ac93-ec52-4392-ad3d-5e3d07521ce9"
      },
      "execution_count": 14,
      "outputs": [
        {
          "output_type": "stream",
          "name": "stdout",
          "text": [
            "ABC\n",
            "ABC\n"
          ]
        }
      ]
    },
    {
      "cell_type": "code",
      "source": [
        "fn = \"ABC\" , \"CDE\"\n",
        "print(fn)\n",
        "type(fn)"
      ],
      "metadata": {
        "colab": {
          "base_uri": "https://localhost:8080/"
        },
        "id": "g0Zz57vMSKBM",
        "outputId": "60531175-460b-48a6-d3b7-a0128ee7efa9"
      },
      "execution_count": 15,
      "outputs": [
        {
          "output_type": "stream",
          "name": "stdout",
          "text": [
            "('ABC', 'CDE')\n"
          ]
        },
        {
          "output_type": "execute_result",
          "data": {
            "text/plain": [
              "tuple"
            ]
          },
          "metadata": {},
          "execution_count": 15
        }
      ]
    },
    {
      "cell_type": "code",
      "source": [
        "x =10\n",
        "y =\"UTA\"\n",
        "print(f\"Before swap, x is {x} and y is {y}\")\n",
        "y ,x = x,y\n",
        "print(f\"After swap, x is {x} and y is {y}\") # f is used for formatting"
      ],
      "metadata": {
        "colab": {
          "base_uri": "https://localhost:8080/"
        },
        "id": "9ZRwMIsASmwt",
        "outputId": "19a308b2-d3d1-453b-9ab5-bf5f769b12cd"
      },
      "execution_count": 16,
      "outputs": [
        {
          "output_type": "stream",
          "name": "stdout",
          "text": [
            "Before swap, x is 10 and y is UTA\n",
            "After swap, x is UTA and y is 10\n"
          ]
        }
      ]
    },
    {
      "cell_type": "markdown",
      "source": [
        "#User Input"
      ],
      "metadata": {
        "id": "etplb1P3TW7v"
      }
    },
    {
      "cell_type": "code",
      "source": [
        "course_name = input(\"Enter your course name:\")\n",
        "print(\"Course\",course_name)\n",
        "type(course_name)"
      ],
      "metadata": {
        "colab": {
          "base_uri": "https://localhost:8080/"
        },
        "id": "jvuWG0M3TX1i",
        "outputId": "c8b52bdc-53aa-45c3-d539-0b6a8d919d8f"
      },
      "execution_count": 17,
      "outputs": [
        {
          "output_type": "stream",
          "name": "stdout",
          "text": [
            "Enter your course name:\n",
            "Course \n"
          ]
        },
        {
          "output_type": "execute_result",
          "data": {
            "text/plain": [
              "str"
            ]
          },
          "metadata": {},
          "execution_count": 17
        }
      ]
    },
    {
      "cell_type": "code",
      "source": [
        "course_name = (input(\"Enter your course name:\"))\n",
        "print(\"Course\",course_name)\n",
        "print(\"Course \"+str(course_name))\n",
        "#print(\"Course\"+course_name) # gives error\n",
        "type(course_name)"
      ],
      "metadata": {
        "id": "l-7zBiCOUhPO",
        "colab": {
          "base_uri": "https://localhost:8080/"
        },
        "outputId": "5a5f9f33-497f-44ec-e804-31895f4bcf81"
      },
      "execution_count": 20,
      "outputs": [
        {
          "output_type": "stream",
          "name": "stdout",
          "text": [
            "Enter your course name:python\n",
            "Course python\n",
            "Course python\n"
          ]
        },
        {
          "output_type": "execute_result",
          "data": {
            "text/plain": [
              "str"
            ]
          },
          "metadata": {},
          "execution_count": 20
        }
      ]
    },
    {
      "cell_type": "markdown",
      "source": [
        "#Operators"
      ],
      "metadata": {
        "id": "4FyA4fanVgCe"
      }
    },
    {
      "cell_type": "code",
      "source": [
        "num1 = 10\n",
        "num2 = 3\n",
        "res = num1 + num2\n",
        "print(res)"
      ],
      "metadata": {
        "id": "T0ZjlnRBUzIa",
        "colab": {
          "base_uri": "https://localhost:8080/"
        },
        "outputId": "5781064f-7ee5-4110-f571-4cfb4cf453a3"
      },
      "execution_count": 21,
      "outputs": [
        {
          "output_type": "stream",
          "name": "stdout",
          "text": [
            "13\n"
          ]
        }
      ]
    },
    {
      "cell_type": "code",
      "source": [
        "res = num1 - num2\n",
        "print(res)"
      ],
      "metadata": {
        "colab": {
          "base_uri": "https://localhost:8080/"
        },
        "id": "zFTiHt6oVohC",
        "outputId": "ff098d13-dff5-46f9-91ef-c381a0f12049"
      },
      "execution_count": 22,
      "outputs": [
        {
          "output_type": "stream",
          "name": "stdout",
          "text": [
            "7\n"
          ]
        }
      ]
    },
    {
      "cell_type": "code",
      "source": [
        "res = num1 / num2\n",
        "print(res)"
      ],
      "metadata": {
        "colab": {
          "base_uri": "https://localhost:8080/"
        },
        "id": "In2XfIFSVq6i",
        "outputId": "37090b04-45bf-4d77-f5ea-c84cb8f9032c"
      },
      "execution_count": 23,
      "outputs": [
        {
          "output_type": "stream",
          "name": "stdout",
          "text": [
            "3.3333333333333335\n"
          ]
        }
      ]
    },
    {
      "cell_type": "code",
      "source": [
        "res = num1 * num2\n",
        "print(res)"
      ],
      "metadata": {
        "colab": {
          "base_uri": "https://localhost:8080/"
        },
        "id": "oI0h6vJgVsmW",
        "outputId": "11fedfce-6f28-45ec-c3f4-7da565da272c"
      },
      "execution_count": 24,
      "outputs": [
        {
          "output_type": "stream",
          "name": "stdout",
          "text": [
            "30\n"
          ]
        }
      ]
    },
    {
      "cell_type": "code",
      "source": [
        "res = num1 // num2\n",
        "print(res)"
      ],
      "metadata": {
        "colab": {
          "base_uri": "https://localhost:8080/"
        },
        "id": "FYNQk9bKVvMl",
        "outputId": "f1a954d4-7171-4c5b-a11c-0a261212620a"
      },
      "execution_count": 25,
      "outputs": [
        {
          "output_type": "stream",
          "name": "stdout",
          "text": [
            "3\n"
          ]
        }
      ]
    },
    {
      "cell_type": "code",
      "source": [
        "res = num1 % num2\n",
        "print(res)"
      ],
      "metadata": {
        "colab": {
          "base_uri": "https://localhost:8080/"
        },
        "id": "0UejzlSMVy80",
        "outputId": "1905f812-c739-4e4d-bfce-bb9db672e6bd"
      },
      "execution_count": 26,
      "outputs": [
        {
          "output_type": "stream",
          "name": "stdout",
          "text": [
            "1\n"
          ]
        }
      ]
    },
    {
      "cell_type": "code",
      "source": [
        "res = num1 ** num2\n",
        "print(res)"
      ],
      "metadata": {
        "colab": {
          "base_uri": "https://localhost:8080/"
        },
        "id": "S7_4bfhoV6Bd",
        "outputId": "914a27c1-d04f-4992-bea7-7bfa7da468f9"
      },
      "execution_count": 27,
      "outputs": [
        {
          "output_type": "stream",
          "name": "stdout",
          "text": [
            "1000\n"
          ]
        }
      ]
    },
    {
      "cell_type": "markdown",
      "source": [
        "#Math library\n",
        "\n",
        "to install the library we use pip command"
      ],
      "metadata": {
        "id": "swCuRET_WzJZ"
      }
    },
    {
      "cell_type": "code",
      "source": [
        "import math\n",
        "n1=10\n",
        "n2=3\n",
        "print(math.pow(n1,n2))\n",
        "print(math.sqrt(n1))\n",
        "print(math.factorial(5))"
      ],
      "metadata": {
        "colab": {
          "base_uri": "https://localhost:8080/"
        },
        "id": "nEtPdkkaV72Z",
        "outputId": "c100ea5a-3bc3-4150-9996-c8280aed94b9"
      },
      "execution_count": 28,
      "outputs": [
        {
          "output_type": "stream",
          "name": "stdout",
          "text": [
            "1000.0\n",
            "3.1622776601683795\n",
            "120\n"
          ]
        }
      ]
    },
    {
      "cell_type": "markdown",
      "source": [
        "f- string"
      ],
      "metadata": {
        "id": "SKDJKDrpYg6J"
      }
    },
    {
      "cell_type": "code",
      "source": [
        "res= n1/n2\n",
        "print(f\"Result is {res:.4f}\")"
      ],
      "metadata": {
        "colab": {
          "base_uri": "https://localhost:8080/"
        },
        "id": "poqEKvRQW3Vb",
        "outputId": "de7c13f9-a7ca-4d10-d5d1-7a1b58555108"
      },
      "execution_count": 29,
      "outputs": [
        {
          "output_type": "stream",
          "name": "stdout",
          "text": [
            "Result is 3.3333\n"
          ]
        }
      ]
    },
    {
      "cell_type": "code",
      "source": [
        "big_num = 145678909456789056789.67890900\n",
        "print(f\"Big number: {big_num:,.3f}\")"
      ],
      "metadata": {
        "colab": {
          "base_uri": "https://localhost:8080/"
        },
        "id": "V4n8jqeiYme6",
        "outputId": "8ebecda2-b906-4a8c-fe96-0dbbd26d04ca"
      },
      "execution_count": 30,
      "outputs": [
        {
          "output_type": "stream",
          "name": "stdout",
          "text": [
            "Big number: 145,678,909,456,789,061,632.000\n"
          ]
        }
      ]
    },
    {
      "cell_type": "markdown",
      "source": [
        "#Exercise"
      ],
      "metadata": {
        "id": "OXBvDZJAZ1AO"
      }
    },
    {
      "cell_type": "code",
      "source": [
        "stud_name = input(\"Enter your name:\")\n",
        "sc1 = int(input(\"Enter score 1:\"))\n",
        "sc2 = int(input(\"Enter score 2:\"))\n",
        "sc3=  int(input(\"Enter score 3:\"))\n",
        "print(\"My name is \"+ stud_name +\" my average score is \"+ str(((sc1+sc2+sc3)/3)))"
      ],
      "metadata": {
        "colab": {
          "base_uri": "https://localhost:8080/"
        },
        "id": "t2WCYyC5Z62O",
        "outputId": "fe93be1f-c05b-4b29-af9a-41810a8299c4"
      },
      "execution_count": 34,
      "outputs": [
        {
          "output_type": "stream",
          "name": "stdout",
          "text": [
            "Enter your name:priya\n",
            "Enter score 1:30\n",
            "Enter score 2:90\n",
            "Enter score 3:60\n",
            "My name is priya my average score is 60.0\n"
          ]
        }
      ]
    },
    {
      "cell_type": "markdown",
      "source": [
        "Excerice"
      ],
      "metadata": {
        "id": "Wvb95KOEcCJW"
      }
    },
    {
      "cell_type": "markdown",
      "source": [
        "Get three random numbers\n",
        "from 1 – 100 that are only\n",
        "multiples of 5.\n",
        "Show the numbers, sum\n",
        "them up and display your\n",
        "total score.\n",
        "(hints: use random)\n"
      ],
      "metadata": {
        "id": "ejh9TqtQQz4q"
      }
    },
    {
      "cell_type": "code",
      "source": [
        "import random\n",
        "num1 = random.choice(range(0,101,5))\n",
        "num2 = random.choice(range(0,101,5))\n",
        "num3 = random.choice(range(0,101,5))\n",
        "total = num1 +num2+num3\n",
        "print(f\" Total score {total}\")"
      ],
      "metadata": {
        "id": "RN07IRukcECB",
        "colab": {
          "base_uri": "https://localhost:8080/"
        },
        "outputId": "467587fc-2afe-4f8a-de72-9dd98af88b26"
      },
      "execution_count": 40,
      "outputs": [
        {
          "output_type": "stream",
          "name": "stdout",
          "text": [
            " Total score 150\n"
          ]
        }
      ]
    },
    {
      "cell_type": "markdown",
      "source": [
        "Prompt user to input the base and\n",
        "height of a right triangle.\n",
        "Compute and display – area, length\n",
        "of the third side (hypotenuse), and\n",
        "perimeter.\n",
        "(hints: use math)\n"
      ],
      "metadata": {
        "id": "WbDX0Sz9RAu0"
      }
    },
    {
      "cell_type": "code",
      "source": [
        "base = int(input(\"Enter the base of Triangle: \"))\n",
        "height = int(input(\"Enter the height of Triangle:\"))\n",
        "area = (1/2) * base * height\n",
        "hyp = math.sqrt((base ** 2) + (height ** 2))\n",
        "peri = base + height + hyp\n",
        "print(f'the area of triangle is {area}')\n",
        "print(f'the hypotenuse of triangle is {hyp}')\n",
        "print(f\"the perimeter of triangle is {peri}\")"
      ],
      "metadata": {
        "colab": {
          "base_uri": "https://localhost:8080/"
        },
        "id": "OKfWA3FTQzVu",
        "outputId": "8c56e481-84b6-4386-9313-3471aed47288"
      },
      "execution_count": 42,
      "outputs": [
        {
          "output_type": "stream",
          "name": "stdout",
          "text": [
            "Enter the base of Triangle: 3\n",
            "Enter the height of Triangle:4\n",
            "the area of triangle is 6.0\n",
            "the hypotenuse of triangle is 5.0\n",
            "the perimeter of triangle is 12.0\n"
          ]
        }
      ]
    },
    {
      "cell_type": "markdown",
      "source": [
        "Write a program that will ask a real state agent\n",
        "to enter the price of a house.\n",
        "• The program should compute a tax of 3% and\n",
        "display the amount of initial\n",
        "price, tax amount, and final price.\n",
        "• Use a caption titled \"House Price\", f-\n",
        "string format with 3 decimals.\n"
      ],
      "metadata": {
        "id": "dJbq715dSGjt"
      }
    },
    {
      "cell_type": "code",
      "source": [
        "price = float(input(\"Enter the price of the house: \"))\n",
        "tax = (price * 3) / 100\n",
        "print(f\"the price of the house is {price:,.3f} and tax is {tax:,.3f} in total {price+tax:,.3f}\")"
      ],
      "metadata": {
        "colab": {
          "base_uri": "https://localhost:8080/"
        },
        "id": "PrReJqq2R490",
        "outputId": "9bf167e8-bf22-4317-968d-f52bda6ddf33"
      },
      "execution_count": 46,
      "outputs": [
        {
          "output_type": "stream",
          "name": "stdout",
          "text": [
            "Enter the price of the house: 8943953.6597\n",
            "the price of the house is 8,943,953.660 and tax is 268,318.610 in total 9,212,272.269\n"
          ]
        }
      ]
    },
    {
      "cell_type": "markdown",
      "source": [
        "Write a program to enter the\n",
        "number of female and male students in the class.\n",
        "• The program should compute and display the\n",
        "percentage with each category.\n",
        "• Is it true that the number of male\n",
        "student is higher than the number of female\n",
        "student? Display it.\n"
      ],
      "metadata": {
        "id": "Siss4VqAS3ye"
      }
    },
    {
      "cell_type": "code",
      "source": [
        "male = int(input(\"Number of male students: \"))\n",
        "female = int(input(\"Number of female students: \"))\n",
        "p_m = (male / (male + female)) * 100\n",
        "p_f = (female / (male + female)) * 100\n",
        "print(\"the percentage of male students\", p_m)\n",
        "print(\"the percentage of female students\", p_f)\n",
        "print(f\"The number of male students is higher than the number of female students is {p_m > p_f }\")"
      ],
      "metadata": {
        "colab": {
          "base_uri": "https://localhost:8080/"
        },
        "id": "ewVl5zivS4HE",
        "outputId": "de94e02d-b37e-432f-9bee-ba6f66535f56"
      },
      "execution_count": 49,
      "outputs": [
        {
          "output_type": "stream",
          "name": "stdout",
          "text": [
            "Number of male students: 10\n",
            "Number of female students: 30\n",
            "the percentage of male students 25.0\n",
            "the percentage of female students 75.0\n",
            "The number of male students is higher than the number of female students is False\n"
          ]
        }
      ]
    },
    {
      "cell_type": "code",
      "source": [],
      "metadata": {
        "id": "4sINw94mTcsH"
      },
      "execution_count": null,
      "outputs": []
    }
  ]
}