{
  "nbformat": 4,
  "nbformat_minor": 0,
  "metadata": {
    "colab": {
      "provenance": []
    },
    "kernelspec": {
      "name": "python3",
      "display_name": "Python 3"
    },
    "language_info": {
      "name": "python"
    }
  },
  "cells": [
    {
      "cell_type": "code",
      "execution_count": 2,
      "metadata": {
        "id": "B1cmwp0WY39B",
        "colab": {
          "base_uri": "https://localhost:8080/"
        },
        "outputId": "e23e83a3-5754-4c6c-ae46-7d2f29285837"
      },
      "outputs": [
        {
          "output_type": "stream",
          "name": "stdout",
          "text": [
            "Enter age:50\n",
            "platinum membership\n"
          ]
        }
      ],
      "source": [
        "age = int(input(\"Enter age:\"))\n",
        "if age <= 18:\n",
        "  print(\"Minimum age requirement not met\")\n",
        "elif age<30:\n",
        "  print(\"Gold membership\")\n",
        "elif age <= 50:\n",
        "  print(\"platinum membership\")\n",
        "else:\n",
        "  print(\"Diamond membership\")"
      ]
    },
    {
      "cell_type": "code",
      "source": [
        "import random\n",
        "com_points = count = user_points = 0\n",
        "print(\"Welcome to Game!!\")\n",
        "start = input(\"Do you want to start the game> (Yes / No)\")\n",
        "if start.lower() == \"yes\":\n",
        "  while True:\n",
        "    count +=1\n",
        "    com_rand = random.randint(1,6)\n",
        "    user_rand = random.randint(1,6)\n",
        "    print(f\"Game: {count}\")\n",
        "    print (f\"Computer's number: {com_rand}\")\n",
        "    print(f\"User number: {user_rand}\")\n",
        "    if com_rand == user_rand:\n",
        "      print(\"Tie\")\n",
        "    elif com_rand >user_rand:\n",
        "      print(\"Computer wins\")\n",
        "      com_points +=10\n",
        "    else:\n",
        "      print(\"User wins\")\n",
        "      user_points +=10\n",
        "    play_again = input(\"Do you want to play again (yes/no)\")\n",
        "    if play_again.lower() == 'no':\n",
        "      break\n",
        "print(\"---------Scorecard---------------\")\n",
        "print()\n",
        "print(f\"Total game played: {count}\" )\n",
        "print(f\"Computer total points:{com_points }\")\n",
        "print(f\"User total points: {user_points}\")\n"
      ],
      "metadata": {
        "colab": {
          "base_uri": "https://localhost:8080/"
        },
        "id": "Hcgy52_aaKEu",
        "outputId": "cce5d2b0-01a0-497d-92a6-b05534f5fc38"
      },
      "execution_count": 5,
      "outputs": [
        {
          "output_type": "stream",
          "name": "stdout",
          "text": [
            "Welcome to Game!!\n",
            "Do you want to start the game> (Yes / No)yes\n",
            "Game: 1\n",
            "Computer's number: 5\n",
            "User number: 5\n",
            "Tie\n",
            "Do you want to play again (yes/no)yes\n",
            "Game: 2\n",
            "Computer's number: 1\n",
            "User number: 1\n",
            "Tie\n",
            "Do you want to play again (yes/no)yes\n",
            "Game: 3\n",
            "Computer's number: 2\n",
            "User number: 2\n",
            "Tie\n",
            "Do you want to play again (yes/no)yes\n",
            "Game: 4\n",
            "Computer's number: 6\n",
            "User number: 4\n",
            "Computer wins\n",
            "Do you want to play again (yes/no)yes\n",
            "Game: 5\n",
            "Computer's number: 1\n",
            "User number: 3\n",
            "User wins\n",
            "Do you want to play again (yes/no)no\n",
            "---------Scorecard---------------\n",
            "\n",
            "Total game played: 5\n",
            "Computer total points:10\n",
            "User total points: 10\n"
          ]
        }
      ]
    },
    {
      "cell_type": "code",
      "source": [
        "def double_space(sent):\n",
        "  wrds = sent.split()\n",
        "  new_sent = \"  \".join(wrds)\n",
        "  return new_sent\n",
        "double_space(\"Hello world\")"
      ],
      "metadata": {
        "colab": {
          "base_uri": "https://localhost:8080/",
          "height": 35
        },
        "id": "pRuBED8ffJDc",
        "outputId": "47a925fe-0aed-431d-e376-5a9332e924c9"
      },
      "execution_count": 6,
      "outputs": [
        {
          "output_type": "execute_result",
          "data": {
            "text/plain": [
              "'Hello  world'"
            ],
            "application/vnd.google.colaboratory.intrinsic+json": {
              "type": "string"
            }
          },
          "metadata": {},
          "execution_count": 6
        }
      ]
    },
    {
      "cell_type": "code",
      "source": [
        "res = lambda x : 'positive' if x>0 else 'negative' if x<0 else 'zero' if x ==0 else 'other'\n",
        "res(0)"
      ],
      "metadata": {
        "colab": {
          "base_uri": "https://localhost:8080/",
          "height": 35
        },
        "id": "gBEU6MApgpp-",
        "outputId": "5cefe31c-8425-463e-f61d-4b21a2dd3235"
      },
      "execution_count": 15,
      "outputs": [
        {
          "output_type": "execute_result",
          "data": {
            "text/plain": [
              "'zero'"
            ],
            "application/vnd.google.colaboratory.intrinsic+json": {
              "type": "string"
            }
          },
          "metadata": {},
          "execution_count": 15
        }
      ]
    },
    {
      "cell_type": "code",
      "source": [
        "def double_space(sent):\n",
        "  wrds = sent.split()\n",
        "  for i in wrds:\n",
        "    print(i,end=\"  \")\n",
        "\n",
        "double_space(\"Hello world Priya\")"
      ],
      "metadata": {
        "colab": {
          "base_uri": "https://localhost:8080/"
        },
        "id": "ni6eTxOnhL2Y",
        "outputId": "6593076f-5869-441f-de65-6cd531d38310"
      },
      "execution_count": 13,
      "outputs": [
        {
          "output_type": "stream",
          "name": "stdout",
          "text": [
            "Hello  world  Priya  "
          ]
        }
      ]
    },
    {
      "cell_type": "code",
      "source": [
        "for i in range(1,6):\n",
        "  print(i * \"*\" )"
      ],
      "metadata": {
        "colab": {
          "base_uri": "https://localhost:8080/"
        },
        "id": "rTAZ111YhZei",
        "outputId": "00e33c9b-8f9c-4be4-aeda-d09861bb1a1a"
      },
      "execution_count": 16,
      "outputs": [
        {
          "output_type": "stream",
          "name": "stdout",
          "text": [
            "*\n",
            "**\n",
            "***\n",
            "****\n",
            "*****\n"
          ]
        }
      ]
    },
    {
      "cell_type": "code",
      "source": [
        "for i in range (5,0,-1):\n",
        "  for j in range (i-1,0,-1):\n",
        "    print(\"*\",end=\"\")\n",
        "  for j in range (i-4,0,-1):\n",
        "    print(\" \",end=\"\")\n",
        "  print(\"\\n\")\n"
      ],
      "metadata": {
        "colab": {
          "base_uri": "https://localhost:8080/"
        },
        "id": "E9IXYwZkipwY",
        "outputId": "2487d5ef-25dd-4d52-a185-b96a15217ac2"
      },
      "execution_count": 24,
      "outputs": [
        {
          "output_type": "stream",
          "name": "stdout",
          "text": [
            "**** \n",
            "\n",
            "***\n",
            "\n",
            "**\n",
            "\n",
            "*\n",
            "\n",
            "\n",
            "\n"
          ]
        }
      ]
    },
    {
      "cell_type": "code",
      "source": [
        "for i in range(1,6):\n",
        "  for j in range(i):\n",
        "    print(\"*\", end=\" \")\n",
        "  print()"
      ],
      "metadata": {
        "colab": {
          "base_uri": "https://localhost:8080/"
        },
        "id": "iPo9SVbpjONK",
        "outputId": "ac316fe2-4d8f-4bef-fa5b-6e1233a53f34"
      },
      "execution_count": 25,
      "outputs": [
        {
          "output_type": "stream",
          "name": "stdout",
          "text": [
            "* \n",
            "* * \n",
            "* * * \n",
            "* * * * \n",
            "* * * * * \n"
          ]
        }
      ]
    },
    {
      "cell_type": "code",
      "source": [
        "for i in range(1,6):\n",
        "  for j in range(5-i):\n",
        "    print(\" \", end=\"\")\n",
        "  for j in range(i):\n",
        "    print(\"*\", end=\" \")\n",
        "  print()"
      ],
      "metadata": {
        "colab": {
          "base_uri": "https://localhost:8080/"
        },
        "id": "_GcI-HQJkXOT",
        "outputId": "a757f29d-2b1d-45e4-f066-b0f5e48aa05f"
      },
      "execution_count": 29,
      "outputs": [
        {
          "output_type": "stream",
          "name": "stdout",
          "text": [
            "    * \n",
            "   * * \n",
            "  * * * \n",
            " * * * * \n",
            "* * * * * \n"
          ]
        }
      ]
    },
    {
      "cell_type": "code",
      "source": [
        "rows = 5\n",
        "k = 2*rows-2\n",
        "for i in range(rows):\n",
        "    for j in range(k):\n",
        "        print(end=\" \")\n",
        "    k = k-2\n",
        "    for j in range(i+1):\n",
        "        print(\"*\", end=\" \")\n",
        "    print()"
      ],
      "metadata": {
        "colab": {
          "base_uri": "https://localhost:8080/"
        },
        "id": "nhEcWZm9k3aW",
        "outputId": "bbe9c9ef-0955-4415-b30a-25bd136bce3a"
      },
      "execution_count": 31,
      "outputs": [
        {
          "output_type": "stream",
          "name": "stdout",
          "text": [
            "        * \n",
            "      * * \n",
            "    * * * \n",
            "  * * * * \n",
            "* * * * * \n"
          ]
        }
      ]
    },
    {
      "cell_type": "code",
      "source": [],
      "metadata": {
        "id": "Ju4UQw6knnyx"
      },
      "execution_count": null,
      "outputs": []
    }
  ]
}