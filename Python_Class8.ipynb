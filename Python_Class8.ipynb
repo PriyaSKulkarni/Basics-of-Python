{
  "nbformat": 4,
  "nbformat_minor": 0,
  "metadata": {
    "colab": {
      "provenance": []
    },
    "kernelspec": {
      "name": "python3",
      "display_name": "Python 3"
    },
    "language_info": {
      "name": "python"
    }
  },
  "cells": [
    {
      "cell_type": "markdown",
      "source": [
        "ZIP:"
      ],
      "metadata": {
        "id": "4v9D22SXan6u"
      }
    },
    {
      "cell_type": "code",
      "source": [
        "fname= ['John','Stuart']\n",
        "lname = ['Smith','Johnson']\n",
        "res =list(zip(fname,lname))\n",
        "print(res)"
      ],
      "metadata": {
        "colab": {
          "base_uri": "https://localhost:8080/"
        },
        "id": "j9a5SyibHqG7",
        "outputId": "2b6893cd-ddf3-47a9-ba5d-040fe9e1812d"
      },
      "execution_count": null,
      "outputs": [
        {
          "output_type": "stream",
          "name": "stdout",
          "text": [
            "[('John', 'Smith'), ('Stuart', 'Johnson')]\n"
          ]
        }
      ]
    },
    {
      "cell_type": "code",
      "source": [
        "for i,k in zip(fname,lname):\n",
        "  print(i)\n",
        "  print(k)"
      ],
      "metadata": {
        "colab": {
          "base_uri": "https://localhost:8080/"
        },
        "id": "eBPEha7XbDaY",
        "outputId": "160f1ca8-c7e4-4cb7-ef64-4ca2f5d4b75b"
      },
      "execution_count": null,
      "outputs": [
        {
          "output_type": "stream",
          "name": "stdout",
          "text": [
            "John\n",
            "Smith\n",
            "Stuart\n",
            "Johnson\n"
          ]
        }
      ]
    },
    {
      "cell_type": "code",
      "source": [
        "for i,k in res:\n",
        "  print(i)\n",
        "  print(k)"
      ],
      "metadata": {
        "colab": {
          "base_uri": "https://localhost:8080/"
        },
        "id": "3MYkrTbObV3f",
        "outputId": "320cab39-0f03-447e-8a04-99f952dd8cef"
      },
      "execution_count": null,
      "outputs": [
        {
          "output_type": "stream",
          "name": "stdout",
          "text": [
            "John\n",
            "Smith\n",
            "Stuart\n",
            "Johnson\n"
          ]
        }
      ]
    },
    {
      "cell_type": "markdown",
      "source": [
        "Data structures:\n",
        "homework due march 5th --> 100 points"
      ],
      "metadata": {
        "id": "6z9cQ3B-HmjC"
      }
    },
    {
      "cell_type": "markdown",
      "source": [
        "List: can store any type of data type\n",
        "\n",
        "list can be multiplied\n",
        "\n",
        "list are mutable\n",
        "\n",
        "len() --> gives len of the list\n",
        "\n",
        "-1 is used for right to left indexing\n",
        "\n",
        "+= augmented assignment used to concatenate list\n",
        "\n",
        "Slice: span of items that are taken from sequence\n",
        "\n",
        "\n",
        "\n",
        "\n"
      ],
      "metadata": {
        "id": "bYqT1tc4Ix5O"
      }
    },
    {
      "cell_type": "code",
      "source": [
        "lst = []\n",
        "type(lst)"
      ],
      "metadata": {
        "colab": {
          "base_uri": "https://localhost:8080/"
        },
        "id": "hViRhRgvbcwY",
        "outputId": "250ef4dc-d92c-41c0-a75c-7a655b852f8c"
      },
      "execution_count": null,
      "outputs": [
        {
          "output_type": "execute_result",
          "data": {
            "text/plain": [
              "list"
            ]
          },
          "metadata": {},
          "execution_count": 19
        }
      ]
    },
    {
      "cell_type": "code",
      "source": [
        "lst = [10,20,30]\n"
      ],
      "metadata": {
        "id": "mdPuTbDacG3N"
      },
      "execution_count": null,
      "outputs": []
    },
    {
      "cell_type": "code",
      "source": [
        "lst * 2"
      ],
      "metadata": {
        "colab": {
          "base_uri": "https://localhost:8080/"
        },
        "id": "aerw0k9wcaiZ",
        "outputId": "1476ffd2-ddb6-42c6-82ee-84dc6150bc0e"
      },
      "execution_count": null,
      "outputs": [
        {
          "output_type": "execute_result",
          "data": {
            "text/plain": [
              "[10, 20, 30, 10, 20, 30]"
            ]
          },
          "metadata": {},
          "execution_count": 21
        }
      ]
    },
    {
      "cell_type": "code",
      "source": [
        "lst2 = [10]*5\n",
        "print(lst2)"
      ],
      "metadata": {
        "colab": {
          "base_uri": "https://localhost:8080/"
        },
        "id": "EckP6PTfccgT",
        "outputId": "5a047b44-d136-4536-caec-edcfd82504f5"
      },
      "execution_count": null,
      "outputs": [
        {
          "output_type": "stream",
          "name": "stdout",
          "text": [
            "[10, 10, 10, 10, 10]\n"
          ]
        }
      ]
    },
    {
      "cell_type": "markdown",
      "source": [
        "Concat of list"
      ],
      "metadata": {
        "id": "AqqV_936c2jQ"
      }
    },
    {
      "cell_type": "code",
      "source": [
        "lst3 = lst+lst2\n",
        "print(lst3)"
      ],
      "metadata": {
        "colab": {
          "base_uri": "https://localhost:8080/"
        },
        "id": "in1Vk0rJcqax",
        "outputId": "8ba9c274-c687-438c-bdec-c58cf1993b96"
      },
      "execution_count": null,
      "outputs": [
        {
          "output_type": "stream",
          "name": "stdout",
          "text": [
            "[10, 20, 30, 10, 10, 10, 10, 10]\n"
          ]
        }
      ]
    },
    {
      "cell_type": "code",
      "source": [
        "lst += lst2\n",
        "print(lst)\n",
        "print(lst2)"
      ],
      "metadata": {
        "colab": {
          "base_uri": "https://localhost:8080/"
        },
        "id": "2ohA8avrcy4K",
        "outputId": "81e965df-494c-47c6-d466-83ef1f6d5156"
      },
      "execution_count": null,
      "outputs": [
        {
          "output_type": "stream",
          "name": "stdout",
          "text": [
            "[10, 20, 30, 10, 10, 10, 10, 10]\n",
            "[10, 10, 10, 10, 10]\n"
          ]
        }
      ]
    },
    {
      "cell_type": "markdown",
      "source": [
        "Access to list"
      ],
      "metadata": {
        "id": "Naz6w6U1eDtQ"
      }
    },
    {
      "cell_type": "code",
      "source": [
        "lst = [10,20,30,40,50,60,70]\n"
      ],
      "metadata": {
        "id": "7HJglQTwdFyM"
      },
      "execution_count": null,
      "outputs": []
    },
    {
      "cell_type": "code",
      "source": [
        "lst[0]"
      ],
      "metadata": {
        "colab": {
          "base_uri": "https://localhost:8080/"
        },
        "id": "tpLqrR3UeKzY",
        "outputId": "5672b698-cb37-4b4d-e25e-08b3e70ee0a3"
      },
      "execution_count": null,
      "outputs": [
        {
          "output_type": "execute_result",
          "data": {
            "text/plain": [
              "10"
            ]
          },
          "metadata": {},
          "execution_count": 26
        }
      ]
    },
    {
      "cell_type": "code",
      "source": [
        "lst[-2]"
      ],
      "metadata": {
        "colab": {
          "base_uri": "https://localhost:8080/"
        },
        "id": "HONQWMVXeNqq",
        "outputId": "13dff2b6-a56a-4d18-d49e-6f82b9a11b00"
      },
      "execution_count": null,
      "outputs": [
        {
          "output_type": "execute_result",
          "data": {
            "text/plain": [
              "60"
            ]
          },
          "metadata": {},
          "execution_count": 27
        }
      ]
    },
    {
      "cell_type": "code",
      "source": [
        "lst[10]"
      ],
      "metadata": {
        "colab": {
          "base_uri": "https://localhost:8080/",
          "height": 141
        },
        "id": "065DqrEKeSNw",
        "outputId": "fd1d5592-a5d2-46c0-a33a-82e89390adcc"
      },
      "execution_count": null,
      "outputs": [
        {
          "output_type": "error",
          "ename": "IndexError",
          "evalue": "list index out of range",
          "traceback": [
            "\u001b[0;31m---------------------------------------------------------------------------\u001b[0m",
            "\u001b[0;31mIndexError\u001b[0m                                Traceback (most recent call last)",
            "\u001b[0;32m<ipython-input-28-655442512158>\u001b[0m in \u001b[0;36m<cell line: 1>\u001b[0;34m()\u001b[0m\n\u001b[0;32m----> 1\u001b[0;31m \u001b[0mlst\u001b[0m\u001b[0;34m[\u001b[0m\u001b[0;36m10\u001b[0m\u001b[0;34m]\u001b[0m\u001b[0;34m\u001b[0m\u001b[0;34m\u001b[0m\u001b[0m\n\u001b[0m",
            "\u001b[0;31mIndexError\u001b[0m: list index out of range"
          ]
        }
      ]
    },
    {
      "cell_type": "code",
      "source": [
        "lst[0] = 100"
      ],
      "metadata": {
        "id": "uANCGjDqee0C"
      },
      "execution_count": null,
      "outputs": []
    },
    {
      "cell_type": "code",
      "source": [
        "print(lst)"
      ],
      "metadata": {
        "colab": {
          "base_uri": "https://localhost:8080/"
        },
        "id": "tk-U4Pk2fBd6",
        "outputId": "32f10664-b626-479c-8327-26493999cf42"
      },
      "execution_count": null,
      "outputs": [
        {
          "output_type": "stream",
          "name": "stdout",
          "text": [
            "[100, 20, 30, 40, 50, 60, 70]\n"
          ]
        }
      ]
    },
    {
      "cell_type": "code",
      "source": [
        "lst[-2] = ['UNT','UTA']"
      ],
      "metadata": {
        "id": "EV2Xsl2ffEgn"
      },
      "execution_count": null,
      "outputs": []
    },
    {
      "cell_type": "code",
      "source": [
        "lst"
      ],
      "metadata": {
        "colab": {
          "base_uri": "https://localhost:8080/"
        },
        "id": "dE15fB1lfUfU",
        "outputId": "ce27c5d8-7900-4d96-b7d8-c78e100b8618"
      },
      "execution_count": null,
      "outputs": [
        {
          "output_type": "execute_result",
          "data": {
            "text/plain": [
              "[100, 20, 30, 40, 50, ['UNT', 'UTA'], 70]"
            ]
          },
          "metadata": {},
          "execution_count": 34
        }
      ]
    },
    {
      "cell_type": "markdown",
      "source": [
        "Slicing"
      ],
      "metadata": {
        "id": "eJOMcjcuft2U"
      }
    },
    {
      "cell_type": "code",
      "source": [
        "lst = [10,20,30,40,50,60,70]"
      ],
      "metadata": {
        "id": "KlSm4UmbfU_e"
      },
      "execution_count": null,
      "outputs": []
    },
    {
      "cell_type": "code",
      "source": [
        "lst[1:5]"
      ],
      "metadata": {
        "colab": {
          "base_uri": "https://localhost:8080/"
        },
        "id": "P4wedvNOfwtq",
        "outputId": "ab67c36e-e317-42e7-f1cc-3798a9887df1"
      },
      "execution_count": null,
      "outputs": [
        {
          "output_type": "execute_result",
          "data": {
            "text/plain": [
              "[20, 30, 40, 50]"
            ]
          },
          "metadata": {},
          "execution_count": 36
        }
      ]
    },
    {
      "cell_type": "code",
      "source": [
        "lst[:2]"
      ],
      "metadata": {
        "colab": {
          "base_uri": "https://localhost:8080/"
        },
        "id": "DwfQOUOTfy0e",
        "outputId": "7066c217-d31b-4f49-9182-1ad27d30cf2c"
      },
      "execution_count": null,
      "outputs": [
        {
          "output_type": "execute_result",
          "data": {
            "text/plain": [
              "[10, 20]"
            ]
          },
          "metadata": {},
          "execution_count": 37
        }
      ]
    },
    {
      "cell_type": "code",
      "source": [
        "lst[:-2]"
      ],
      "metadata": {
        "colab": {
          "base_uri": "https://localhost:8080/"
        },
        "id": "-xZTfv0kgS8d",
        "outputId": "57d29a9d-ae49-454e-d235-3d176ccd2633"
      },
      "execution_count": null,
      "outputs": [
        {
          "output_type": "execute_result",
          "data": {
            "text/plain": [
              "[10, 20, 30, 40, 50]"
            ]
          },
          "metadata": {},
          "execution_count": 38
        }
      ]
    },
    {
      "cell_type": "code",
      "source": [
        "lst[-3:-1]"
      ],
      "metadata": {
        "colab": {
          "base_uri": "https://localhost:8080/"
        },
        "id": "Hwo2XKpngWC4",
        "outputId": "b290128d-e4b9-462d-b223-254286a6b834"
      },
      "execution_count": null,
      "outputs": [
        {
          "output_type": "execute_result",
          "data": {
            "text/plain": [
              "[50, 60]"
            ]
          },
          "metadata": {},
          "execution_count": 40
        }
      ]
    },
    {
      "cell_type": "code",
      "source": [
        "lst[2:]"
      ],
      "metadata": {
        "colab": {
          "base_uri": "https://localhost:8080/"
        },
        "id": "hrP9LxLdgd0f",
        "outputId": "928c7751-5916-418c-d0f6-981a48aa272b"
      },
      "execution_count": null,
      "outputs": [
        {
          "output_type": "execute_result",
          "data": {
            "text/plain": [
              "[30, 40, 50, 60, 70]"
            ]
          },
          "metadata": {},
          "execution_count": 41
        }
      ]
    },
    {
      "cell_type": "code",
      "source": [
        "lst[-2:]"
      ],
      "metadata": {
        "colab": {
          "base_uri": "https://localhost:8080/"
        },
        "id": "mPOx4VsFgmsy",
        "outputId": "6d1464ca-729b-419c-87af-35ac282a44db"
      },
      "execution_count": null,
      "outputs": [
        {
          "output_type": "execute_result",
          "data": {
            "text/plain": [
              "[60, 70]"
            ]
          },
          "metadata": {},
          "execution_count": 42
        }
      ]
    },
    {
      "cell_type": "code",
      "source": [
        "lst[:-2]"
      ],
      "metadata": {
        "colab": {
          "base_uri": "https://localhost:8080/"
        },
        "id": "cqB5OATQgtJd",
        "outputId": "01c76ba1-a460-4397-f9a1-20c495f4486b"
      },
      "execution_count": null,
      "outputs": [
        {
          "output_type": "execute_result",
          "data": {
            "text/plain": [
              "[10, 20, 30, 40, 50]"
            ]
          },
          "metadata": {},
          "execution_count": 43
        }
      ]
    },
    {
      "cell_type": "code",
      "source": [
        "lst[::]"
      ],
      "metadata": {
        "colab": {
          "base_uri": "https://localhost:8080/"
        },
        "id": "Da0X-ALjhClu",
        "outputId": "80af1c7e-db75-4837-e601-7ee979ecaff7"
      },
      "execution_count": null,
      "outputs": [
        {
          "output_type": "execute_result",
          "data": {
            "text/plain": [
              "[10, 20, 30, 40, 50, 60, 70]"
            ]
          },
          "metadata": {},
          "execution_count": 44
        }
      ]
    },
    {
      "cell_type": "code",
      "source": [
        "lst[-6:-2:-1]"
      ],
      "metadata": {
        "colab": {
          "base_uri": "https://localhost:8080/"
        },
        "id": "wr_YOiVGhMjH",
        "outputId": "81855a9e-1f31-48ae-941b-c53ba81d5ac9"
      },
      "execution_count": null,
      "outputs": [
        {
          "output_type": "execute_result",
          "data": {
            "text/plain": [
              "[]"
            ]
          },
          "metadata": {},
          "execution_count": 45
        }
      ]
    },
    {
      "cell_type": "code",
      "source": [
        "lst[-2:-6:-1]"
      ],
      "metadata": {
        "colab": {
          "base_uri": "https://localhost:8080/"
        },
        "id": "yCbRzSZuhcIf",
        "outputId": "548c5493-44f9-49e8-c8d1-dd9ab2ee4f4d"
      },
      "execution_count": null,
      "outputs": [
        {
          "output_type": "execute_result",
          "data": {
            "text/plain": [
              "[60, 50, 40, 30]"
            ]
          },
          "metadata": {},
          "execution_count": 46
        }
      ]
    },
    {
      "cell_type": "code",
      "source": [
        "lst[-6:-2:1]"
      ],
      "metadata": {
        "colab": {
          "base_uri": "https://localhost:8080/"
        },
        "id": "sJfYGGqhhrwT",
        "outputId": "d3d39143-bf92-423a-a1cd-0f759bb7da3f"
      },
      "execution_count": null,
      "outputs": [
        {
          "output_type": "execute_result",
          "data": {
            "text/plain": [
              "[20, 30, 40, 50]"
            ]
          },
          "metadata": {},
          "execution_count": 47
        }
      ]
    },
    {
      "cell_type": "code",
      "source": [
        "lst[3:0:-2]"
      ],
      "metadata": {
        "colab": {
          "base_uri": "https://localhost:8080/"
        },
        "id": "M08DYU7wiFEM",
        "outputId": "8f3b1a04-dfef-4526-d1b2-37c1d4beed57"
      },
      "execution_count": null,
      "outputs": [
        {
          "output_type": "execute_result",
          "data": {
            "text/plain": [
              "[40, 20]"
            ]
          },
          "metadata": {},
          "execution_count": 48
        }
      ]
    },
    {
      "cell_type": "code",
      "source": [
        "lst[3:0:2]"
      ],
      "metadata": {
        "colab": {
          "base_uri": "https://localhost:8080/"
        },
        "id": "Dk_0HloFioIv",
        "outputId": "73556963-45a9-4b3a-d830-9fbf578443ff"
      },
      "execution_count": null,
      "outputs": [
        {
          "output_type": "execute_result",
          "data": {
            "text/plain": [
              "[]"
            ]
          },
          "metadata": {},
          "execution_count": 49
        }
      ]
    },
    {
      "cell_type": "code",
      "source": [
        "lst[3:0:-1]"
      ],
      "metadata": {
        "colab": {
          "base_uri": "https://localhost:8080/"
        },
        "id": "D4O3EhSEjBom",
        "outputId": "3533b53f-8202-4b06-aae0-4e8121c22554"
      },
      "execution_count": null,
      "outputs": [
        {
          "output_type": "execute_result",
          "data": {
            "text/plain": [
              "[40, 30, 20]"
            ]
          },
          "metadata": {},
          "execution_count": 50
        }
      ]
    },
    {
      "cell_type": "code",
      "source": [
        "lst[1:4:-1]"
      ],
      "metadata": {
        "colab": {
          "base_uri": "https://localhost:8080/"
        },
        "id": "FMhR6a_CjcWS",
        "outputId": "b3b2db1b-3d43-48bb-d24a-e478d94eb83f"
      },
      "execution_count": null,
      "outputs": [
        {
          "output_type": "execute_result",
          "data": {
            "text/plain": [
              "[]"
            ]
          },
          "metadata": {},
          "execution_count": 51
        }
      ]
    },
    {
      "cell_type": "code",
      "source": [
        "lst[::-2]"
      ],
      "metadata": {
        "colab": {
          "base_uri": "https://localhost:8080/"
        },
        "id": "1FX1vJMyjmS3",
        "outputId": "e37292e1-171f-4725-e627-06ede739f1ef"
      },
      "execution_count": null,
      "outputs": [
        {
          "output_type": "execute_result",
          "data": {
            "text/plain": [
              "[70, 50, 30, 10]"
            ]
          },
          "metadata": {},
          "execution_count": 52
        }
      ]
    },
    {
      "cell_type": "code",
      "source": [
        "lst[-1:-6:-2]"
      ],
      "metadata": {
        "colab": {
          "base_uri": "https://localhost:8080/"
        },
        "id": "ETkaQpBfjrw4",
        "outputId": "d9c0a116-89fe-4e56-8b9c-23ca6d06bc55"
      },
      "execution_count": null,
      "outputs": [
        {
          "output_type": "execute_result",
          "data": {
            "text/plain": [
              "[70, 50, 30]"
            ]
          },
          "metadata": {},
          "execution_count": 53
        }
      ]
    },
    {
      "cell_type": "code",
      "source": [
        "lst[:-2:]"
      ],
      "metadata": {
        "colab": {
          "base_uri": "https://localhost:8080/"
        },
        "id": "o5lQNIXCkGCS",
        "outputId": "4023a95e-3d4b-42c4-fcf0-2a9266bcd7d9"
      },
      "execution_count": null,
      "outputs": [
        {
          "output_type": "execute_result",
          "data": {
            "text/plain": [
              "[10, 20, 30, 40, 50]"
            ]
          },
          "metadata": {},
          "execution_count": 54
        }
      ]
    },
    {
      "cell_type": "markdown",
      "source": [
        "two Dimension"
      ],
      "metadata": {
        "id": "7-2lPV2LkDJH"
      }
    },
    {
      "cell_type": "code",
      "source": [
        "lst=['UNT',10000,[10,20],5.5]"
      ],
      "metadata": {
        "id": "Rf__6_0jj1al"
      },
      "execution_count": null,
      "outputs": []
    },
    {
      "cell_type": "code",
      "source": [
        "lst[0]"
      ],
      "metadata": {
        "colab": {
          "base_uri": "https://localhost:8080/",
          "height": 35
        },
        "id": "vmvJ6XMXk2oU",
        "outputId": "1a35ffc6-2e3c-4bf8-8b14-46f4a8148648"
      },
      "execution_count": null,
      "outputs": [
        {
          "output_type": "execute_result",
          "data": {
            "text/plain": [
              "'UNT'"
            ],
            "application/vnd.google.colaboratory.intrinsic+json": {
              "type": "string"
            }
          },
          "metadata": {},
          "execution_count": 57
        }
      ]
    },
    {
      "cell_type": "code",
      "source": [
        "lst[-2]"
      ],
      "metadata": {
        "colab": {
          "base_uri": "https://localhost:8080/"
        },
        "id": "aWl0jHCNk7mI",
        "outputId": "bd9a5b34-7181-49c9-861e-95f5072faa33"
      },
      "execution_count": null,
      "outputs": [
        {
          "output_type": "execute_result",
          "data": {
            "text/plain": [
              "[10, 20]"
            ]
          },
          "metadata": {},
          "execution_count": 58
        }
      ]
    },
    {
      "cell_type": "code",
      "source": [
        "len(lst)"
      ],
      "metadata": {
        "colab": {
          "base_uri": "https://localhost:8080/"
        },
        "id": "C7vDjuygk8xm",
        "outputId": "f91720fb-c7f9-4f27-f9b3-b73ce0caa92d"
      },
      "execution_count": null,
      "outputs": [
        {
          "output_type": "execute_result",
          "data": {
            "text/plain": [
              "4"
            ]
          },
          "metadata": {},
          "execution_count": 59
        }
      ]
    },
    {
      "cell_type": "code",
      "source": [
        "lst[-2][0]"
      ],
      "metadata": {
        "colab": {
          "base_uri": "https://localhost:8080/"
        },
        "id": "7pk2S2gUk91h",
        "outputId": "6cfc86dd-c0a3-4d48-d5bc-a3fe5e10a4f9"
      },
      "execution_count": null,
      "outputs": [
        {
          "output_type": "execute_result",
          "data": {
            "text/plain": [
              "10"
            ]
          },
          "metadata": {},
          "execution_count": 61
        }
      ]
    },
    {
      "cell_type": "code",
      "source": [
        "lst=['UNT',10000,[10,20,['UTA','UTD']],5.5]"
      ],
      "metadata": {
        "id": "oI3U3tdnlInU"
      },
      "execution_count": null,
      "outputs": []
    },
    {
      "cell_type": "code",
      "source": [
        "lst[-2][-1][0]"
      ],
      "metadata": {
        "colab": {
          "base_uri": "https://localhost:8080/",
          "height": 35
        },
        "id": "JIc5Rj4qlle3",
        "outputId": "1576212d-1b72-41ae-df00-606aff374436"
      },
      "execution_count": null,
      "outputs": [
        {
          "output_type": "execute_result",
          "data": {
            "text/plain": [
              "'UTA'"
            ],
            "application/vnd.google.colaboratory.intrinsic+json": {
              "type": "string"
            }
          },
          "metadata": {},
          "execution_count": 63
        }
      ]
    },
    {
      "cell_type": "code",
      "source": [
        "lst[-2][-1][1]"
      ],
      "metadata": {
        "colab": {
          "base_uri": "https://localhost:8080/",
          "height": 35
        },
        "id": "sXJFbxMXlpFv",
        "outputId": "2364d24c-4210-4ffe-8802-2f8cb47347d2"
      },
      "execution_count": null,
      "outputs": [
        {
          "output_type": "execute_result",
          "data": {
            "text/plain": [
              "'UTD'"
            ],
            "application/vnd.google.colaboratory.intrinsic+json": {
              "type": "string"
            }
          },
          "metadata": {},
          "execution_count": 64
        }
      ]
    },
    {
      "cell_type": "markdown",
      "source": [
        "Methods"
      ],
      "metadata": {
        "id": "8JsddvnlmF-i"
      }
    },
    {
      "cell_type": "code",
      "source": [
        "lst = ['UNT','KU','UTD']"
      ],
      "metadata": {
        "id": "6yzYYAUClqxn"
      },
      "execution_count": null,
      "outputs": []
    },
    {
      "cell_type": "code",
      "source": [
        "lst.append('UTA')"
      ],
      "metadata": {
        "id": "hr0ou-uzml5t"
      },
      "execution_count": null,
      "outputs": []
    },
    {
      "cell_type": "code",
      "source": [
        "lst.append(['UTA','UTN'])"
      ],
      "metadata": {
        "id": "wtmVKNGvmqXu"
      },
      "execution_count": null,
      "outputs": []
    },
    {
      "cell_type": "code",
      "source": [
        "lst"
      ],
      "metadata": {
        "colab": {
          "base_uri": "https://localhost:8080/"
        },
        "id": "Jpc0gc9Cms7T",
        "outputId": "1083459f-0140-4162-e91b-a0d87b2a2ced"
      },
      "execution_count": null,
      "outputs": [
        {
          "output_type": "execute_result",
          "data": {
            "text/plain": [
              "['UNT', 'KU', 'UTD', 'UTA', ['UTA', 'UTN']]"
            ]
          },
          "metadata": {},
          "execution_count": 69
        }
      ]
    },
    {
      "cell_type": "code",
      "source": [
        "lst = ['UNT','KU','UTD']\n",
        "lst.append('UTA')"
      ],
      "metadata": {
        "id": "mqmZKg-Wmv84"
      },
      "execution_count": null,
      "outputs": []
    },
    {
      "cell_type": "code",
      "source": [
        "lst.extend(['TWU','TCU'])"
      ],
      "metadata": {
        "id": "DosKBreum0S7"
      },
      "execution_count": null,
      "outputs": []
    },
    {
      "cell_type": "code",
      "source": [
        "lst"
      ],
      "metadata": {
        "colab": {
          "base_uri": "https://localhost:8080/"
        },
        "id": "klSVgvy4nMHx",
        "outputId": "7034291a-27e7-4934-bfd2-7c80d481e3a2"
      },
      "execution_count": null,
      "outputs": [
        {
          "output_type": "execute_result",
          "data": {
            "text/plain": [
              "['UNT', 'KU', 'UTD', 'UTA', 'TWU', 'TCU']"
            ]
          },
          "metadata": {},
          "execution_count": 74
        }
      ]
    },
    {
      "cell_type": "code",
      "source": [
        "lst.insert(2,'NSW')\n",
        "lst.insert(2,'SMU')"
      ],
      "metadata": {
        "id": "iccbpowEnNAM"
      },
      "execution_count": null,
      "outputs": []
    },
    {
      "cell_type": "code",
      "source": [
        "lst"
      ],
      "metadata": {
        "colab": {
          "base_uri": "https://localhost:8080/"
        },
        "id": "zu6UuP68nTtv",
        "outputId": "c5dd8e9c-c75b-4169-8dd6-21a6e85d611b"
      },
      "execution_count": null,
      "outputs": [
        {
          "output_type": "execute_result",
          "data": {
            "text/plain": [
              "['UNT', 'KU', 'SMU', 'NSW', 'UTD', 'UTA', 'TWU', 'TCU']"
            ]
          },
          "metadata": {},
          "execution_count": 79
        }
      ]
    },
    {
      "cell_type": "code",
      "source": [
        "lst.index('UTA')"
      ],
      "metadata": {
        "colab": {
          "base_uri": "https://localhost:8080/"
        },
        "id": "rSoib04gnYFQ",
        "outputId": "7eec7c14-24de-4f76-b7fa-04b38d74f285"
      },
      "execution_count": null,
      "outputs": [
        {
          "output_type": "execute_result",
          "data": {
            "text/plain": [
              "5"
            ]
          },
          "metadata": {},
          "execution_count": 82
        }
      ]
    },
    {
      "cell_type": "code",
      "source": [
        "lst.index('ABC')"
      ],
      "metadata": {
        "colab": {
          "base_uri": "https://localhost:8080/",
          "height": 141
        },
        "id": "H4wEFVmlng4G",
        "outputId": "391b366d-3192-4ca9-d428-8ae86e73b8f3"
      },
      "execution_count": null,
      "outputs": [
        {
          "output_type": "error",
          "ename": "ValueError",
          "evalue": "'ABC' is not in list",
          "traceback": [
            "\u001b[0;31m---------------------------------------------------------------------------\u001b[0m",
            "\u001b[0;31mValueError\u001b[0m                                Traceback (most recent call last)",
            "\u001b[0;32m<ipython-input-83-a343df1dad5f>\u001b[0m in \u001b[0;36m<cell line: 1>\u001b[0;34m()\u001b[0m\n\u001b[0;32m----> 1\u001b[0;31m \u001b[0mlst\u001b[0m\u001b[0;34m.\u001b[0m\u001b[0mindex\u001b[0m\u001b[0;34m(\u001b[0m\u001b[0;34m'ABC'\u001b[0m\u001b[0;34m)\u001b[0m\u001b[0;34m\u001b[0m\u001b[0;34m\u001b[0m\u001b[0m\n\u001b[0m",
            "\u001b[0;31mValueError\u001b[0m: 'ABC' is not in list"
          ]
        }
      ]
    },
    {
      "cell_type": "code",
      "source": [
        "lst.count('UTA') # how many times the UTA occured"
      ],
      "metadata": {
        "colab": {
          "base_uri": "https://localhost:8080/"
        },
        "id": "M-VXt5OZnnFC",
        "outputId": "116e33b4-b199-46e4-abc9-b62dc944e629"
      },
      "execution_count": null,
      "outputs": [
        {
          "output_type": "execute_result",
          "data": {
            "text/plain": [
              "1"
            ]
          },
          "metadata": {},
          "execution_count": 84
        }
      ]
    },
    {
      "cell_type": "code",
      "source": [
        "lst.sort()#sort the list"
      ],
      "metadata": {
        "id": "Xuxg5bKqnr-V"
      },
      "execution_count": null,
      "outputs": []
    },
    {
      "cell_type": "code",
      "source": [
        "lst"
      ],
      "metadata": {
        "colab": {
          "base_uri": "https://localhost:8080/"
        },
        "id": "b4pXogC3ntJV",
        "outputId": "08d9e682-a276-4729-8050-9fca85546396"
      },
      "execution_count": null,
      "outputs": [
        {
          "output_type": "execute_result",
          "data": {
            "text/plain": [
              "['KU', 'NSW', 'SMU', 'TCU', 'TWU', 'UNT', 'UTA', 'UTD']"
            ]
          },
          "metadata": {},
          "execution_count": 87
        }
      ]
    },
    {
      "cell_type": "code",
      "source": [
        "lst.sort(reverse=True)"
      ],
      "metadata": {
        "id": "sqK0aUdxn1Jr"
      },
      "execution_count": null,
      "outputs": []
    },
    {
      "cell_type": "code",
      "source": [
        "lst"
      ],
      "metadata": {
        "colab": {
          "base_uri": "https://localhost:8080/"
        },
        "id": "rSuNfckfn94-",
        "outputId": "80e4e41a-95b1-4cba-80a1-dfd3a7d585e4"
      },
      "execution_count": null,
      "outputs": [
        {
          "output_type": "execute_result",
          "data": {
            "text/plain": [
              "['UTD', 'UTA', 'UNT', 'TWU', 'TCU', 'SMU', 'NSW', 'KU']"
            ]
          },
          "metadata": {},
          "execution_count": 89
        }
      ]
    },
    {
      "cell_type": "code",
      "source": [
        "lst.sort(key = lambda x:len(x)) # sort based on length"
      ],
      "metadata": {
        "id": "k2tenjTan-VW"
      },
      "execution_count": null,
      "outputs": []
    },
    {
      "cell_type": "code",
      "source": [
        "lst"
      ],
      "metadata": {
        "colab": {
          "base_uri": "https://localhost:8080/"
        },
        "id": "4TplmfHcobEm",
        "outputId": "bb749650-917f-4546-e868-7f19a8eea19b"
      },
      "execution_count": null,
      "outputs": [
        {
          "output_type": "execute_result",
          "data": {
            "text/plain": [
              "['KU', 'UTD', 'UTA', 'UNT', 'TWU', 'TCU', 'SMU', 'NSW']"
            ]
          },
          "metadata": {},
          "execution_count": 93
        }
      ]
    },
    {
      "cell_type": "code",
      "source": [
        "lst =['grape','lemonade','apples']\n",
        "lst.sort(key=lambda x : x[-2])\n",
        "print(lst)"
      ],
      "metadata": {
        "colab": {
          "base_uri": "https://localhost:8080/"
        },
        "id": "75bFT-Y9obiO",
        "outputId": "fe00cc40-6529-4f3a-c96a-263642f0de81"
      },
      "execution_count": null,
      "outputs": [
        {
          "output_type": "stream",
          "name": "stdout",
          "text": [
            "['lemonade', 'apples', 'grape']\n"
          ]
        }
      ]
    },
    {
      "cell_type": "markdown",
      "source": [
        "List Comprehension"
      ],
      "metadata": {
        "id": "2eiqqBkTp63M"
      }
    },
    {
      "cell_type": "code",
      "source": [
        "lst = [1,3,5]\n",
        "#o/p [3,5,7]"
      ],
      "metadata": {
        "id": "qMd2OJHNo8h2"
      },
      "execution_count": null,
      "outputs": []
    },
    {
      "cell_type": "code",
      "source": [
        "lst = list(map(lambda x : x+2,lst))"
      ],
      "metadata": {
        "id": "2xH9DTKHqG7v"
      },
      "execution_count": null,
      "outputs": []
    },
    {
      "cell_type": "code",
      "source": [
        "lst"
      ],
      "metadata": {
        "colab": {
          "base_uri": "https://localhost:8080/"
        },
        "id": "7je7XEFaqk3s",
        "outputId": "c48f2127-c508-4e06-9d5f-1da4da436396"
      },
      "execution_count": null,
      "outputs": [
        {
          "output_type": "execute_result",
          "data": {
            "text/plain": [
              "[3, 5, 7]"
            ]
          },
          "metadata": {},
          "execution_count": 100
        }
      ]
    },
    {
      "cell_type": "code",
      "source": [
        "lst = [1,3,5]\n",
        "#o/p [3,5,7]\n",
        "lst2 =[]\n",
        "for i in lst:\n",
        "  lst2.append(i+2)\n",
        "print(lst2)\n"
      ],
      "metadata": {
        "colab": {
          "base_uri": "https://localhost:8080/"
        },
        "id": "CSCt5sCGqnn4",
        "outputId": "3389a4e0-8b6b-4d35-dc24-7c63a4dfe3ba"
      },
      "execution_count": null,
      "outputs": [
        {
          "output_type": "stream",
          "name": "stdout",
          "text": [
            "[3, 5, 7]\n"
          ]
        }
      ]
    },
    {
      "cell_type": "code",
      "source": [
        "#res = [expression for i in iterable condition]\n",
        "lst = [1,3,5]\n",
        "#o/p [3,5,7]\n",
        "res = [i+2 for i in lst]\n",
        "res"
      ],
      "metadata": {
        "colab": {
          "base_uri": "https://localhost:8080/"
        },
        "id": "rhhErhD_qxn3",
        "outputId": "94adeaa5-ec20-401d-dff8-4ecef3b9b62a"
      },
      "execution_count": null,
      "outputs": [
        {
          "output_type": "execute_result",
          "data": {
            "text/plain": [
              "[3, 5, 7]"
            ]
          },
          "metadata": {},
          "execution_count": 107
        }
      ]
    },
    {
      "cell_type": "code",
      "source": [
        "res = [i**2 for i in lst]\n",
        "res"
      ],
      "metadata": {
        "colab": {
          "base_uri": "https://localhost:8080/"
        },
        "id": "4Y0zRPPFrGkW",
        "outputId": "f51411c9-2e2c-4e48-c4a8-d692d039e8d9"
      },
      "execution_count": null,
      "outputs": [
        {
          "output_type": "execute_result",
          "data": {
            "text/plain": [
              "[1, 9, 25]"
            ]
          },
          "metadata": {},
          "execution_count": 108
        }
      ]
    },
    {
      "cell_type": "code",
      "source": [
        "res = [i+2 for i in lst if i>2]\n",
        "res"
      ],
      "metadata": {
        "colab": {
          "base_uri": "https://localhost:8080/"
        },
        "id": "1lUAnRu1rZmX",
        "outputId": "03bde076-0538-4249-c7f8-5ea875d86057"
      },
      "execution_count": null,
      "outputs": [
        {
          "output_type": "execute_result",
          "data": {
            "text/plain": [
              "[5, 7]"
            ]
          },
          "metadata": {},
          "execution_count": 109
        }
      ]
    },
    {
      "cell_type": "code",
      "source": [
        "res = [i**2 for i in lst if i>2]\n",
        "res"
      ],
      "metadata": {
        "colab": {
          "base_uri": "https://localhost:8080/"
        },
        "id": "-DfZycNHrnCj",
        "outputId": "ab98c836-9bde-4a68-d02f-582f2bbda411"
      },
      "execution_count": null,
      "outputs": [
        {
          "output_type": "execute_result",
          "data": {
            "text/plain": [
              "[9, 25]"
            ]
          },
          "metadata": {},
          "execution_count": 111
        }
      ]
    },
    {
      "cell_type": "code",
      "source": [
        "res = [i**2 for i in range(1,11)]\n",
        "res"
      ],
      "metadata": {
        "id": "CPjIzLMJry6z",
        "colab": {
          "base_uri": "https://localhost:8080/"
        },
        "outputId": "e8e2c8cf-c928-44d9-ea1b-6f0c698d828a"
      },
      "execution_count": null,
      "outputs": [
        {
          "output_type": "execute_result",
          "data": {
            "text/plain": [
              "[1, 4, 9, 16, 25, 36, 49, 64, 81, 100]"
            ]
          },
          "metadata": {},
          "execution_count": 3
        }
      ]
    },
    {
      "cell_type": "code",
      "source": [
        "res = [i**2 for i in range(1,11) if i%2 ==0]\n",
        "res"
      ],
      "metadata": {
        "colab": {
          "base_uri": "https://localhost:8080/"
        },
        "id": "HfPLL6PANnXl",
        "outputId": "90485537-6979-45ab-f79d-4286ba358b5d"
      },
      "execution_count": null,
      "outputs": [
        {
          "output_type": "execute_result",
          "data": {
            "text/plain": [
              "[4, 16, 36, 64, 100]"
            ]
          },
          "metadata": {},
          "execution_count": 4
        }
      ]
    },
    {
      "cell_type": "code",
      "source": [
        "res = [i for i in range(1,101) if i%5 ==0]\n",
        "res"
      ],
      "metadata": {
        "colab": {
          "base_uri": "https://localhost:8080/"
        },
        "id": "HAliUpI_N8KO",
        "outputId": "48cc7f3f-ebbf-4851-83ae-2e2332fd00dd"
      },
      "execution_count": null,
      "outputs": [
        {
          "output_type": "execute_result",
          "data": {
            "text/plain": [
              "[5,\n",
              " 10,\n",
              " 15,\n",
              " 20,\n",
              " 25,\n",
              " 30,\n",
              " 35,\n",
              " 40,\n",
              " 45,\n",
              " 50,\n",
              " 55,\n",
              " 60,\n",
              " 65,\n",
              " 70,\n",
              " 75,\n",
              " 80,\n",
              " 85,\n",
              " 90,\n",
              " 95,\n",
              " 100]"
            ]
          },
          "metadata": {},
          "execution_count": 6
        }
      ]
    },
    {
      "cell_type": "code",
      "source": [
        "res = [\"yes\" for i in range(1,101) if i%5 ==0]\n",
        "res"
      ],
      "metadata": {
        "colab": {
          "base_uri": "https://localhost:8080/"
        },
        "id": "SAXm_JrwOCIb",
        "outputId": "74b3f334-a5ba-491c-f794-2de9f4f391be"
      },
      "execution_count": null,
      "outputs": [
        {
          "output_type": "execute_result",
          "data": {
            "text/plain": [
              "['yes',\n",
              " 'yes',\n",
              " 'yes',\n",
              " 'yes',\n",
              " 'yes',\n",
              " 'yes',\n",
              " 'yes',\n",
              " 'yes',\n",
              " 'yes',\n",
              " 'yes',\n",
              " 'yes',\n",
              " 'yes',\n",
              " 'yes',\n",
              " 'yes',\n",
              " 'yes',\n",
              " 'yes',\n",
              " 'yes',\n",
              " 'yes',\n",
              " 'yes',\n",
              " 'yes']"
            ]
          },
          "metadata": {},
          "execution_count": 7
        }
      ]
    },
    {
      "cell_type": "code",
      "source": [
        "#show even or odd for the number between 1 to 10\n",
        "res = [(\"Even \",i) if i%2 == 0  else (\"odd \",i) for i in range(1,11)]\n",
        "res"
      ],
      "metadata": {
        "colab": {
          "base_uri": "https://localhost:8080/"
        },
        "id": "T_s0YT4wOw4j",
        "outputId": "069cc8d9-4306-4fc4-aa15-c59925f961fc"
      },
      "execution_count": null,
      "outputs": [
        {
          "output_type": "execute_result",
          "data": {
            "text/plain": [
              "[('odd ', 1),\n",
              " ('Even ', 2),\n",
              " ('odd ', 3),\n",
              " ('Even ', 4),\n",
              " ('odd ', 5),\n",
              " ('Even ', 6),\n",
              " ('odd ', 7),\n",
              " ('Even ', 8),\n",
              " ('odd ', 9),\n",
              " ('Even ', 10)]"
            ]
          },
          "metadata": {},
          "execution_count": 18
        }
      ]
    },
    {
      "cell_type": "code",
      "source": [
        "#show even or odd for the number between 1 to 10\n",
        "res = [\"Even \"+str(i) if i%2 == 0  else \"odd \"+str(i) for i in range(1,11)]\n",
        "res"
      ],
      "metadata": {
        "colab": {
          "base_uri": "https://localhost:8080/"
        },
        "id": "vO8fC9lePfjR",
        "outputId": "af519eb8-6345-4d93-8e7a-bc065e567ee9"
      },
      "execution_count": null,
      "outputs": [
        {
          "output_type": "execute_result",
          "data": {
            "text/plain": [
              "['odd 1',\n",
              " 'Even 2',\n",
              " 'odd 3',\n",
              " 'Even 4',\n",
              " 'odd 5',\n",
              " 'Even 6',\n",
              " 'odd 7',\n",
              " 'Even 8',\n",
              " 'odd 9',\n",
              " 'Even 10']"
            ]
          },
          "metadata": {},
          "execution_count": 19
        }
      ]
    },
    {
      "cell_type": "code",
      "source": [
        "#show multiple of 3 or 4 for the number between 1 to 10\n",
        "res = [i for i in range(1,11) if i%3==0 or i%4==0]\n",
        "res"
      ],
      "metadata": {
        "colab": {
          "base_uri": "https://localhost:8080/"
        },
        "id": "bcCFs9kdRQbQ",
        "outputId": "18209b00-f020-4281-eb53-cdd2be9c5acb"
      },
      "execution_count": null,
      "outputs": [
        {
          "output_type": "execute_result",
          "data": {
            "text/plain": [
              "[3, 4, 6, 8, 9]"
            ]
          },
          "metadata": {},
          "execution_count": 21
        }
      ]
    },
    {
      "cell_type": "code",
      "source": [
        "#show even or odd for the number between 1 to 10\n",
        "res = [\"Even \"+str(i) if i%2 == 0  else \"odd \"+str(i) for i in range(1,11) if i%3==0 or i%4==0]\n",
        "res"
      ],
      "metadata": {
        "colab": {
          "base_uri": "https://localhost:8080/"
        },
        "id": "UdjcC6fXRnlF",
        "outputId": "f5130b40-4565-42b0-a166-91daf4167e70"
      },
      "execution_count": null,
      "outputs": [
        {
          "output_type": "execute_result",
          "data": {
            "text/plain": [
              "['odd 3', 'Even 4', 'Even 6', 'Even 8', 'odd 9']"
            ]
          },
          "metadata": {},
          "execution_count": 22
        }
      ]
    },
    {
      "cell_type": "markdown",
      "source": [
        "problems"
      ],
      "metadata": {
        "id": "RSDXJR8tVb1W"
      }
    },
    {
      "cell_type": "markdown",
      "source": [
        "print 5 numbers and delete first and last number"
      ],
      "metadata": {
        "id": "wagMHv99VggR"
      }
    },
    {
      "cell_type": "code",
      "source": [
        "res = [ i for i in range(1,6)]\n",
        "del res[0]\n",
        "res.pop()\n",
        "res"
      ],
      "metadata": {
        "colab": {
          "base_uri": "https://localhost:8080/"
        },
        "id": "IANIdGL8Tw8y",
        "outputId": "018dc1f2-b153-4794-fe7f-aca96413dfb9"
      },
      "execution_count": 26,
      "outputs": [
        {
          "output_type": "execute_result",
          "data": {
            "text/plain": [
              "[2, 3, 4]"
            ]
          },
          "metadata": {},
          "execution_count": 26
        }
      ]
    },
    {
      "cell_type": "markdown",
      "source": [
        "print 5 numbers in ascending and descending order"
      ],
      "metadata": {
        "id": "ZKoUMyI-VmRc"
      }
    },
    {
      "cell_type": "code",
      "source": [
        "res = [4,5,2,3,1]\n",
        "res.sort()\n",
        "res"
      ],
      "metadata": {
        "id": "R7CXkGqIR1PN",
        "colab": {
          "base_uri": "https://localhost:8080/"
        },
        "outputId": "ab1762b6-2046-4ac4-dc62-09d59d7b0784"
      },
      "execution_count": 44,
      "outputs": [
        {
          "output_type": "execute_result",
          "data": {
            "text/plain": [
              "[1, 2, 3, 4, 5]"
            ]
          },
          "metadata": {},
          "execution_count": 44
        }
      ]
    },
    {
      "cell_type": "code",
      "source": [
        "res.sort(reverse=True)"
      ],
      "metadata": {
        "id": "3BcMu-iBUpZl"
      },
      "execution_count": 45,
      "outputs": []
    },
    {
      "cell_type": "code",
      "source": [
        "res"
      ],
      "metadata": {
        "colab": {
          "base_uri": "https://localhost:8080/"
        },
        "id": "XG1dViPSUqBF",
        "outputId": "e05484c8-07a7-4056-9a84-07a6df233671"
      },
      "execution_count": 46,
      "outputs": [
        {
          "output_type": "execute_result",
          "data": {
            "text/plain": [
              "[5, 4, 3, 2, 1]"
            ]
          },
          "metadata": {},
          "execution_count": 46
        }
      ]
    },
    {
      "cell_type": "markdown",
      "source": [
        "Sorted method works on new variable but sort rewrite on variable"
      ],
      "metadata": {
        "id": "3NE6_By7VqLp"
      }
    },
    {
      "cell_type": "code",
      "source": [
        "res = [4,5,2,3,1]\n",
        "a = sorted(res)"
      ],
      "metadata": {
        "id": "rJG326ueVYAM"
      },
      "execution_count": 48,
      "outputs": []
    },
    {
      "cell_type": "code",
      "source": [
        "res"
      ],
      "metadata": {
        "colab": {
          "base_uri": "https://localhost:8080/"
        },
        "id": "3KpQDCUMWJtb",
        "outputId": "99987a24-1c9b-4f94-eb6d-79ba183d790f"
      },
      "execution_count": 49,
      "outputs": [
        {
          "output_type": "execute_result",
          "data": {
            "text/plain": [
              "[4, 5, 2, 3, 1]"
            ]
          },
          "metadata": {},
          "execution_count": 49
        }
      ]
    },
    {
      "cell_type": "code",
      "source": [
        "a"
      ],
      "metadata": {
        "colab": {
          "base_uri": "https://localhost:8080/"
        },
        "id": "iZfHlpUbWNp2",
        "outputId": "7788139a-4712-4eb8-b59f-fc59bd4a0b94"
      },
      "execution_count": 50,
      "outputs": [
        {
          "output_type": "execute_result",
          "data": {
            "text/plain": [
              "[1, 2, 3, 4, 5]"
            ]
          },
          "metadata": {},
          "execution_count": 50
        }
      ]
    },
    {
      "cell_type": "markdown",
      "source": [
        "10 numbers and all even numbers in the list with string \"even"
      ],
      "metadata": {
        "id": "Ke6J1jjPWQum"
      }
    },
    {
      "cell_type": "code",
      "source": [
        "res = [i if i%2!=0 else \"even\" for i in range(1,11)]\n",
        "res"
      ],
      "metadata": {
        "colab": {
          "base_uri": "https://localhost:8080/"
        },
        "id": "TwJHAe8lWN72",
        "outputId": "90e99b1c-9845-4636-bf16-41b4428e8716"
      },
      "execution_count": 53,
      "outputs": [
        {
          "output_type": "execute_result",
          "data": {
            "text/plain": [
              "[1, 'even', 3, 'even', 5, 'even', 7, 'even', 9, 'even']"
            ]
          },
          "metadata": {},
          "execution_count": 53
        }
      ]
    },
    {
      "cell_type": "markdown",
      "source": [
        "5 numbers and print second largest number in list"
      ],
      "metadata": {
        "id": "-XvVzPVNXOmI"
      }
    },
    {
      "cell_type": "code",
      "source": [
        "max =0\n",
        "sec_min =0\n",
        "for i in range(0,6):\n",
        "  if (i > max):\n",
        "    sec_min = max\n",
        "    max = i\n",
        "print(sec_min)"
      ],
      "metadata": {
        "colab": {
          "base_uri": "https://localhost:8080/"
        },
        "id": "vDlqBlBNWj3W",
        "outputId": "e9a925c5-46ee-448a-e3e5-8fefbb4d9065"
      },
      "execution_count": 56,
      "outputs": [
        {
          "output_type": "stream",
          "name": "stdout",
          "text": [
            "4\n"
          ]
        }
      ]
    },
    {
      "cell_type": "code",
      "source": [
        "res = [2,3,4,5,8]\n",
        "res.sort()\n",
        "res[-2]"
      ],
      "metadata": {
        "colab": {
          "base_uri": "https://localhost:8080/"
        },
        "id": "ZO2-XElPXpaW",
        "outputId": "61c199b5-925c-4e01-a90f-2f9e2d624bf0"
      },
      "execution_count": 57,
      "outputs": [
        {
          "output_type": "execute_result",
          "data": {
            "text/plain": [
              "5"
            ]
          },
          "metadata": {},
          "execution_count": 57
        }
      ]
    },
    {
      "cell_type": "code",
      "source": [
        "sen =\"University of texas at Arlington\"\n",
        "res = [len(i) for i in sen.split() if len(i)>3]\n",
        "res"
      ],
      "metadata": {
        "colab": {
          "base_uri": "https://localhost:8080/"
        },
        "id": "2WGw6u9PX7nP",
        "outputId": "f1e06228-42d4-4cce-9216-fa705b525950"
      },
      "execution_count": 63,
      "outputs": [
        {
          "output_type": "execute_result",
          "data": {
            "text/plain": [
              "[10, 5, 9]"
            ]
          },
          "metadata": {},
          "execution_count": 63
        }
      ]
    },
    {
      "cell_type": "code",
      "source": [
        "res = [i*i for i in range(1,21) if i%2 ==0]\n",
        "res"
      ],
      "metadata": {
        "colab": {
          "base_uri": "https://localhost:8080/"
        },
        "id": "cefSwejYYLAP",
        "outputId": "6a42b54b-3b7c-4d82-8878-8aa2674cc082"
      },
      "execution_count": 65,
      "outputs": [
        {
          "output_type": "execute_result",
          "data": {
            "text/plain": [
              "[4, 16, 36, 64, 100, 144, 196, 256, 324, 400]"
            ]
          },
          "metadata": {},
          "execution_count": 65
        }
      ]
    },
    {
      "cell_type": "code",
      "source": [
        "#show multiple of 3 or 5 for the number between 1 to 10\n",
        "res = [i for i in range(1,11) if i%3==0 or i%5==0]\n",
        "res"
      ],
      "metadata": {
        "colab": {
          "base_uri": "https://localhost:8080/"
        },
        "id": "W0ChibkKaeFL",
        "outputId": "a385a5a1-0e33-46fc-a28d-29dd3469a46d"
      },
      "execution_count": 66,
      "outputs": [
        {
          "output_type": "execute_result",
          "data": {
            "text/plain": [
              "[3, 5, 6, 9, 10]"
            ]
          },
          "metadata": {},
          "execution_count": 66
        }
      ]
    },
    {
      "cell_type": "code",
      "source": [
        "strings = ['Dallas','Austin','Irving','apple','orange','yellow']\n",
        "res = ['' if j in 'aeiouAEIOU' else j for i in strings for j in i]\n",
        "res"
      ],
      "metadata": {
        "colab": {
          "base_uri": "https://localhost:8080/"
        },
        "id": "7t_VOmKKa9jZ",
        "outputId": "e07414c0-9cc2-4e5d-eaa9-e2baecd84fd1"
      },
      "execution_count": 11,
      "outputs": [
        {
          "output_type": "execute_result",
          "data": {
            "text/plain": [
              "['D',\n",
              " '',\n",
              " 'l',\n",
              " 'l',\n",
              " '',\n",
              " 's',\n",
              " '',\n",
              " '',\n",
              " 's',\n",
              " 't',\n",
              " '',\n",
              " 'n',\n",
              " '',\n",
              " 'r',\n",
              " 'v',\n",
              " '',\n",
              " 'n',\n",
              " 'g',\n",
              " '',\n",
              " 'p',\n",
              " 'p',\n",
              " 'l',\n",
              " '',\n",
              " '',\n",
              " 'r',\n",
              " '',\n",
              " 'n',\n",
              " 'g',\n",
              " '',\n",
              " 'y',\n",
              " '',\n",
              " 'l',\n",
              " 'l',\n",
              " '',\n",
              " 'w']"
            ]
          },
          "metadata": {},
          "execution_count": 11
        }
      ]
    },
    {
      "cell_type": "code",
      "source": [
        "out=[]\n",
        "for i in strings:\n",
        "  newstr=''\n",
        "  for j in i:\n",
        "    if j not in 'aeiouAEIOU':\n",
        "      newstr +=j\n",
        "  out.append(newstr)\n",
        "print"
      ],
      "metadata": {
        "colab": {
          "base_uri": "https://localhost:8080/"
        },
        "id": "jb28keUGbd5c",
        "outputId": "074a1177-bd33-4584-e394-ccd318c8298f"
      },
      "execution_count": 6,
      "outputs": [
        {
          "output_type": "stream",
          "name": "stdout",
          "text": [
            "['Dlls', 'stn', 'rvng', 'ppl', 'rng', 'yllw']\n"
          ]
        }
      ]
    },
    {
      "cell_type": "code",
      "source": [
        "res =[\"\".join([k for k in i if k not in \"AEIOUaeiou\"]) for i in strings]"
      ],
      "metadata": {
        "id": "hEP2-ozsjQQS"
      },
      "execution_count": 15,
      "outputs": []
    },
    {
      "cell_type": "code",
      "source": [
        "res"
      ],
      "metadata": {
        "colab": {
          "base_uri": "https://localhost:8080/"
        },
        "id": "Iiw5WGd4k7gz",
        "outputId": "d2042ded-7091-46bf-942e-da2ff097a7e1"
      },
      "execution_count": 16,
      "outputs": [
        {
          "output_type": "execute_result",
          "data": {
            "text/plain": [
              "['Dlls', 'stn', 'rvng', 'ppl', 'rng', 'yllw']"
            ]
          },
          "metadata": {},
          "execution_count": 16
        }
      ]
    },
    {
      "cell_type": "code",
      "source": [
        "name = []\n",
        "hourworked =[]\n",
        "hourrate =[]\n",
        "totals =[]\n",
        "num = int(input(\"Enter the number of employee data you want to enter\"))\n",
        "for i in range(num):\n",
        "  nam = input(\"Enter the name \")\n",
        "  hourwork = float(input(\"Enter hours worked \"))\n",
        "  hourrat = float(input(\"Enter hour rate \"))\n",
        "  name.append(nam)\n",
        "  hourworked.append(hourwork)\n",
        "  hourrate.append(hourrat)\n",
        "for i in range(len(hourrate)):\n",
        "  totals.append(hourrate[i]* hourworked[i])\n",
        "print(totals)"
      ],
      "metadata": {
        "colab": {
          "base_uri": "https://localhost:8080/"
        },
        "id": "wtZ0Njq-lC6l",
        "outputId": "28737af6-2f89-4c44-ab54-ff998b5b4706"
      },
      "execution_count": 19,
      "outputs": [
        {
          "output_type": "stream",
          "name": "stdout",
          "text": [
            "Enter the number of employee data you want to enter2\n",
            "Enter the namea\n",
            "Enter hours worked1\n",
            "enter hour rate11\n",
            "Enter the nameb\n",
            "Enter hours worked2\n",
            "enter hour rate22\n",
            "[11.0, 44.0]\n"
          ]
        }
      ]
    },
    {
      "cell_type": "code",
      "source": [
        "import pandas as pd\n",
        "from google.colab  import files\n",
        "name = []\n",
        "hourworked =[]\n",
        "hourrate =[]\n",
        "cont ='y'\n",
        "while cont =='y':\n",
        "  nam = input(\"Enter the name \")\n",
        "  hourwork = float(input(\"Enter hours worked \"))\n",
        "  hourrat = float(input(\"Enter hour rate \"))\n",
        "  name.append(nam)\n",
        "  hourworked.append(hourwork)\n",
        "  hourrate.append(hourrat)\n",
        "  cont = input(\"Want to continue, (y or n) \")\n",
        "\n",
        "total = list(map(lambda x,y : x*y,hourworked,hourrate))\n",
        "df = pd.DataFrame(zip(name,hourworked,hourrate,total), columns=[\"Name\",\"Hourworked\",\"Hourrate\",\"Total\"])\n",
        "df.to_csv(\"Salary.csv\", index=False)\n",
        "files.download(\"Salary.csv\") # csv file  would be downloaded"
      ],
      "metadata": {
        "colab": {
          "base_uri": "https://localhost:8080/",
          "height": 156
        },
        "id": "qQ7KZRN-n-Dv",
        "outputId": "c1b496d1-6bab-4e7a-9f0f-977be163a7b9"
      },
      "execution_count": 23,
      "outputs": [
        {
          "name": "stdout",
          "output_type": "stream",
          "text": [
            "Enter the name Priya\n",
            "Enter hours worked 12\n",
            "Enter hour rate 45\n",
            "Want to continue, (y or n) y\n",
            "Enter the name Pooja\n",
            "Enter hours worked 13\n",
            "Enter hour rate 23\n",
            "Want to continue, (y or n) n\n"
          ]
        },
        {
          "output_type": "display_data",
          "data": {
            "text/plain": [
              "<IPython.core.display.Javascript object>"
            ],
            "application/javascript": [
              "\n",
              "    async function download(id, filename, size) {\n",
              "      if (!google.colab.kernel.accessAllowed) {\n",
              "        return;\n",
              "      }\n",
              "      const div = document.createElement('div');\n",
              "      const label = document.createElement('label');\n",
              "      label.textContent = `Downloading \"${filename}\": `;\n",
              "      div.appendChild(label);\n",
              "      const progress = document.createElement('progress');\n",
              "      progress.max = size;\n",
              "      div.appendChild(progress);\n",
              "      document.body.appendChild(div);\n",
              "\n",
              "      const buffers = [];\n",
              "      let downloaded = 0;\n",
              "\n",
              "      const channel = await google.colab.kernel.comms.open(id);\n",
              "      // Send a message to notify the kernel that we're ready.\n",
              "      channel.send({})\n",
              "\n",
              "      for await (const message of channel.messages) {\n",
              "        // Send a message to notify the kernel that we're ready.\n",
              "        channel.send({})\n",
              "        if (message.buffers) {\n",
              "          for (const buffer of message.buffers) {\n",
              "            buffers.push(buffer);\n",
              "            downloaded += buffer.byteLength;\n",
              "            progress.value = downloaded;\n",
              "          }\n",
              "        }\n",
              "      }\n",
              "      const blob = new Blob(buffers, {type: 'application/binary'});\n",
              "      const a = document.createElement('a');\n",
              "      a.href = window.URL.createObjectURL(blob);\n",
              "      a.download = filename;\n",
              "      div.appendChild(a);\n",
              "      a.click();\n",
              "      div.remove();\n",
              "    }\n",
              "  "
            ]
          },
          "metadata": {}
        },
        {
          "output_type": "display_data",
          "data": {
            "text/plain": [
              "<IPython.core.display.Javascript object>"
            ],
            "application/javascript": [
              "download(\"download_93b88320-2470-41bb-9838-ce13cdae773c\", \"Salary.csv\", 80)"
            ]
          },
          "metadata": {}
        }
      ]
    },
    {
      "cell_type": "code",
      "source": [],
      "metadata": {
        "id": "XmISWPU8tsfP"
      },
      "execution_count": null,
      "outputs": []
    }
  ]
}