{
  "nbformat": 4,
  "nbformat_minor": 0,
  "metadata": {
    "colab": {
      "provenance": []
    },
    "kernelspec": {
      "name": "python3",
      "display_name": "Python 3"
    },
    "language_info": {
      "name": "python"
    }
  },
  "cells": [
    {
      "cell_type": "markdown",
      "source": [
        "Loop Control Statements"
      ],
      "metadata": {
        "id": "ar8cmcme9ORD"
      }
    },
    {
      "cell_type": "markdown",
      "source": [
        "Break"
      ],
      "metadata": {
        "id": "GjegwNj9_iXi"
      }
    },
    {
      "cell_type": "code",
      "source": [
        "lst = [10,20,30,40]\n",
        "for i in range(len(lst)):\n",
        "  if i == 2:\n",
        "    break\n",
        "  print(lst[i])"
      ],
      "metadata": {
        "colab": {
          "base_uri": "https://localhost:8080/"
        },
        "id": "LWF8ggs79QRR",
        "outputId": "dace2d11-70cc-4981-8c81-c2b405001451"
      },
      "execution_count": null,
      "outputs": [
        {
          "output_type": "stream",
          "name": "stdout",
          "text": [
            "10\n",
            "20\n"
          ]
        }
      ]
    },
    {
      "cell_type": "markdown",
      "source": [
        "Continue"
      ],
      "metadata": {
        "id": "1t9cOgawBPIX"
      }
    },
    {
      "cell_type": "code",
      "source": [
        "lst = [10,20,30,40]\n",
        "for i in range(len(lst)):\n",
        "  if i == 2:\n",
        "    continue\n",
        "  print(lst[i])"
      ],
      "metadata": {
        "colab": {
          "base_uri": "https://localhost:8080/"
        },
        "id": "X02gL523AOyf",
        "outputId": "bfa91dcc-f06c-46e9-bc1f-0526d5669498"
      },
      "execution_count": null,
      "outputs": [
        {
          "output_type": "stream",
          "name": "stdout",
          "text": [
            "10\n",
            "20\n",
            "40\n"
          ]
        }
      ]
    },
    {
      "cell_type": "code",
      "source": [
        "i = 0\n",
        "while True:\n",
        "  if i == 10:\n",
        "    break\n",
        "  print(\"UTA\")\n",
        "  i+=1"
      ],
      "metadata": {
        "colab": {
          "base_uri": "https://localhost:8080/"
        },
        "id": "Dy2fBHfxA1nA",
        "outputId": "3b4c5fbb-c76e-4434-f612-77c4ab65d85c"
      },
      "execution_count": null,
      "outputs": [
        {
          "output_type": "stream",
          "name": "stdout",
          "text": [
            "UTA\n",
            "UTA\n",
            "UTA\n",
            "UTA\n",
            "UTA\n",
            "UTA\n",
            "UTA\n",
            "UTA\n",
            "UTA\n",
            "UTA\n"
          ]
        }
      ]
    },
    {
      "cell_type": "code",
      "source": [
        "while True:\n",
        "  command = input(\"Enter a command or exit to quit: \")\n",
        "  if command == 'exit' or command == 'quit':\n",
        "    break\n",
        "  print(f\"Execution command {command}\")"
      ],
      "metadata": {
        "colab": {
          "base_uri": "https://localhost:8080/"
        },
        "id": "oa8dOTNcBjQo",
        "outputId": "4e59824f-ec45-405a-92fb-cbc43092bec1"
      },
      "execution_count": null,
      "outputs": [
        {
          "name": "stdout",
          "output_type": "stream",
          "text": [
            "Enter a command or exit to quit: do\n",
            "Execution command do\n",
            "Enter a command or exit to quit: go\n",
            "Execution command go\n",
            "Enter a command or exit to quit: hello\n",
            "Execution command hello\n",
            "Enter a command or exit to quit: job\n",
            "Execution command job\n",
            "Enter a command or exit to quit: exit\n"
          ]
        }
      ]
    },
    {
      "cell_type": "markdown",
      "source": [
        "finding odd number from 1 to 10 using break or continue"
      ],
      "metadata": {
        "id": "QyVN90ujChIe"
      }
    },
    {
      "cell_type": "code",
      "source": [
        "for i in range(1,11):\n",
        "  if i%2 == 0:\n",
        "    continue\n",
        "  print(i)"
      ],
      "metadata": {
        "colab": {
          "base_uri": "https://localhost:8080/"
        },
        "id": "BRs2OGLtCCxW",
        "outputId": "9e520f8b-b6ee-4630-be35-d3954dd13d45"
      },
      "execution_count": null,
      "outputs": [
        {
          "output_type": "stream",
          "name": "stdout",
          "text": [
            "1\n",
            "3\n",
            "5\n",
            "7\n",
            "9\n"
          ]
        }
      ]
    },
    {
      "cell_type": "code",
      "source": [
        "lst = [10,-5,4,-3]\n",
        "for i in lst:\n",
        "  if i < 0:\n",
        "    continue\n",
        "  print(i)"
      ],
      "metadata": {
        "colab": {
          "base_uri": "https://localhost:8080/"
        },
        "id": "ExEDfFGNEUGl",
        "outputId": "bd57df32-8882-4eaf-e0ae-e615d19dc298"
      },
      "execution_count": null,
      "outputs": [
        {
          "output_type": "stream",
          "name": "stdout",
          "text": [
            "10\n",
            "4\n"
          ]
        }
      ]
    },
    {
      "cell_type": "markdown",
      "source": [
        "Split : split by default is whitespace\n"
      ],
      "metadata": {
        "id": "h5cGJYtcGGJP"
      }
    },
    {
      "cell_type": "markdown",
      "source": [
        "Use continue or break to remove stopwords:\n"
      ],
      "metadata": {
        "id": "JdSah8ajGsYN"
      }
    },
    {
      "cell_type": "code",
      "source": [
        "sent =\"This is an amazing book\"\n",
        "for i in sent.split():\n",
        "  if i ==\"This\" or i ==\"is\" or i==\"an\":\n",
        "    continue\n",
        "  print(i)"
      ],
      "metadata": {
        "colab": {
          "base_uri": "https://localhost:8080/"
        },
        "id": "OXMsbYAKFD75",
        "outputId": "568d72dc-96e2-408c-f1ba-d110d3fac5e0"
      },
      "execution_count": null,
      "outputs": [
        {
          "output_type": "stream",
          "name": "stdout",
          "text": [
            "amazing\n",
            "book\n"
          ]
        }
      ]
    },
    {
      "cell_type": "code",
      "source": [
        "sent =\"This is an amazing book\"\n",
        "lst =['this','is','an']\n",
        "for i in sent.split():\n",
        "  if i.lower() in lst:\n",
        "    continue\n",
        "  print(i)"
      ],
      "metadata": {
        "colab": {
          "base_uri": "https://localhost:8080/"
        },
        "id": "8LMsHNniF4OW",
        "outputId": "0ff8dd6d-acfe-4e8f-afbc-8241b5976727"
      },
      "execution_count": null,
      "outputs": [
        {
          "output_type": "stream",
          "name": "stdout",
          "text": [
            "amazing\n",
            "book\n"
          ]
        }
      ]
    },
    {
      "cell_type": "markdown",
      "source": [
        "Pass"
      ],
      "metadata": {
        "id": "cYfacN67I_2f"
      }
    },
    {
      "cell_type": "code",
      "source": [
        "for i in range(5):\n",
        "  pass"
      ],
      "metadata": {
        "id": "rjRnjYVJHe50"
      },
      "execution_count": null,
      "outputs": []
    },
    {
      "cell_type": "markdown",
      "source": [
        "Nested Loops"
      ],
      "metadata": {
        "id": "xj7cWb-rJBst"
      }
    },
    {
      "cell_type": "code",
      "source": [
        "lst = [[10,20],[100,200],[1000,2000]]\n",
        "for i in lst:\n",
        "  for j in i:\n",
        "    print(j)"
      ],
      "metadata": {
        "colab": {
          "base_uri": "https://localhost:8080/"
        },
        "id": "jf6o5qfhI6HF",
        "outputId": "3b7efdaf-62a0-481f-9329-0067a60782f1"
      },
      "execution_count": null,
      "outputs": [
        {
          "output_type": "stream",
          "name": "stdout",
          "text": [
            "10\n",
            "20\n",
            "100\n",
            "200\n",
            "1000\n",
            "2000\n"
          ]
        }
      ]
    },
    {
      "cell_type": "markdown",
      "source": [
        "create a multiplication table for 1 to 5"
      ],
      "metadata": {
        "id": "PyRKL4QRJ2gB"
      }
    },
    {
      "cell_type": "code",
      "source": [
        "for i in range(1,11):\n",
        "  for j in range(1,6):\n",
        "    print(i * j, end=\"\\t\")\n",
        "  print()"
      ],
      "metadata": {
        "colab": {
          "base_uri": "https://localhost:8080/"
        },
        "id": "uTMRGawrJU7h",
        "outputId": "cd22f5d1-8aa6-4edc-97b1-654813e14c6f"
      },
      "execution_count": null,
      "outputs": [
        {
          "output_type": "stream",
          "name": "stdout",
          "text": [
            "1\t2\t3\t4\t5\t\n",
            "2\t4\t6\t8\t10\t\n",
            "3\t6\t9\t12\t15\t\n",
            "4\t8\t12\t16\t20\t\n",
            "5\t10\t15\t20\t25\t\n",
            "6\t12\t18\t24\t30\t\n",
            "7\t14\t21\t28\t35\t\n",
            "8\t16\t24\t32\t40\t\n",
            "9\t18\t27\t36\t45\t\n",
            "10\t20\t30\t40\t50\t\n"
          ]
        }
      ]
    },
    {
      "cell_type": "markdown",
      "source": [
        "Exercise 1: Guessing Game\n",
        "\n",
        "✓ Write a program to play a guessing game between you and your\n",
        "computer.\n",
        "\n",
        "✓ Computer will randomly choose a number between (1 to 6)\n",
        "\n",
        "✓ You will guess the number. If your guess equals the computer number, you will win and earn 10 points. Else, you will lose, and the computer\n",
        "earns 10 points.\n",
        "\n",
        "✓ Allow the program to run as many times as you want.\n",
        "\n",
        "✓ At the end of the game, the scoreboard should display the number of times the game was played, the computer, and your total points.\n"
      ],
      "metadata": {
        "id": "OEsoGZnXM_3T"
      }
    },
    {
      "cell_type": "code",
      "source": [
        "import random\n",
        "s1= 0\n",
        "c1= 0\n",
        "while True:\n",
        "  rand = random.randint(1,6)\n",
        "  num = int(input(\"Guess the number between 1 and 6: \"))\n",
        "  if num == rand:\n",
        "    s1 +=10\n",
        "    print(f\"the number is {rand}\")\n",
        "    print(\"You guessed the number right :)\")\n",
        "    print(f\"Your total score {s1}\")\n",
        "  else:\n",
        "    c1 +=10\n",
        "    print(f\"the number is {rand}\")\n",
        "    print(\"You guessed the number wrong :(\")\n",
        "    print(f\"Computer score {c1}\")\n",
        "  command = input(\"Want to Quit: Y or N: \")\n",
        "  if command.lower() == 'y':\n",
        "    break\n",
        "print(\"-------------------\")\n",
        "print(f\"Computer score {c1}\")\n",
        "print(f\"Your total score {s1}\")\n",
        "if(c1 > s1):\n",
        "  print(\"Computer Won\")\n",
        "elif c1==s1:\n",
        "  print(\"Its a tie\")\n",
        "else:\n",
        "  print(\"You won\")"
      ],
      "metadata": {
        "colab": {
          "base_uri": "https://localhost:8080/"
        },
        "id": "JTCHYAE_Kbq_",
        "outputId": "4d161770-d0c3-4a8d-e337-467d218e970e"
      },
      "execution_count": null,
      "outputs": [
        {
          "output_type": "stream",
          "name": "stdout",
          "text": [
            "Guess the number between 1 and 6: 4\n",
            "the number is 5\n",
            "You guessed the number wrong :(\n",
            "Computer score 10\n",
            "Want to Quit: Y or N: n\n",
            "Guess the number between 1 and 6: 2\n",
            "the number is 3\n",
            "You guessed the number wrong :(\n",
            "Computer score 20\n",
            "Want to Quit: Y or N: n\n",
            "Guess the number between 1 and 6: 2\n",
            "the number is 2\n",
            "You guessed the number right :)\n",
            "Your total score 10\n",
            "Want to Quit: Y or N: n\n",
            "Guess the number between 1 and 6: 4\n",
            "the number is 5\n",
            "You guessed the number wrong :(\n",
            "Computer score 30\n",
            "Want to Quit: Y or N: y\n",
            "-------------------\n",
            "Computer score 30\n",
            "Your total score 10\n",
            "Computer Won\n"
          ]
        }
      ]
    },
    {
      "cell_type": "code",
      "source": [],
      "metadata": {
        "id": "wZsw14qXN8w_"
      },
      "execution_count": null,
      "outputs": []
    }
  ]
}