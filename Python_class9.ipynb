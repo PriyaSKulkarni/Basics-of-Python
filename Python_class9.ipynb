{
  "nbformat": 4,
  "nbformat_minor": 0,
  "metadata": {
    "colab": {
      "provenance": []
    },
    "kernelspec": {
      "name": "python3",
      "display_name": "Python 3"
    },
    "language_info": {
      "name": "python"
    }
  },
  "cells": [
    {
      "cell_type": "markdown",
      "source": [
        "Tuples:\n",
        "\n",
        "tuples can be converted to list() method\n",
        "list can be converted to tuple() method"
      ],
      "metadata": {
        "id": "kX3UhJMPKjMr"
      }
    },
    {
      "cell_type": "code",
      "source": [
        "tup1 = (10,20,30)\n",
        "tup2 = (100,200,300)\n",
        "a,b,c = tup1"
      ],
      "metadata": {
        "id": "1IH8lBVoRXiN"
      },
      "execution_count": 9,
      "outputs": []
    },
    {
      "cell_type": "code",
      "source": [
        "print(a)\n",
        "print(b)\n",
        "print(c)"
      ],
      "metadata": {
        "colab": {
          "base_uri": "https://localhost:8080/"
        },
        "id": "TDnWoUVZSNPu",
        "outputId": "e4e4c9b8-73ed-43c1-cac2-3698e4baa0a1"
      },
      "execution_count": 10,
      "outputs": [
        {
          "output_type": "stream",
          "name": "stdout",
          "text": [
            "10\n",
            "20\n",
            "30\n"
          ]
        }
      ]
    },
    {
      "cell_type": "code",
      "source": [
        "tup3 = tup1 + tup2"
      ],
      "metadata": {
        "id": "emac-yNmSnNe"
      },
      "execution_count": 11,
      "outputs": []
    },
    {
      "cell_type": "code",
      "source": [
        "tup3"
      ],
      "metadata": {
        "colab": {
          "base_uri": "https://localhost:8080/"
        },
        "id": "yVMpqtW0Srw0",
        "outputId": "2dbdef0d-c53e-46a9-8d07-c1024470b3fe"
      },
      "execution_count": 12,
      "outputs": [
        {
          "output_type": "execute_result",
          "data": {
            "text/plain": [
              "(10, 20, 30, 100, 200, 300)"
            ]
          },
          "metadata": {},
          "execution_count": 12
        }
      ]
    },
    {
      "cell_type": "code",
      "source": [
        "tup4 = tup1 * 3"
      ],
      "metadata": {
        "id": "fNsYIAnbStfQ"
      },
      "execution_count": 13,
      "outputs": []
    },
    {
      "cell_type": "code",
      "source": [
        "tup4"
      ],
      "metadata": {
        "colab": {
          "base_uri": "https://localhost:8080/"
        },
        "id": "MSwf-hOmSthO",
        "outputId": "5d3f3ace-08df-493d-bd3c-352ec1864242"
      },
      "execution_count": 14,
      "outputs": [
        {
          "output_type": "execute_result",
          "data": {
            "text/plain": [
              "(10, 20, 30, 10, 20, 30, 10, 20, 30)"
            ]
          },
          "metadata": {},
          "execution_count": 14
        }
      ]
    },
    {
      "cell_type": "code",
      "source": [
        "tup5 = (10,30,20,(100,200),[1000,2000])"
      ],
      "metadata": {
        "id": "Kys_Zg93Stj6"
      },
      "execution_count": 15,
      "outputs": []
    },
    {
      "cell_type": "code",
      "source": [
        "tup5[-2]"
      ],
      "metadata": {
        "colab": {
          "base_uri": "https://localhost:8080/"
        },
        "id": "ChJsOwFXStnU",
        "outputId": "ff8558bb-7245-40ed-af44-1a7f5039fb23"
      },
      "execution_count": 16,
      "outputs": [
        {
          "output_type": "execute_result",
          "data": {
            "text/plain": [
              "(100, 200)"
            ]
          },
          "metadata": {},
          "execution_count": 16
        }
      ]
    },
    {
      "cell_type": "code",
      "source": [
        "tup5[-1]"
      ],
      "metadata": {
        "colab": {
          "base_uri": "https://localhost:8080/"
        },
        "id": "g65URFzTTJe6",
        "outputId": "f9b6469a-f70d-4e7e-bc27-3e574c0f98cb"
      },
      "execution_count": 17,
      "outputs": [
        {
          "output_type": "execute_result",
          "data": {
            "text/plain": [
              "[1000, 2000]"
            ]
          },
          "metadata": {},
          "execution_count": 17
        }
      ]
    },
    {
      "cell_type": "code",
      "source": [
        "tup5[-1][0]"
      ],
      "metadata": {
        "colab": {
          "base_uri": "https://localhost:8080/"
        },
        "id": "iYMYlVLkTQqc",
        "outputId": "3f1be233-2a14-406d-a5fc-6b2b8f121171"
      },
      "execution_count": 18,
      "outputs": [
        {
          "output_type": "execute_result",
          "data": {
            "text/plain": [
              "1000"
            ]
          },
          "metadata": {},
          "execution_count": 18
        }
      ]
    },
    {
      "cell_type": "code",
      "source": [
        "tup5[-1][0] = 5000 # because it is list"
      ],
      "metadata": {
        "id": "Sea2QmUBTW2-"
      },
      "execution_count": 19,
      "outputs": []
    },
    {
      "cell_type": "code",
      "source": [
        "tup5"
      ],
      "metadata": {
        "colab": {
          "base_uri": "https://localhost:8080/"
        },
        "id": "03Oy7flXTW6O",
        "outputId": "3513e642-9d93-46a0-c2a1-3b5e8e39e9d0"
      },
      "execution_count": 20,
      "outputs": [
        {
          "output_type": "execute_result",
          "data": {
            "text/plain": [
              "(10, 30, 20, (100, 200), [5000, 2000])"
            ]
          },
          "metadata": {},
          "execution_count": 20
        }
      ]
    },
    {
      "cell_type": "code",
      "source": [
        "tup5[0] = 1000 # cant be done because it is in tuple form but an element like list is mutable"
      ],
      "metadata": {
        "colab": {
          "base_uri": "https://localhost:8080/",
          "height": 141
        },
        "id": "--dnSdp8TgDl",
        "outputId": "14d6d9d0-dcb5-40e9-a7b9-c848bbc9c1e2"
      },
      "execution_count": 22,
      "outputs": [
        {
          "output_type": "error",
          "ename": "TypeError",
          "evalue": "'tuple' object does not support item assignment",
          "traceback": [
            "\u001b[0;31m---------------------------------------------------------------------------\u001b[0m",
            "\u001b[0;31mTypeError\u001b[0m                                 Traceback (most recent call last)",
            "\u001b[0;32m<ipython-input-22-8ac67e251ea3>\u001b[0m in \u001b[0;36m<cell line: 1>\u001b[0;34m()\u001b[0m\n\u001b[0;32m----> 1\u001b[0;31m \u001b[0mtup5\u001b[0m\u001b[0;34m[\u001b[0m\u001b[0;36m0\u001b[0m\u001b[0;34m]\u001b[0m \u001b[0;34m=\u001b[0m \u001b[0;36m1000\u001b[0m \u001b[0;31m# cant be done because it is in tuple form but an element like list is mutable\u001b[0m\u001b[0;34m\u001b[0m\u001b[0;34m\u001b[0m\u001b[0m\n\u001b[0m",
            "\u001b[0;31mTypeError\u001b[0m: 'tuple' object does not support item assignment"
          ]
        }
      ]
    },
    {
      "cell_type": "code",
      "source": [
        "tup5[-2:-4:1]"
      ],
      "metadata": {
        "colab": {
          "base_uri": "https://localhost:8080/"
        },
        "id": "G8o-VPiGT1nK",
        "outputId": "8541607f-8b48-4bff-cdac-00b7db913601"
      },
      "execution_count": 26,
      "outputs": [
        {
          "output_type": "execute_result",
          "data": {
            "text/plain": [
              "()"
            ]
          },
          "metadata": {},
          "execution_count": 26
        }
      ]
    },
    {
      "cell_type": "code",
      "source": [
        "tup5[-2:-4:-1]"
      ],
      "metadata": {
        "colab": {
          "base_uri": "https://localhost:8080/"
        },
        "id": "0RKRMDHOUSgk",
        "outputId": "09295ebd-b045-47b0-ef93-38eece161cee"
      },
      "execution_count": 27,
      "outputs": [
        {
          "output_type": "execute_result",
          "data": {
            "text/plain": [
              "((100, 200), 20)"
            ]
          },
          "metadata": {},
          "execution_count": 27
        }
      ]
    },
    {
      "cell_type": "code",
      "source": [
        "tup = tuple(i*i for i in range(1,11) if i%2 == 0)"
      ],
      "metadata": {
        "id": "sh4a0MT3UYNf"
      },
      "execution_count": 33,
      "outputs": []
    },
    {
      "cell_type": "code",
      "source": [
        "tup"
      ],
      "metadata": {
        "colab": {
          "base_uri": "https://localhost:8080/"
        },
        "id": "2T8jv37WUYa1",
        "outputId": "d0a6a40f-2474-4c75-d09a-e98bcdc7022a"
      },
      "execution_count": 34,
      "outputs": [
        {
          "output_type": "execute_result",
          "data": {
            "text/plain": [
              "(4, 16, 36, 64, 100)"
            ]
          },
          "metadata": {},
          "execution_count": 34
        }
      ]
    },
    {
      "cell_type": "code",
      "source": [
        "tup = tuple(i for i in range(1,11))\n",
        "sum =0\n",
        "for i in tup:\n",
        "  sum +=i\n",
        "print(sum)\n",
        "print(sum/len(tup))"
      ],
      "metadata": {
        "colab": {
          "base_uri": "https://localhost:8080/"
        },
        "id": "CPrC222TUYmC",
        "outputId": "cfea513e-49a2-4726-f7b6-150dda6ed4c6"
      },
      "execution_count": 36,
      "outputs": [
        {
          "output_type": "stream",
          "name": "stdout",
          "text": [
            "55\n",
            "5.5\n"
          ]
        }
      ]
    },
    {
      "cell_type": "code",
      "source": [
        "tup =('Apple','banana')\n",
        "for i in range(len(tup)):\n",
        "  print(tup[i])\n",
        "\n",
        ""
      ],
      "metadata": {
        "colab": {
          "base_uri": "https://localhost:8080/"
        },
        "id": "yVi_zIDZWAkt",
        "outputId": "62a26ec0-d137-4787-eb14-df9c06e90585"
      },
      "execution_count": 39,
      "outputs": [
        {
          "output_type": "stream",
          "name": "stdout",
          "text": [
            "Apple\n",
            "banana\n"
          ]
        }
      ]
    },
    {
      "cell_type": "code",
      "source": [
        "res = tuple(reversed(tup))"
      ],
      "metadata": {
        "id": "p1ZCTAa_Wcn8"
      },
      "execution_count": 42,
      "outputs": []
    },
    {
      "cell_type": "code",
      "source": [
        "res"
      ],
      "metadata": {
        "colab": {
          "base_uri": "https://localhost:8080/"
        },
        "id": "uXCjsxWFWmmh",
        "outputId": "7f102940-7bfc-4568-e0fe-7b08f4cb7aa2"
      },
      "execution_count": 43,
      "outputs": [
        {
          "output_type": "execute_result",
          "data": {
            "text/plain": [
              "('banana', 'Apple')"
            ]
          },
          "metadata": {},
          "execution_count": 43
        }
      ]
    },
    {
      "cell_type": "code",
      "source": [
        "tup[2::-1]"
      ],
      "metadata": {
        "colab": {
          "base_uri": "https://localhost:8080/"
        },
        "id": "-Wow5aZNWqUs",
        "outputId": "5d3d5b38-8687-4556-f4fd-6568ef20eb83"
      },
      "execution_count": 46,
      "outputs": [
        {
          "output_type": "execute_result",
          "data": {
            "text/plain": [
              "('banana', 'Apple')"
            ]
          },
          "metadata": {},
          "execution_count": 46
        }
      ]
    },
    {
      "cell_type": "code",
      "source": [
        "tup= (1,2,3)\n",
        "tup1= (2,3,4)\n",
        "res = sum(tuple(map(lambda x,y:x*y,tup,tup1)))\n",
        "res"
      ],
      "metadata": {
        "colab": {
          "base_uri": "https://localhost:8080/"
        },
        "id": "EFxhlAeCW-rK",
        "outputId": "08d5b3d2-923c-416a-d0ba-8956b3a7b528"
      },
      "execution_count": 1,
      "outputs": [
        {
          "output_type": "execute_result",
          "data": {
            "text/plain": [
              "20"
            ]
          },
          "metadata": {},
          "execution_count": 1
        }
      ]
    },
    {
      "cell_type": "code",
      "source": [
        "import numpy as np\n",
        "res = np.dot(tup,tup1)\n",
        "res"
      ],
      "metadata": {
        "colab": {
          "base_uri": "https://localhost:8080/"
        },
        "id": "fqOkYah8WxUc",
        "outputId": "21b637c3-21cd-45e4-900a-7917117cf65a"
      },
      "execution_count": 48,
      "outputs": [
        {
          "output_type": "execute_result",
          "data": {
            "text/plain": [
              "70"
            ]
          },
          "metadata": {},
          "execution_count": 48
        }
      ]
    },
    {
      "cell_type": "code",
      "source": [
        "sum =0\n",
        "for i in range(len(tup)):\n",
        "  mul = tup[i]*tup1[i]\n",
        "  sum += mul\n",
        "print(sum)"
      ],
      "metadata": {
        "colab": {
          "base_uri": "https://localhost:8080/"
        },
        "id": "k3Q676rAXE8x",
        "outputId": "57785c53-64b9-4c09-c216-44fc3e37e50c"
      },
      "execution_count": 50,
      "outputs": [
        {
          "output_type": "stream",
          "name": "stdout",
          "text": [
            "70\n"
          ]
        }
      ]
    },
    {
      "cell_type": "code",
      "source": [
        "t1 = ('dallas','Arlington','irving')\n",
        "for i, city in enumerate(t1):\n",
        "  print(i)\n",
        "  print(city)"
      ],
      "metadata": {
        "colab": {
          "base_uri": "https://localhost:8080/"
        },
        "id": "RpsciduAZvZa",
        "outputId": "ca448440-8d02-4b82-a8fa-a5d66adb3e80"
      },
      "execution_count": 64,
      "outputs": [
        {
          "output_type": "stream",
          "name": "stdout",
          "text": [
            "0\n",
            "dallas\n",
            "1\n",
            "Arlington\n",
            "2\n",
            "irving\n"
          ]
        }
      ]
    },
    {
      "cell_type": "code",
      "source": [
        "def sort_out(lt):\n",
        "  res = sorted(lst,key = lambda x : x[1])\n",
        "  return res"
      ],
      "metadata": {
        "id": "HZtQE7gzaas7"
      },
      "execution_count": 6,
      "outputs": []
    },
    {
      "cell_type": "code",
      "source": [
        "lst =[(1,3),(2,1),(4,5),(2,2)]\n",
        "res= sort_out(lst)\n",
        "res"
      ],
      "metadata": {
        "colab": {
          "base_uri": "https://localhost:8080/"
        },
        "id": "bKRQrn1oa8-E",
        "outputId": "8caf0538-f887-4b37-9798-ebe099fb162b"
      },
      "execution_count": 7,
      "outputs": [
        {
          "output_type": "execute_result",
          "data": {
            "text/plain": [
              "[(2, 1), (2, 2), (1, 3), (4, 5)]"
            ]
          },
          "metadata": {},
          "execution_count": 7
        }
      ]
    },
    {
      "cell_type": "markdown",
      "source": [
        "Dictionary:"
      ],
      "metadata": {
        "id": "eHeoExpvP6ak"
      }
    },
    {
      "cell_type": "code",
      "execution_count": 8,
      "metadata": {
        "id": "7M80JyvJKgrL"
      },
      "outputs": [],
      "source": [
        "d = {\n",
        "    \"ID1\" : 100 ,\n",
        "    \"ID2\" : 102,\n",
        "    \"ID3\" : 103,\n",
        "    \"ID4\" : 104\n",
        "}"
      ]
    },
    {
      "cell_type": "code",
      "source": [
        "type(d)"
      ],
      "metadata": {
        "colab": {
          "base_uri": "https://localhost:8080/"
        },
        "id": "GQdYxochctfV",
        "outputId": "a2e24190-b849-40bb-938f-71fa39d108f0"
      },
      "execution_count": 9,
      "outputs": [
        {
          "output_type": "execute_result",
          "data": {
            "text/plain": [
              "dict"
            ]
          },
          "metadata": {},
          "execution_count": 9
        }
      ]
    },
    {
      "cell_type": "code",
      "source": [
        "d[\"ID1\"]"
      ],
      "metadata": {
        "colab": {
          "base_uri": "https://localhost:8080/"
        },
        "id": "ELZ_LECEcuRY",
        "outputId": "d2fc609b-43cc-4d1c-cd3c-0b64815201cf"
      },
      "execution_count": 10,
      "outputs": [
        {
          "output_type": "execute_result",
          "data": {
            "text/plain": [
              "100"
            ]
          },
          "metadata": {},
          "execution_count": 10
        }
      ]
    },
    {
      "cell_type": "code",
      "source": [
        "d[\"ID5\"] = 105"
      ],
      "metadata": {
        "id": "6XMXFxLmcw2h"
      },
      "execution_count": 12,
      "outputs": []
    },
    {
      "cell_type": "code",
      "source": [
        "d"
      ],
      "metadata": {
        "colab": {
          "base_uri": "https://localhost:8080/"
        },
        "id": "Ri7aPaB_c7Js",
        "outputId": "ddcde27f-414c-43ca-b68b-0a9c963e9587"
      },
      "execution_count": 13,
      "outputs": [
        {
          "output_type": "execute_result",
          "data": {
            "text/plain": [
              "{'ID1': 100, 'ID2': 102, 'ID3': 103, 'ID4': 104, 'ID5': 105}"
            ]
          },
          "metadata": {},
          "execution_count": 13
        }
      ]
    },
    {
      "cell_type": "code",
      "source": [
        "d[\"ID2\"] = 1002"
      ],
      "metadata": {
        "id": "dnBAKLUJc87K"
      },
      "execution_count": 14,
      "outputs": []
    },
    {
      "cell_type": "code",
      "source": [
        "d"
      ],
      "metadata": {
        "colab": {
          "base_uri": "https://localhost:8080/"
        },
        "id": "HVfdWi-OdCCH",
        "outputId": "f8728a87-d6ef-4f4a-9023-fd6dd8746f65"
      },
      "execution_count": 15,
      "outputs": [
        {
          "output_type": "execute_result",
          "data": {
            "text/plain": [
              "{'ID1': 100, 'ID2': 1002, 'ID3': 103, 'ID4': 104, 'ID5': 105}"
            ]
          },
          "metadata": {},
          "execution_count": 15
        }
      ]
    },
    {
      "cell_type": "code",
      "source": [
        "for i in d:\n",
        "  print(i)"
      ],
      "metadata": {
        "colab": {
          "base_uri": "https://localhost:8080/"
        },
        "id": "ESb7qZsEdCg9",
        "outputId": "6ee2a5c1-cf43-46b5-a809-7af42cc7988f"
      },
      "execution_count": 16,
      "outputs": [
        {
          "output_type": "stream",
          "name": "stdout",
          "text": [
            "ID1\n",
            "ID2\n",
            "ID3\n",
            "ID4\n",
            "ID5\n"
          ]
        }
      ]
    },
    {
      "cell_type": "code",
      "source": [
        "for i in d.values():\n",
        "  print(i)"
      ],
      "metadata": {
        "colab": {
          "base_uri": "https://localhost:8080/"
        },
        "id": "wVDDfKhwdSzk",
        "outputId": "3653b681-4a3a-4385-bc9a-8765e6d6790e"
      },
      "execution_count": 18,
      "outputs": [
        {
          "output_type": "stream",
          "name": "stdout",
          "text": [
            "100\n",
            "1002\n",
            "103\n",
            "104\n",
            "105\n"
          ]
        }
      ]
    },
    {
      "cell_type": "code",
      "source": [
        "for i in d.keys():\n",
        "  print(i)"
      ],
      "metadata": {
        "colab": {
          "base_uri": "https://localhost:8080/"
        },
        "id": "JyE6fnYBdYcg",
        "outputId": "94e0f0dd-b78d-4688-e2e2-284778292167"
      },
      "execution_count": 19,
      "outputs": [
        {
          "output_type": "stream",
          "name": "stdout",
          "text": [
            "ID1\n",
            "ID2\n",
            "ID3\n",
            "ID4\n",
            "ID5\n"
          ]
        }
      ]
    },
    {
      "cell_type": "code",
      "source": [
        "for i,j in d.items():\n",
        "  print(i)\n",
        "  print(j)"
      ],
      "metadata": {
        "colab": {
          "base_uri": "https://localhost:8080/"
        },
        "id": "d-b6pWM4dcaG",
        "outputId": "cb1d273a-d2bd-4339-b401-7590707e5e6f"
      },
      "execution_count": 22,
      "outputs": [
        {
          "output_type": "stream",
          "name": "stdout",
          "text": [
            "ID1\n",
            "100\n",
            "ID2\n",
            "1002\n",
            "ID3\n",
            "103\n",
            "ID4\n",
            "104\n",
            "ID5\n",
            "105\n"
          ]
        }
      ]
    },
    {
      "cell_type": "code",
      "source": [
        "di = {\n",
        "    \"Person1\" : {\"Name\" : \"John\", \"age\" : 40},\n",
        "    \"Person2\" : {\"Name\" : \"Alex\", \"age\" : 30},\n",
        "    \"Person3\" : {\"Name\" : \"Bob\", \"age\" : 34},\n",
        "}"
      ],
      "metadata": {
        "id": "zwgaYB_idfOT"
      },
      "execution_count": 23,
      "outputs": []
    },
    {
      "cell_type": "code",
      "source": [
        "di[\"Person1\"][\"Name\"]"
      ],
      "metadata": {
        "colab": {
          "base_uri": "https://localhost:8080/",
          "height": 35
        },
        "id": "impKufy8eFzR",
        "outputId": "78229177-6faf-4d98-ab3f-0ff0c83b434a"
      },
      "execution_count": 26,
      "outputs": [
        {
          "output_type": "execute_result",
          "data": {
            "text/plain": [
              "'John'"
            ],
            "application/vnd.google.colaboratory.intrinsic+json": {
              "type": "string"
            }
          },
          "metadata": {},
          "execution_count": 26
        }
      ]
    },
    {
      "cell_type": "code",
      "source": [
        "di[\"Person1\"][\"Name\"] =\"Adam\""
      ],
      "metadata": {
        "id": "GM39cEGTeGyl"
      },
      "execution_count": 27,
      "outputs": []
    },
    {
      "cell_type": "code",
      "source": [
        "di[\"Person1\"][\"Name\"]"
      ],
      "metadata": {
        "colab": {
          "base_uri": "https://localhost:8080/",
          "height": 35
        },
        "id": "ZpUA2_Gaez9x",
        "outputId": "82965d66-35f5-4074-de73-d34b4308a7fe"
      },
      "execution_count": 28,
      "outputs": [
        {
          "output_type": "execute_result",
          "data": {
            "text/plain": [
              "'Adam'"
            ],
            "application/vnd.google.colaboratory.intrinsic+json": {
              "type": "string"
            }
          },
          "metadata": {},
          "execution_count": 28
        }
      ]
    },
    {
      "cell_type": "code",
      "source": [],
      "metadata": {
        "id": "RD456E55e0k6"
      },
      "execution_count": null,
      "outputs": []
    }
  ]
}