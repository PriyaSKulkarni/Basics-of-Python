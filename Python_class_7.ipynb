{
  "nbformat": 4,
  "nbformat_minor": 0,
  "metadata": {
    "colab": {
      "provenance": []
    },
    "kernelspec": {
      "name": "python3",
      "display_name": "Python 3"
    },
    "language_info": {
      "name": "python"
    }
  },
  "cells": [
    {
      "cell_type": "markdown",
      "source": [
        "Arbitary Arguments:"
      ],
      "metadata": {
        "id": "wCO6OrkWUSCX"
      }
    },
    {
      "cell_type": "code",
      "execution_count": null,
      "metadata": {
        "id": "wj2-ehldUGYQ"
      },
      "outputs": [],
      "source": [
        "def welcome(*args):\n",
        "  for i in args:\n",
        "    print(\"Welcome!\",i)"
      ]
    },
    {
      "cell_type": "code",
      "source": [
        "welcome(\"Stuard\")\n",
        "welcome(\"Stuard\",\"John\")\n",
        "welcome(\"Stuard\",\"John\",\"Austin\")"
      ],
      "metadata": {
        "colab": {
          "base_uri": "https://localhost:8080/"
        },
        "id": "RGot4oe3V7PF",
        "outputId": "46543ba3-c055-4ea4-f82d-9aa63ade4c5e"
      },
      "execution_count": null,
      "outputs": [
        {
          "output_type": "stream",
          "name": "stdout",
          "text": [
            "Welcome! Stuard\n",
            "Welcome! Stuard\n",
            "Welcome! John\n",
            "Welcome! Stuard\n",
            "Welcome! John\n",
            "Welcome! Austin\n"
          ]
        }
      ]
    },
    {
      "cell_type": "code",
      "source": [
        "lst = ['UTA','UNT','UTD']\n",
        "def university(*x):\n",
        "  for i in x:\n",
        "    for j in i:\n",
        "      print(\"Hello\",j)"
      ],
      "metadata": {
        "id": "0EjiqYjKV-1v"
      },
      "execution_count": null,
      "outputs": []
    },
    {
      "cell_type": "code",
      "source": [
        "university(lst)"
      ],
      "metadata": {
        "colab": {
          "base_uri": "https://localhost:8080/"
        },
        "id": "CCkCmmqWWdP7",
        "outputId": "93026693-2d2c-469d-c245-e68ba8e60db8"
      },
      "execution_count": null,
      "outputs": [
        {
          "output_type": "stream",
          "name": "stdout",
          "text": [
            "Hello UTA\n",
            "Hello UNT\n",
            "Hello UTD\n"
          ]
        }
      ]
    },
    {
      "cell_type": "markdown",
      "source": [
        "the arbitary arguments create the iterable data structure like tuple hence the for loop can be run on it"
      ],
      "metadata": {
        "id": "T2hFnGrLXrPw"
      }
    },
    {
      "cell_type": "code",
      "source": [
        "def get_elements(*x):\n",
        "  print(type(x))\n",
        "  for i in x:\n",
        "      print(i)"
      ],
      "metadata": {
        "id": "FcMO8dB0WgOR"
      },
      "execution_count": null,
      "outputs": []
    },
    {
      "cell_type": "code",
      "source": [
        "get_elements(20,30,40)"
      ],
      "metadata": {
        "colab": {
          "base_uri": "https://localhost:8080/"
        },
        "id": "RvFYGpnmXGpH",
        "outputId": "c6e0195d-4f14-49d8-8a96-bd8f98c0e580"
      },
      "execution_count": null,
      "outputs": [
        {
          "output_type": "stream",
          "name": "stdout",
          "text": [
            "<class 'tuple'>\n",
            "20\n",
            "30\n",
            "40\n"
          ]
        }
      ]
    },
    {
      "cell_type": "markdown",
      "source": [
        "** for keyword arguments and * for positional arguments"
      ],
      "metadata": {
        "id": "oFNDIY6iYt_D"
      }
    },
    {
      "cell_type": "markdown",
      "source": [
        "keyword arguments --> dict data structure"
      ],
      "metadata": {
        "id": "mDIdk6h-ZYR3"
      }
    },
    {
      "cell_type": "markdown",
      "source": [
        "items for both,\n",
        ".keys for keys\n",
        ".value for value"
      ],
      "metadata": {
        "id": "gs7EHR40Zjsk"
      }
    },
    {
      "cell_type": "code",
      "source": [
        "def display_info(**kaargs):\n",
        "  for k,v in kaargs.items():\n",
        "    print(f\"{k} : {v}\")"
      ],
      "metadata": {
        "id": "kNPDrRtwXLFS"
      },
      "execution_count": null,
      "outputs": []
    },
    {
      "cell_type": "code",
      "source": [
        "display_info(name = 'Alice')"
      ],
      "metadata": {
        "colab": {
          "base_uri": "https://localhost:8080/"
        },
        "id": "syvVMq6kZxSD",
        "outputId": "27f5aaa3-bf90-4ddf-8b56-672cec4c4a35"
      },
      "execution_count": null,
      "outputs": [
        {
          "output_type": "stream",
          "name": "stdout",
          "text": [
            "name : Alice\n"
          ]
        }
      ]
    },
    {
      "cell_type": "markdown",
      "source": [
        "Lambda Functions"
      ],
      "metadata": {
        "id": "bZllrW7Par8I"
      }
    },
    {
      "cell_type": "code",
      "source": [
        "#syntax for lambda functions\n",
        "# Lambda arguments : expression\n",
        "\n",
        "def add(x,y):\n",
        "  return(x+y)\n",
        "add(2,4)"
      ],
      "metadata": {
        "colab": {
          "base_uri": "https://localhost:8080/"
        },
        "id": "y4fuepyrZ2DS",
        "outputId": "76f367a7-b683-463d-9a93-0b7dcdef190a"
      },
      "execution_count": null,
      "outputs": [
        {
          "output_type": "execute_result",
          "data": {
            "text/plain": [
              "6"
            ]
          },
          "metadata": {},
          "execution_count": 20
        }
      ]
    },
    {
      "cell_type": "code",
      "source": [
        "res = lambda x,y: x+y\n",
        "res(3,4)"
      ],
      "metadata": {
        "colab": {
          "base_uri": "https://localhost:8080/"
        },
        "id": "diTd1bVybHmj",
        "outputId": "6c133454-e9ac-4508-a97a-78abc4f89745"
      },
      "execution_count": null,
      "outputs": [
        {
          "output_type": "execute_result",
          "data": {
            "text/plain": [
              "7"
            ]
          },
          "metadata": {},
          "execution_count": 23
        }
      ]
    },
    {
      "cell_type": "code",
      "source": [
        "def multiply(x):\n",
        "  return (x*100)\n",
        "\n",
        "multiply(2)"
      ],
      "metadata": {
        "colab": {
          "base_uri": "https://localhost:8080/"
        },
        "id": "IOglKBV5b6J2",
        "outputId": "a67a101e-9f03-4c10-ef8c-3ba830f0b607"
      },
      "execution_count": null,
      "outputs": [
        {
          "output_type": "execute_result",
          "data": {
            "text/plain": [
              "200"
            ]
          },
          "metadata": {},
          "execution_count": 29
        }
      ]
    },
    {
      "cell_type": "code",
      "source": [
        "res = lambda x : x*100\n",
        "res(2)"
      ],
      "metadata": {
        "colab": {
          "base_uri": "https://localhost:8080/"
        },
        "id": "zK5XI8bMcIaC",
        "outputId": "f2d718ad-9578-4fdc-a59b-513d7264268a"
      },
      "execution_count": null,
      "outputs": [
        {
          "output_type": "execute_result",
          "data": {
            "text/plain": [
              "200"
            ]
          },
          "metadata": {},
          "execution_count": 30
        }
      ]
    },
    {
      "cell_type": "markdown",
      "source": [
        "Write a lambda function that takes 2 numbers as arguments and return their product"
      ],
      "metadata": {
        "id": "7iTgCDQVcm3-"
      }
    },
    {
      "cell_type": "code",
      "source": [
        "res = lambda x,y : x*y\n",
        "res(2,7)"
      ],
      "metadata": {
        "colab": {
          "base_uri": "https://localhost:8080/"
        },
        "id": "HWVKDPObcN8M",
        "outputId": "f04a817d-4bb3-4547-9aa5-bc6552614fb1"
      },
      "execution_count": null,
      "outputs": [
        {
          "output_type": "execute_result",
          "data": {
            "text/plain": [
              "14"
            ]
          },
          "metadata": {},
          "execution_count": 28
        }
      ]
    },
    {
      "cell_type": "markdown",
      "source": [
        "Write a lambda function that takes string and return its length"
      ],
      "metadata": {
        "id": "8eTiVQmKdBXz"
      }
    },
    {
      "cell_type": "code",
      "source": [
        "res = lambda stri : len(stri)\n",
        "res(\"Priya\")"
      ],
      "metadata": {
        "colab": {
          "base_uri": "https://localhost:8080/"
        },
        "id": "6YTQf92Bcuhu",
        "outputId": "92798ded-1142-4211-acd3-6880724b864f"
      },
      "execution_count": null,
      "outputs": [
        {
          "output_type": "execute_result",
          "data": {
            "text/plain": [
              "5"
            ]
          },
          "metadata": {},
          "execution_count": 32
        }
      ]
    },
    {
      "cell_type": "code",
      "source": [
        "sent = \"I like me\"\n",
        "res = lambda sent :  len(sent.split())"
      ],
      "metadata": {
        "id": "18gBx38TdKwc"
      },
      "execution_count": null,
      "outputs": []
    },
    {
      "cell_type": "code",
      "source": [
        "res(sent)"
      ],
      "metadata": {
        "colab": {
          "base_uri": "https://localhost:8080/"
        },
        "id": "P4D-b0EQd-QF",
        "outputId": "b6a5ef02-1568-49ee-b4ec-0a861bfdac18"
      },
      "execution_count": null,
      "outputs": [
        {
          "output_type": "execute_result",
          "data": {
            "text/plain": [
              "3"
            ]
          },
          "metadata": {},
          "execution_count": 34
        }
      ]
    },
    {
      "cell_type": "markdown",
      "source": [
        "Write a lambda function that takes a number as an argument and returns \"positive\" if the number is greater than zero and \"non-positive\" otherwise"
      ],
      "metadata": {
        "id": "bClMjgngeFL2"
      }
    },
    {
      "cell_type": "code",
      "source": [
        "res = lambda num : \"Positive\" if num>0 else \"Non-Positive\"\n",
        "res(10)"
      ],
      "metadata": {
        "colab": {
          "base_uri": "https://localhost:8080/",
          "height": 35
        },
        "id": "CBWT3tqmd__j",
        "outputId": "c1f08663-faef-4aec-8872-5f4caed4479a"
      },
      "execution_count": null,
      "outputs": [
        {
          "output_type": "execute_result",
          "data": {
            "text/plain": [
              "'Positive'"
            ],
            "application/vnd.google.colaboratory.intrinsic+json": {
              "type": "string"
            }
          },
          "metadata": {},
          "execution_count": 42
        }
      ]
    },
    {
      "cell_type": "markdown",
      "source": [
        "Write a lambda function that takes a number as an argument and returns \"positive\" if the number is greater than zero and \"zero\" if the number is equal to zero and \"Non positive\" if its less than zero"
      ],
      "metadata": {
        "id": "bZgScHHcf1qa"
      }
    },
    {
      "cell_type": "code",
      "source": [
        "res =  lambda num: \"Positive\" if num>0  else \"Zero\" if num==0 else \"Non-positive\"\n",
        "res(-1)"
      ],
      "metadata": {
        "colab": {
          "base_uri": "https://localhost:8080/",
          "height": 35
        },
        "id": "g2NJYaLyeaDr",
        "outputId": "ba5a1efb-a721-4728-c4f5-a739ab2fb461"
      },
      "execution_count": null,
      "outputs": [
        {
          "output_type": "execute_result",
          "data": {
            "text/plain": [
              "'Non-positive'"
            ],
            "application/vnd.google.colaboratory.intrinsic+json": {
              "type": "string"
            }
          },
          "metadata": {},
          "execution_count": 47
        }
      ]
    },
    {
      "cell_type": "markdown",
      "source": [
        "Map() Function"
      ],
      "metadata": {
        "id": "mqD6efs4hy0t"
      }
    },
    {
      "cell_type": "code",
      "source": [
        "\n",
        "lst = [10,20,30]\n",
        "lst2 =[]\n",
        "for i in lst:\n",
        "  lst2.append(i*i)\n",
        "print(lst2)"
      ],
      "metadata": {
        "colab": {
          "base_uri": "https://localhost:8080/"
        },
        "id": "tEuw1_L_gjei",
        "outputId": "2c2e8409-a619-45f8-cb92-db03e744a101"
      },
      "execution_count": null,
      "outputs": [
        {
          "output_type": "stream",
          "name": "stdout",
          "text": [
            "[100, 400, 900]\n"
          ]
        }
      ]
    },
    {
      "cell_type": "code",
      "source": [
        "#map(function, iterable)\n",
        "\n",
        "res =  list(map(lambda x : x*x, lst))\n",
        "print(res)"
      ],
      "metadata": {
        "colab": {
          "base_uri": "https://localhost:8080/"
        },
        "id": "6GnRpjNRjRzF",
        "outputId": "a2734a18-1e12-4851-f413-17421cfd6da6"
      },
      "execution_count": null,
      "outputs": [
        {
          "output_type": "stream",
          "name": "stdout",
          "text": [
            "[100, 400, 900]\n"
          ]
        }
      ]
    },
    {
      "cell_type": "code",
      "source": [
        "lst1= range(1,11)\n",
        "lst2 = range(10,21)\n"
      ],
      "metadata": {
        "id": "7t61T4p6jk3U"
      },
      "execution_count": 1,
      "outputs": []
    },
    {
      "cell_type": "code",
      "source": [
        "res = list(map(lambda x,y:x*y,lst1,lst2))\n",
        "print(res)"
      ],
      "metadata": {
        "colab": {
          "base_uri": "https://localhost:8080/"
        },
        "id": "_dpsr38mkk8d",
        "outputId": "be90f81b-d331-4160-bb11-3140d5a7bce1"
      },
      "execution_count": 2,
      "outputs": [
        {
          "output_type": "stream",
          "name": "stdout",
          "text": [
            "[10, 22, 36, 52, 70, 90, 112, 136, 162, 190]\n"
          ]
        }
      ]
    },
    {
      "cell_type": "code",
      "source": [
        "fname = ['Adam' ,'Stuard']\n",
        "lname = ['Smith', 'Johnson']\n",
        "\n",
        "res = list(map(lambda x,y: x +\" \" +y,fname,lname))\n",
        "print(res)"
      ],
      "metadata": {
        "id": "oqfiCZyMlCAd",
        "colab": {
          "base_uri": "https://localhost:8080/"
        },
        "outputId": "29251412-3833-414a-b3f1-a96941482d2c"
      },
      "execution_count": 3,
      "outputs": [
        {
          "output_type": "stream",
          "name": "stdout",
          "text": [
            "['Adam Smith', 'Stuard Johnson']\n"
          ]
        }
      ]
    },
    {
      "cell_type": "markdown",
      "source": [
        "Give increment of 20 percent to the salary"
      ],
      "metadata": {
        "id": "LEjrcJZpQV25"
      }
    },
    {
      "cell_type": "code",
      "source": [
        "lst = [10000,20000,25000]\n",
        "#using map\n",
        "res=list(map(lambda x:x+x*.2,lst))\n",
        "print(res)"
      ],
      "metadata": {
        "colab": {
          "base_uri": "https://localhost:8080/"
        },
        "id": "hr0MU0fdOs0c",
        "outputId": "6f2dc438-6bdb-438c-e83b-7eb4290bdce5"
      },
      "execution_count": 9,
      "outputs": [
        {
          "output_type": "stream",
          "name": "stdout",
          "text": [
            "[12000.0, 24000.0, 30000.0]\n"
          ]
        }
      ]
    },
    {
      "cell_type": "code",
      "source": [
        "# noraml form\n",
        "output=[]\n",
        "for i in lst:\n",
        "  output.append(i + i*0.2)\n",
        "print(output)"
      ],
      "metadata": {
        "colab": {
          "base_uri": "https://localhost:8080/"
        },
        "id": "rBC_fp6tPxMa",
        "outputId": "d857f35e-e388-48dc-a5ee-e13b2cc7b3bb"
      },
      "execution_count": 11,
      "outputs": [
        {
          "output_type": "stream",
          "name": "stdout",
          "text": [
            "[12000.0, 24000.0, 30000.0]\n"
          ]
        }
      ]
    },
    {
      "cell_type": "markdown",
      "source": [
        "Reduce() Function:"
      ],
      "metadata": {
        "id": "qhFWbW3VRquP"
      }
    },
    {
      "cell_type": "code",
      "source": [
        "from functools import reduce"
      ],
      "metadata": {
        "id": "QlAIXSJGQqxS"
      },
      "execution_count": 12,
      "outputs": []
    },
    {
      "cell_type": "code",
      "source": [
        "lst = [10,20,30,40,50]\n",
        "\n",
        "#normal way\n",
        "total =0\n",
        "for i in lst:\n",
        "  total +=i\n",
        "print(total)\n"
      ],
      "metadata": {
        "colab": {
          "base_uri": "https://localhost:8080/"
        },
        "id": "ET-j3JGwSLGh",
        "outputId": "498f133a-6416-424e-ddb1-6b65d737ce39"
      },
      "execution_count": 17,
      "outputs": [
        {
          "output_type": "stream",
          "name": "stdout",
          "text": [
            "150\n"
          ]
        }
      ]
    },
    {
      "cell_type": "code",
      "source": [
        "# Using Reduce function\n",
        "res= reduce(lambda x,y: x+y ,lst)\n",
        "print(res)"
      ],
      "metadata": {
        "colab": {
          "base_uri": "https://localhost:8080/"
        },
        "id": "vdJet1yBSakT",
        "outputId": "69a23aa6-245d-4cd4-a270-f69345b5f513"
      },
      "execution_count": 22,
      "outputs": [
        {
          "output_type": "stream",
          "name": "stdout",
          "text": [
            "150\n"
          ]
        }
      ]
    },
    {
      "cell_type": "code",
      "source": [
        "# concat the strings\n",
        "words = ['I','Like','UTA']\n",
        "res = reduce(lambda x,y: x+\" \"+y,words)\n",
        "print(res)"
      ],
      "metadata": {
        "colab": {
          "base_uri": "https://localhost:8080/"
        },
        "id": "gyxSVdvDTHe9",
        "outputId": "72c2208f-b976-43a1-d099-19305dfe77a1"
      },
      "execution_count": 24,
      "outputs": [
        {
          "output_type": "stream",
          "name": "stdout",
          "text": [
            "I Like UTA\n"
          ]
        }
      ]
    },
    {
      "cell_type": "code",
      "source": [
        "#Calculate factorial of a number using reduce function\n",
        "num = int(input(\"Enter the factorial number: \"))\n",
        "lst =range(1,num+1)\n",
        "res= reduce(lambda x,y: x*y, lst)\n",
        "print(res)"
      ],
      "metadata": {
        "colab": {
          "base_uri": "https://localhost:8080/"
        },
        "id": "tsWR1Q46UT06",
        "outputId": "7dedfe08-afae-4940-ca80-f3690fc23991"
      },
      "execution_count": 31,
      "outputs": [
        {
          "output_type": "stream",
          "name": "stdout",
          "text": [
            "Enter the factorial number: 5\n",
            "120\n"
          ]
        }
      ]
    },
    {
      "cell_type": "markdown",
      "source": [
        "Filter function"
      ],
      "metadata": {
        "id": "7Kn2qTK8WXUH"
      }
    },
    {
      "cell_type": "code",
      "source": [
        "lst = [10000, 5000, 15000, 7000]\n",
        "res = list(filter(lambda x: x> 10000, lst))\n",
        "print(res)"
      ],
      "metadata": {
        "colab": {
          "base_uri": "https://localhost:8080/"
        },
        "id": "CxyiAO6cU7VH",
        "outputId": "77ac3136-eff0-444a-c325-7ea4e73afad5"
      },
      "execution_count": 32,
      "outputs": [
        {
          "output_type": "stream",
          "name": "stdout",
          "text": [
            "[15000]\n"
          ]
        }
      ]
    },
    {
      "cell_type": "code",
      "source": [
        "lst = ['UTA',\"UTD\",'UNT','KU','SMU']\n",
        "res = list(filter(lambda x: x[-1] =='T' or x[-1]==\"U\",lst))\n",
        "print(res)"
      ],
      "metadata": {
        "colab": {
          "base_uri": "https://localhost:8080/"
        },
        "id": "hEgL_VcBXdh6",
        "outputId": "bd3e991e-ce0a-47f0-e1f0-02008b61930c"
      },
      "execution_count": 33,
      "outputs": [
        {
          "output_type": "stream",
          "name": "stdout",
          "text": [
            "['UNT', 'KU', 'SMU']\n"
          ]
        }
      ]
    },
    {
      "cell_type": "code",
      "source": [
        "res = list(filter(lambda x: x[-1] in \"TU\" ,lst))\n",
        "print(res)"
      ],
      "metadata": {
        "colab": {
          "base_uri": "https://localhost:8080/"
        },
        "id": "UqznbN8OYIft",
        "outputId": "384e7c53-b745-4fa1-cb27-33b40dfaae63"
      },
      "execution_count": 34,
      "outputs": [
        {
          "output_type": "stream",
          "name": "stdout",
          "text": [
            "['UNT', 'KU', 'SMU']\n"
          ]
        }
      ]
    },
    {
      "cell_type": "code",
      "source": [],
      "metadata": {
        "id": "oZs6iOnOYzn-"
      },
      "execution_count": null,
      "outputs": []
    }
  ]
}