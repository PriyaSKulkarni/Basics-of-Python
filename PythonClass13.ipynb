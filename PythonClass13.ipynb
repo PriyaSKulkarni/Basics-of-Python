{
  "nbformat": 4,
  "nbformat_minor": 0,
  "metadata": {
    "colab": {
      "provenance": []
    },
    "kernelspec": {
      "name": "python3",
      "display_name": "Python 3"
    },
    "language_info": {
      "name": "python"
    }
  },
  "cells": [
    {
      "cell_type": "code",
      "execution_count": null,
      "metadata": {
        "id": "Ye2zxMDmmOY-"
      },
      "outputs": [],
      "source": [
        "class Person:\n",
        "  def __init__(self, fname,lname,age):\n",
        "    self.fname = fname\n",
        "    self.lname = lname\n",
        "    self.age = age\n",
        "\n",
        "  def full_name(self):\n",
        "    return (f\"{self.fname}.{self.lname} is your name\" )\n",
        "\n",
        "  def describe(self):\n",
        "    return f\"{self.full_name()}. You are {self.age} years old\"\n"
      ]
    },
    {
      "cell_type": "code",
      "source": [
        "person1 = Person(\"John\",\"Smith\",24)\n"
      ],
      "metadata": {
        "id": "AkB7ZpAota_P"
      },
      "execution_count": null,
      "outputs": []
    },
    {
      "cell_type": "code",
      "source": [
        "person1.full_name()"
      ],
      "metadata": {
        "colab": {
          "base_uri": "https://localhost:8080/",
          "height": 35
        },
        "id": "i5YJZlkEtiBA",
        "outputId": "4a8c792a-98ac-4821-b7a6-d8d870e6f727"
      },
      "execution_count": null,
      "outputs": [
        {
          "output_type": "execute_result",
          "data": {
            "text/plain": [
              "'John.Smith is your name'"
            ],
            "application/vnd.google.colaboratory.intrinsic+json": {
              "type": "string"
            }
          },
          "metadata": {},
          "execution_count": 4
        }
      ]
    },
    {
      "cell_type": "code",
      "source": [
        "person1.age"
      ],
      "metadata": {
        "colab": {
          "base_uri": "https://localhost:8080/"
        },
        "id": "dCVCrdYzuVIP",
        "outputId": "8e0aec7e-805b-4bbc-d1a2-09222c26e596"
      },
      "execution_count": null,
      "outputs": [
        {
          "output_type": "execute_result",
          "data": {
            "text/plain": [
              "24"
            ]
          },
          "metadata": {},
          "execution_count": 5
        }
      ]
    },
    {
      "cell_type": "code",
      "source": [
        "person1.describe()"
      ],
      "metadata": {
        "colab": {
          "base_uri": "https://localhost:8080/",
          "height": 35
        },
        "id": "wyh_WTM3uW8v",
        "outputId": "d909cef4-c20a-4492-cc4e-61d3c6e540f7"
      },
      "execution_count": null,
      "outputs": [
        {
          "output_type": "execute_result",
          "data": {
            "text/plain": [
              "'John.Smith is your name. You are 24 years old'"
            ],
            "application/vnd.google.colaboratory.intrinsic+json": {
              "type": "string"
            }
          },
          "metadata": {},
          "execution_count": 6
        }
      ]
    },
    {
      "cell_type": "code",
      "source": [
        "class Car:\n",
        "  def __init__(self, make,year, price):\n",
        "    self.make=make\n",
        "    self.year= year\n",
        "    self.price=price\n",
        "  def display(self):\n",
        "    return (f\"the car's make is {self.make}, car's year {self.year}, car's price with tax is {self.price_with_tax()}\")\n",
        "\n",
        "  def price_with_tax(self):\n",
        "    return (self.price + (self.price * 0.1))"
      ],
      "metadata": {
        "id": "hZ19pDQ4uadm"
      },
      "execution_count": null,
      "outputs": []
    },
    {
      "cell_type": "code",
      "source": [
        "try:\n",
        "  make= input(\"Enter the make of car\")\n",
        "  year = int(input(\" Enter the year of car\"))\n",
        "  price= float(input(\"enter the price of the car\"))\n",
        "\n",
        "except Exception as e:\n",
        "  print(e)"
      ],
      "metadata": {
        "colab": {
          "base_uri": "https://localhost:8080/"
        },
        "id": "yVErZLnhv849",
        "outputId": "38744b7a-8ec9-46cc-9465-e7ac430921e2"
      },
      "execution_count": null,
      "outputs": [
        {
          "name": "stdout",
          "output_type": "stream",
          "text": [
            "Enter the make of carferrai\n",
            " Enter the year of car1999\n",
            "enter the price of the car30200\n"
          ]
        }
      ]
    },
    {
      "cell_type": "code",
      "source": [
        "car1 = Car(make,year,price)\n",
        "car1.display()"
      ],
      "metadata": {
        "colab": {
          "base_uri": "https://localhost:8080/",
          "height": 35
        },
        "id": "DxyLfMfEwciA",
        "outputId": "6bf838b6-5c8e-493d-ac1a-a05f5cef850c"
      },
      "execution_count": null,
      "outputs": [
        {
          "output_type": "execute_result",
          "data": {
            "text/plain": [
              "\"the car's make is ferrai, car's year 1999, car's price with tax is 33220.0\""
            ],
            "application/vnd.google.colaboratory.intrinsic+json": {
              "type": "string"
            }
          },
          "metadata": {},
          "execution_count": 13
        }
      ]
    },
    {
      "cell_type": "code",
      "source": [
        "class BankAccount:\n",
        "  def __init__(self, number, name, balance):\n",
        "    self.number = number\n",
        "    self.name = name\n",
        "    self.balance = balance\n",
        "\n",
        "  def depoist(self,amount):\n",
        "    self.balance += amount\n",
        "    print(f\"{amount} desposited, Your current balance is {self.balance}\")\n",
        "\n",
        "\n",
        "  def withdraw(self, amount):\n",
        "    if self.balance < amount:\n",
        "      print(f\"Insufficent balance, Your current balance is {self.balance}\")\n",
        "    else:\n",
        "      self.balance -= amount\n",
        "      print(f\"{amount} withdrawn, Your current balance is {self.balance}\")\n",
        "\n",
        "  def display(self):\n",
        "    print(f\"Account name : {self.name}\")\n",
        "    print(f\"Account number : {self.number}\")\n",
        "    print(f\"Current account balance : {self.balance}\")"
      ],
      "metadata": {
        "id": "t8_HhRDhwqYu"
      },
      "execution_count": null,
      "outputs": []
    },
    {
      "cell_type": "code",
      "source": [
        "account1 = BankAccount(10001,\"John\",30000)\n",
        "account1.display()"
      ],
      "metadata": {
        "colab": {
          "base_uri": "https://localhost:8080/"
        },
        "id": "e5JjSaUnzwlb",
        "outputId": "972f6faa-725d-4841-beb2-92d47512f01d"
      },
      "execution_count": null,
      "outputs": [
        {
          "output_type": "stream",
          "name": "stdout",
          "text": [
            "Account name : John\n",
            "Account number : 10001\n",
            "Current account balance : 30000\n"
          ]
        }
      ]
    },
    {
      "cell_type": "code",
      "source": [
        "account1.depoist(3000)"
      ],
      "metadata": {
        "colab": {
          "base_uri": "https://localhost:8080/"
        },
        "id": "HswWifpz0JB5",
        "outputId": "83b5d24d-31c4-41e8-f5b1-5b275103704f"
      },
      "execution_count": null,
      "outputs": [
        {
          "output_type": "stream",
          "name": "stdout",
          "text": [
            "3000 desposited, Your current balance is 33000\n"
          ]
        }
      ]
    },
    {
      "cell_type": "code",
      "source": [
        "account1.withdraw(200)"
      ],
      "metadata": {
        "colab": {
          "base_uri": "https://localhost:8080/"
        },
        "id": "OVx9Ua5Z0Oof",
        "outputId": "e93a9b1a-2eb3-45b1-90fb-8a1155b575e9"
      },
      "execution_count": null,
      "outputs": [
        {
          "output_type": "stream",
          "name": "stdout",
          "text": [
            "200 withdrawn, Your current balance is 32800\n"
          ]
        }
      ]
    },
    {
      "cell_type": "code",
      "source": [
        "account1.withdraw(40000)"
      ],
      "metadata": {
        "colab": {
          "base_uri": "https://localhost:8080/"
        },
        "id": "LgX26aJr0STe",
        "outputId": "ee13ffc6-abbf-4e55-c783-4c9f77ec3f30"
      },
      "execution_count": null,
      "outputs": [
        {
          "output_type": "stream",
          "name": "stdout",
          "text": [
            "Insufficent balance, Your current balance is 32800\n"
          ]
        }
      ]
    },
    {
      "cell_type": "code",
      "source": [
        "account1.display()"
      ],
      "metadata": {
        "colab": {
          "base_uri": "https://localhost:8080/"
        },
        "id": "Gk5rkO1W0Viq",
        "outputId": "11b08e35-fe25-48ae-e377-d210f94d30a4"
      },
      "execution_count": null,
      "outputs": [
        {
          "output_type": "stream",
          "name": "stdout",
          "text": [
            "Account name : John\n",
            "Account number : 10001\n",
            "Current account balance : 32800\n"
          ]
        }
      ]
    },
    {
      "cell_type": "code",
      "source": [
        "class BankAccount:\n",
        "  def __init__(self, balance, rate):\n",
        "    self.balance = balance\n",
        "    self.rate = rate\n",
        "\n",
        "  def deposit(self, amount):\n",
        "    self.balance += amount\n",
        "\n",
        "  def withdraw(self, amount):\n",
        "    self.balance -= amount\n",
        "\n",
        "class CheckingAccount(BankAccount):\n",
        "  def __init__(self, balance, rate, fee):\n",
        "    super().__init__(balance, rate)\n",
        "    self.fee = fee\n",
        "\n",
        "  def charge_fee(self):\n",
        "    self.balance -= self.fee\n",
        "\n",
        "  def withdraw(self, amount):\n",
        "    if self.balance < amount:\n",
        "      print(\"Insufficient Funds\")\n",
        "    else:\n",
        "      self.balance -= amount\n",
        "\n",
        "  def calculate_checking_balance(self):\n",
        "    print(f\"your current balance : ${self.balance}\")\n",
        "\n",
        "\n",
        "class SavingAccount(BankAccount):\n",
        "  def __init__(self, balance, rate, freq):\n",
        "    BankAccount.__init__(self, balance, rate)\n",
        "    self.freq = freq\n",
        "\n",
        "  def add_interest(self):\n",
        "    interest = self.balance * self.rate * self.freq\n",
        "    self.balance += interest\n",
        "\n",
        "  def withdraw(self, amount):\n",
        "    if self.balance < amount:\n",
        "      print(\"Insufficient Funds\")\n",
        "    else:\n",
        "      self.balance -= amount\n",
        "\n",
        "  def calculate_saving_balance(self):\n",
        "    print(f\"your saving balance : ${self.balance}\")\n"
      ],
      "metadata": {
        "id": "EXXX7oya0mwG"
      },
      "execution_count": 1,
      "outputs": []
    },
    {
      "cell_type": "code",
      "source": [
        "c1 = CheckingAccount(10000,0.01,10)\n",
        "c1.deposit(5000)\n",
        "c1.withdraw(3000)\n",
        "c1.calculate_checking_balance()"
      ],
      "metadata": {
        "colab": {
          "base_uri": "https://localhost:8080/"
        },
        "id": "8XKo-md1wBjR",
        "outputId": "8f0d2220-f523-4841-c98f-f33ba80c0e2e"
      },
      "execution_count": 2,
      "outputs": [
        {
          "output_type": "stream",
          "name": "stdout",
          "text": [
            "your current balance : $12000\n"
          ]
        }
      ]
    },
    {
      "cell_type": "code",
      "source": [
        "c1.deposit(10000)\n",
        "c1.calculate_checking_balance()"
      ],
      "metadata": {
        "colab": {
          "base_uri": "https://localhost:8080/"
        },
        "id": "Cp8vN2g_wEFD",
        "outputId": "8b8b4105-0265-44cd-ea7f-0df50716e58b"
      },
      "execution_count": 3,
      "outputs": [
        {
          "output_type": "stream",
          "name": "stdout",
          "text": [
            "your current balance : $22000\n"
          ]
        }
      ]
    },
    {
      "cell_type": "code",
      "source": [
        "from abc import ABC, abstractmethod"
      ],
      "metadata": {
        "id": "LKEFKUpPwGll"
      },
      "execution_count": 4,
      "outputs": []
    },
    {
      "cell_type": "code",
      "source": [
        "class Federal:\n",
        "  def __init__(self, fed_tax_rate, amount):\n",
        "    self.__fed_tax_rate = fed_tax_rate\n",
        "    self.__amount = amount\n",
        "\n",
        "  def get_fed_tax_rate(self):\n",
        "    return self.__fed_tax_rate\n",
        "\n",
        "  def get_amount(self):\n",
        "    return self.__amount\n",
        "\n",
        "  def set_amount(self, amount):\n",
        "    self.__amount = amount\n",
        "\n",
        "  def calculate_tax(self):\n",
        "    return self.get_fed_tax_rate() * self.get_amount()\n",
        "\n",
        "  def show_fed_tax(self):\n",
        "    print(f\"Federal tax rate : {self.get_fed_tax_rate():.0%}\")\n",
        "    print(f\"Federal tax Amount : {self.calculate_tax():.0%}\")\n",
        "\n",
        "\n",
        "  @abstractmethod\n",
        "  def pay_tax(self):\n",
        "    pass\n",
        "\n",
        "class State(Federal):\n",
        "  def __init__(self, fed_tax_rate, amount, state_tax_rate):\n",
        "    super().__init__(fed_tax_rate, amount)\n",
        "    self.state_tax_rate = state_tax_rate\n",
        "\n",
        "  def calculate_tax(self):\n",
        "    fed_tax_amount = super().calculate_tax()\n",
        "    state_tax_amount = self.get_amount() * self.state_tax_rate\n",
        "    return fed_tax_amount+state_tax_amount\n",
        "\n",
        "  def show_state_tax(self):\n",
        "    print(f\"State tax rate : {self.state_tax_rate:.0%}\")\n",
        "    print(f\"State tax Amount : {self.get_amount()*self.state_tax_rate:.0%}\")\n",
        "\n",
        "  def pay_tax(self):\n",
        "    print(\"pay your outstanding fed and state tax by arpil\")\n"
      ],
      "metadata": {
        "id": "kLSKbptWwIsA"
      },
      "execution_count": 10,
      "outputs": []
    },
    {
      "cell_type": "code",
      "source": [
        "f1 = Federal(0.02, 100000)"
      ],
      "metadata": {
        "id": "iC43o1IAwK-j"
      },
      "execution_count": 11,
      "outputs": []
    },
    {
      "cell_type": "code",
      "source": [
        "s1 = State(0.02, 100000, 0.05)"
      ],
      "metadata": {
        "id": "LTXLtA8MwM__"
      },
      "execution_count": 12,
      "outputs": []
    },
    {
      "cell_type": "code",
      "source": [
        "s1.show_fed_tax()\n",
        "s1.show_state_tax()\n",
        "print(s1.calculate_tax())"
      ],
      "metadata": {
        "colab": {
          "base_uri": "https://localhost:8080/"
        },
        "id": "WYV3NR6rwPch",
        "outputId": "9d638233-b81c-4da9-f5bb-03434b8d58c3"
      },
      "execution_count": 13,
      "outputs": [
        {
          "output_type": "stream",
          "name": "stdout",
          "text": [
            "Federal tax rate : 2%\n",
            "Federal tax Amount : 700000%\n",
            "State tax rate : 5%\n",
            "State tax Amount : 500000%\n",
            "7000.0\n"
          ]
        }
      ]
    },
    {
      "cell_type": "code",
      "source": [
        "s1.set_amount(200000)\n",
        "s1.show_fed_tax()"
      ],
      "metadata": {
        "colab": {
          "base_uri": "https://localhost:8080/"
        },
        "id": "elAGGsPRwRvt",
        "outputId": "c919a6ca-bdbd-491f-fb55-2ed6731e1e55"
      },
      "execution_count": 9,
      "outputs": [
        {
          "output_type": "stream",
          "name": "stdout",
          "text": [
            "Federal tax rate : 2%\n",
            "Federal tax Amount : 1400000%\n"
          ]
        }
      ]
    },
    {
      "cell_type": "code",
      "source": [],
      "metadata": {
        "id": "_9_mrlFjwVVH"
      },
      "execution_count": null,
      "outputs": []
    }
  ]
}