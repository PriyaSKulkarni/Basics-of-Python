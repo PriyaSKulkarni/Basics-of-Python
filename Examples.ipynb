{
  "nbformat": 4,
  "nbformat_minor": 0,
  "metadata": {
    "colab": {
      "provenance": []
    },
    "kernelspec": {
      "name": "python3",
      "display_name": "Python 3"
    },
    "language_info": {
      "name": "python"
    }
  },
  "cells": [
    {
      "cell_type": "code",
      "execution_count": 1,
      "metadata": {
        "colab": {
          "base_uri": "https://localhost:8080/"
        },
        "id": "o-wqfuh-yHSz",
        "outputId": "258e2852-4ed2-48e0-82bf-aa054b5bcb17"
      },
      "outputs": [
        {
          "output_type": "stream",
          "name": "stdout",
          "text": [
            "Enter the amount: 10.63\n",
            "Your amount 10.63 consists of\n",
            "10 dollars\n",
            "2 quarters\n",
            "1 dimes\n",
            "0 nickels\n",
            "3 pennies\n"
          ]
        }
      ],
      "source": [
        "amount = float(input(\"Enter the amount: \"))\n",
        "remaining_amount = int(amount * 100)\n",
        "dollars = remaining_amount // 100\n",
        "remaining_amount %= 100\n",
        "quarters = remaining_amount // 25\n",
        "remaining_amount %= 25\n",
        "dimes = remaining_amount // 10\n",
        "remaining_amount %= 10\n",
        "nickels = remaining_amount // 5\n",
        "remaining_amount %= 5\n",
        "pennies = remaining_amount\n",
        "print(f\"Your amount {amount:.2f} consists of\")\n",
        "print(f\"{dollars} dollars\")\n",
        "print(f\"{quarters} quarters\")\n",
        "print(f\"{dimes} dimes\")\n",
        "print(f\"{nickels} nickels\")\n",
        "print(f\"{pennies} pennies\")"
      ]
    },
    {
      "cell_type": "code",
      "source": [
        "weight_pounds = float(input(\"Enter weight in pounds: \"))\n",
        "feet = int(input(\"Enter feet: \"))\n",
        "inches = int(input(\"Enter inches: \"))\n",
        "height_inches = feet * 12 + inches\n",
        "weight_kg = weight_pounds * 0.45359237\n",
        "bmi = weight_kg / ((height_inches * 0.0254) * (height_inches * 0.0254))\n",
        "print(f\"BMI is {bmi}\")\n",
        "if bmi < 18.5:\n",
        "    print(\"Underweight\")\n",
        "elif bmi < 25:\n",
        "    print(\"Normal\")\n",
        "elif bmi < 30:\n",
        "    print(\"Overweight\")\n",
        "else:\n",
        "    print(\"Obese\")"
      ],
      "metadata": {
        "colab": {
          "base_uri": "https://localhost:8080/"
        },
        "id": "CpMt3ZfZzVMM",
        "outputId": "79cf2c82-0528-4015-86f8-f01d12543b0b"
      },
      "execution_count": 2,
      "outputs": [
        {
          "output_type": "stream",
          "name": "stdout",
          "text": [
            "Enter weight in pounds: 120\n",
            "Enter feet: 5\n",
            "Enter inches: 1\n",
            "BMI is 22.67356881394763\n",
            "Normal\n"
          ]
        }
      ]
    },
    {
      "cell_type": "code",
      "source": [
        "month = int(input(\"Enter the month (in numeric form): \"))\n",
        "day = int(input(\"Enter the day: \"))\n",
        "year = int(input(\"Enter the 2-digit year: \"))\n",
        "if month < 1 or month > 12:\n",
        "    print(\"Error: Month should be between 1 and 12.\")\n",
        "elif day < 1 or day > 31:\n",
        "    print(\"Error: Day should be between 1 and 31.\")\n",
        "elif year < 0 or year > 99:\n",
        "    print(\"Error: Year should be between 0 and 99.\")\n",
        "else:\n",
        "    if month * day == year:\n",
        "        print(f\"The date is {month} / {day} / {year}\")\n",
        "        print(\"This is a magic date.\")\n",
        "    else:\n",
        "        print(f\"The date is {month} / {day} / {year}\")\n",
        "        print(\"This is not a magic date.\")"
      ],
      "metadata": {
        "colab": {
          "base_uri": "https://localhost:8080/"
        },
        "id": "kdhQb3uF0yzZ",
        "outputId": "81ca63c8-4358-4e48-fae6-b37df74a3b7f"
      },
      "execution_count": 3,
      "outputs": [
        {
          "output_type": "stream",
          "name": "stdout",
          "text": [
            "Enter the month (in numeric form): 7\n",
            "Enter the day: 3\n",
            "Enter the 2-digit year: 21\n",
            "The date is 7 / 3 / 21\n",
            "This is a magic date.\n"
          ]
        }
      ]
    },
    {
      "cell_type": "code",
      "source": [
        "RETAIL_PRICE = 99\n",
        "quantity = int(input(\"Enter the number of packages purchased: \"))\n",
        "if quantity >= 10 and quantity <= 19:\n",
        "    discount_rate = 0.10\n",
        "elif quantity >= 20 and quantity <= 49:\n",
        "    discount_rate = 0.20\n",
        "elif quantity >= 50 and quantity <= 99:\n",
        "    discount_rate = 0.30\n",
        "elif quantity >= 100:\n",
        "    discount_rate = 0.40\n",
        "else:\n",
        "    discount_rate = 0\n",
        "full_price = quantity * RETAIL_PRICE\n",
        "discount_amount = full_price * discount_rate\n",
        "total_amount = full_price - discount_amount\n",
        "print(f\"Discount Amount: ${discount_amount:.2f}\")\n",
        "print(f\"Total Amount: ${total_amount:.2f}\")"
      ],
      "metadata": {
        "colab": {
          "base_uri": "https://localhost:8080/"
        },
        "id": "gPbG5ccj1jye",
        "outputId": "66e615a6-9ea7-4c87-e369-c3815409f097"
      },
      "execution_count": 4,
      "outputs": [
        {
          "output_type": "stream",
          "name": "stdout",
          "text": [
            "Enter the number of packages purchased: 20\n",
            "Discount Amount: $396.00\n",
            "Total Amount: $1584.00\n"
          ]
        }
      ]
    },
    {
      "cell_type": "code",
      "source": [],
      "metadata": {
        "id": "qnbUT88z2CyA"
      },
      "execution_count": null,
      "outputs": []
    }
  ]
}