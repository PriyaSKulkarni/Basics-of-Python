{
  "nbformat": 4,
  "nbformat_minor": 0,
  "metadata": {
    "colab": {
      "provenance": []
    },
    "kernelspec": {
      "name": "python3",
      "display_name": "Python 3"
    },
    "language_info": {
      "name": "python"
    }
  },
  "cells": [
    {
      "cell_type": "markdown",
      "source": [
        "Loops:\n",
        "\n",
        "while"
      ],
      "metadata": {
        "id": "S-zaLO3lSk6I"
      }
    },
    {
      "cell_type": "code",
      "source": [
        "x = 5\n",
        "y = 10\n",
        "while x<= y: # condition\n",
        "  print(\"I love UTA\")\n",
        "  #print(x)\n",
        "  print (y)\n",
        "  y-=1\n",
        "  #x+=1 # increment condition"
      ],
      "metadata": {
        "colab": {
          "base_uri": "https://localhost:8080/"
        },
        "id": "HVLupuwoSmDE",
        "outputId": "c46812b9-df1d-45a7-a3bf-7b11d6c3b981"
      },
      "execution_count": null,
      "outputs": [
        {
          "output_type": "stream",
          "name": "stdout",
          "text": [
            "I love UTA\n",
            "10\n",
            "I love UTA\n",
            "9\n",
            "I love UTA\n",
            "8\n",
            "I love UTA\n",
            "7\n",
            "I love UTA\n",
            "6\n",
            "I love UTA\n",
            "5\n"
          ]
        }
      ]
    },
    {
      "cell_type": "code",
      "source": [
        "num = int(input(\"Enter the number\"))\n",
        "while num < 0:\n",
        "  print(\"UTA\")"
      ],
      "metadata": {
        "id": "SKZyt8FXT7Qj",
        "colab": {
          "base_uri": "https://localhost:8080/"
        },
        "outputId": "33c4ff62-404e-4f5b-cdba-382bd2c86d2b"
      },
      "execution_count": null,
      "outputs": [
        {
          "name": "stdout",
          "output_type": "stream",
          "text": [
            "Enter the number0\n"
          ]
        }
      ]
    },
    {
      "cell_type": "markdown",
      "source": [
        "For loop"
      ],
      "metadata": {
        "id": "9FpJlWQGWFry"
      }
    },
    {
      "cell_type": "code",
      "source": [
        "lst =['UTA','TX','Arlington']\n",
        "for i in lst:\n",
        "  print(i)"
      ],
      "metadata": {
        "colab": {
          "base_uri": "https://localhost:8080/"
        },
        "id": "fqDTQ3n8WCa-",
        "outputId": "2cfd65f9-0c05-4637-9ba0-0c55e20a1115"
      },
      "execution_count": null,
      "outputs": [
        {
          "output_type": "stream",
          "name": "stdout",
          "text": [
            "UTA\n",
            "TX\n",
            "Arlington\n"
          ]
        }
      ]
    },
    {
      "cell_type": "code",
      "source": [
        "name ='Texas'\n",
        "for i in name:\n",
        "  print(i)"
      ],
      "metadata": {
        "colab": {
          "base_uri": "https://localhost:8080/"
        },
        "id": "EGLCLdBsWvrV",
        "outputId": "f1122e48-6cd1-423a-9f12-2317ec0d02ac"
      },
      "execution_count": null,
      "outputs": [
        {
          "output_type": "stream",
          "name": "stdout",
          "text": [
            "T\n",
            "e\n",
            "x\n",
            "a\n",
            "s\n"
          ]
        }
      ]
    },
    {
      "cell_type": "code",
      "source": [
        "x = \"10\"\n",
        "#print(type(x))\n",
        "for i in x:\n",
        "  print(i)"
      ],
      "metadata": {
        "colab": {
          "base_uri": "https://localhost:8080/"
        },
        "id": "jujeaPuAXCDc",
        "outputId": "aba07554-4d8b-4fbe-f4d4-ee8ef2965287"
      },
      "execution_count": null,
      "outputs": [
        {
          "output_type": "stream",
          "name": "stdout",
          "text": [
            "1\n",
            "0\n"
          ]
        }
      ]
    },
    {
      "cell_type": "code",
      "source": [
        "for i in range(10):\n",
        "  print(i)"
      ],
      "metadata": {
        "colab": {
          "base_uri": "https://localhost:8080/"
        },
        "id": "X-eva52CXbfK",
        "outputId": "1d8e1349-76c0-4a8b-ca6e-41bae35c323e"
      },
      "execution_count": null,
      "outputs": [
        {
          "output_type": "stream",
          "name": "stdout",
          "text": [
            "0\n",
            "1\n",
            "2\n",
            "3\n",
            "4\n",
            "5\n",
            "6\n",
            "7\n",
            "8\n",
            "9\n"
          ]
        }
      ]
    },
    {
      "cell_type": "code",
      "source": [
        "for i in range(2,10):\n",
        "  print(i)"
      ],
      "metadata": {
        "colab": {
          "base_uri": "https://localhost:8080/"
        },
        "id": "b-pmVeiWZA9P",
        "outputId": "e7d092cf-1336-48ce-8352-2f4d9005c025"
      },
      "execution_count": null,
      "outputs": [
        {
          "output_type": "stream",
          "name": "stdout",
          "text": [
            "2\n",
            "3\n",
            "4\n",
            "5\n",
            "6\n",
            "7\n",
            "8\n",
            "9\n"
          ]
        }
      ]
    },
    {
      "cell_type": "code",
      "source": [
        "for i in range(2,10,5): # 3rd number is increment\n",
        "  print(i)"
      ],
      "metadata": {
        "colab": {
          "base_uri": "https://localhost:8080/"
        },
        "id": "ty_MKwI9ZSX_",
        "outputId": "c0e23a47-844f-4b4c-e86a-4bd648e10135"
      },
      "execution_count": null,
      "outputs": [
        {
          "output_type": "stream",
          "name": "stdout",
          "text": [
            "2\n",
            "7\n"
          ]
        }
      ]
    },
    {
      "cell_type": "code",
      "source": [
        "for i in range(10,10):\n",
        "  print(i)"
      ],
      "metadata": {
        "id": "9Wq-KQjzZWv5"
      },
      "execution_count": null,
      "outputs": []
    },
    {
      "cell_type": "code",
      "source": [
        "for i in range(2,10,-1): # 3rd number is increment\n",
        "  print(i)"
      ],
      "metadata": {
        "id": "alkIj3T_ZzlS"
      },
      "execution_count": null,
      "outputs": []
    },
    {
      "cell_type": "code",
      "source": [
        "for i in range(10,2,-1): # 3rd number is increment\n",
        "  print(i)"
      ],
      "metadata": {
        "colab": {
          "base_uri": "https://localhost:8080/"
        },
        "id": "zE-SwL2GaA0l",
        "outputId": "137573e2-72ec-458c-be9e-002a138ee254"
      },
      "execution_count": null,
      "outputs": [
        {
          "output_type": "stream",
          "name": "stdout",
          "text": [
            "10\n",
            "9\n",
            "8\n",
            "7\n",
            "6\n",
            "5\n",
            "4\n",
            "3\n"
          ]
        }
      ]
    },
    {
      "cell_type": "markdown",
      "source": [
        "Exercise:\n",
        "For loop for printing number from 1 to 10:"
      ],
      "metadata": {
        "id": "nWsqATUNayI9"
      }
    },
    {
      "cell_type": "code",
      "source": [
        "for i in range(1,11):\n",
        "  print(i)"
      ],
      "metadata": {
        "colab": {
          "base_uri": "https://localhost:8080/"
        },
        "id": "Eg9ci8qmaJvZ",
        "outputId": "69a06bee-32ac-4abb-fa77-9b0dfa016a70"
      },
      "execution_count": null,
      "outputs": [
        {
          "output_type": "stream",
          "name": "stdout",
          "text": [
            "1\n",
            "2\n",
            "3\n",
            "4\n",
            "5\n",
            "6\n",
            "7\n",
            "8\n",
            "9\n",
            "10\n"
          ]
        }
      ]
    },
    {
      "cell_type": "markdown",
      "source": [
        "For loop for printing number from 10 to 1:"
      ],
      "metadata": {
        "id": "qQ4whkQrbBNn"
      }
    },
    {
      "cell_type": "code",
      "source": [
        "for i in range(10,0,-1):\n",
        "  print(i)"
      ],
      "metadata": {
        "colab": {
          "base_uri": "https://localhost:8080/"
        },
        "id": "6drxz1S9a4Y8",
        "outputId": "99bb1984-ff92-49a2-ba21-96711af2dcf1"
      },
      "execution_count": null,
      "outputs": [
        {
          "output_type": "stream",
          "name": "stdout",
          "text": [
            "10\n",
            "9\n",
            "8\n",
            "7\n",
            "6\n",
            "5\n",
            "4\n",
            "3\n",
            "2\n",
            "1\n"
          ]
        }
      ]
    },
    {
      "cell_type": "markdown",
      "source": [
        "Write a program that takes an integer from the user and prints all the even numbers from 0 to that integer"
      ],
      "metadata": {
        "id": "kZzL6RlqbDib"
      }
    },
    {
      "cell_type": "code",
      "source": [
        "num= int(input(\"Enter the number: \"))\n",
        "for i in range(0,num+1):\n",
        "  if (i%2 == 0):\n",
        "    print(i)\n"
      ],
      "metadata": {
        "colab": {
          "base_uri": "https://localhost:8080/"
        },
        "id": "Bg9dNHPza8BQ",
        "outputId": "2ada5285-06ee-43be-d3c0-6226e08d1e2d"
      },
      "execution_count": null,
      "outputs": [
        {
          "output_type": "stream",
          "name": "stdout",
          "text": [
            "Enter the number: 5\n",
            "0\n",
            "2\n",
            "4\n"
          ]
        }
      ]
    },
    {
      "cell_type": "markdown",
      "source": [
        "Or"
      ],
      "metadata": {
        "id": "K0AwNPRSdwNa"
      }
    },
    {
      "cell_type": "code",
      "source": [
        "num= int(input(\"Enter the number: \"))\n",
        "for i in range(0,num+1,2):\n",
        "  print(i)\n"
      ],
      "metadata": {
        "id": "3myzYhRgbTf4",
        "colab": {
          "base_uri": "https://localhost:8080/"
        },
        "outputId": "d0251e99-2bb8-47ca-fbc7-ce536aeffc89"
      },
      "execution_count": null,
      "outputs": [
        {
          "output_type": "stream",
          "name": "stdout",
          "text": [
            "Enter the number: 10\n",
            "0\n",
            "2\n",
            "4\n",
            "6\n",
            "8\n",
            "10\n"
          ]
        }
      ]
    },
    {
      "cell_type": "markdown",
      "source": [
        "Write a program that takes an integer from the user and prints all the odd numbers from 0 to that integer and sum them up"
      ],
      "metadata": {
        "id": "k5vVV3BReLNv"
      }
    },
    {
      "cell_type": "code",
      "source": [
        "num= int(input(\"Enter the number: \"))\n",
        "total =0\n",
        "for i in range(0,num+1):\n",
        "  if (i%2 == 1):\n",
        "    total +=i\n",
        "    print(i)\n",
        "print(f\"Sum of all odd numbers: {total}\")"
      ],
      "metadata": {
        "colab": {
          "base_uri": "https://localhost:8080/"
        },
        "id": "fNSf8zzheH7o",
        "outputId": "4698efec-413e-4f49-9156-ce1e540ff75a"
      },
      "execution_count": null,
      "outputs": [
        {
          "output_type": "stream",
          "name": "stdout",
          "text": [
            "Enter the number: 10\n",
            "1\n",
            "3\n",
            "5\n",
            "7\n",
            "9\n",
            "Sum of all odd numbers: 25\n"
          ]
        }
      ]
    },
    {
      "cell_type": "code",
      "source": [],
      "metadata": {
        "id": "g414ArdFeUDW"
      },
      "execution_count": null,
      "outputs": []
    }
  ]
}