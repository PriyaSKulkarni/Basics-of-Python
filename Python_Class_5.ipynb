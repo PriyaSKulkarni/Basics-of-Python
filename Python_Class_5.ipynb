{
  "nbformat": 4,
  "nbformat_minor": 0,
  "metadata": {
    "colab": {
      "provenance": []
    },
    "kernelspec": {
      "name": "python3",
      "display_name": "Python 3"
    },
    "language_info": {
      "name": "python"
    }
  },
  "cells": [
    {
      "cell_type": "markdown",
      "source": [
        "For to while loop conversion:\n",
        "\n",
        "\n",
        "while is conditional control loop.\n",
        "\n",
        "For loop is count control loop"
      ],
      "metadata": {
        "id": "b4XVPCtwRmRI"
      }
    },
    {
      "cell_type": "code",
      "source": [
        "for i in range(1,11): # outer loop\n",
        "  for j in range(1,6): # inner loop\n",
        "    print(i*j, end=\"\\t\")\n",
        "  print()"
      ],
      "metadata": {
        "colab": {
          "base_uri": "https://localhost:8080/"
        },
        "id": "T9OGJj1SRmnK",
        "outputId": "d1a1318a-a193-4eba-a989-ade2f30bc321"
      },
      "execution_count": 2,
      "outputs": [
        {
          "output_type": "stream",
          "name": "stdout",
          "text": [
            "1\t2\t3\t4\t5\t\n",
            "2\t4\t6\t8\t10\t\n",
            "3\t6\t9\t12\t15\t\n",
            "4\t8\t12\t16\t20\t\n",
            "5\t10\t15\t20\t25\t\n",
            "6\t12\t18\t24\t30\t\n",
            "7\t14\t21\t28\t35\t\n",
            "8\t16\t24\t32\t40\t\n",
            "9\t18\t27\t36\t45\t\n",
            "10\t20\t30\t40\t50\t\n"
          ]
        }
      ]
    },
    {
      "cell_type": "code",
      "source": [
        "i = 1\n",
        "while i < 11:\n",
        "  j =1\n",
        "  while j<6:\n",
        "    print(i * j, end=\"\\t\")\n",
        "    j+=1\n",
        "  i+=1\n",
        "  print()"
      ],
      "metadata": {
        "colab": {
          "base_uri": "https://localhost:8080/"
        },
        "id": "2Yvk3BaISVwx",
        "outputId": "9be9a610-700b-45b6-bf2e-31bf525608cd"
      },
      "execution_count": 3,
      "outputs": [
        {
          "output_type": "stream",
          "name": "stdout",
          "text": [
            "1\t2\t3\t4\t5\t\n",
            "2\t4\t6\t8\t10\t\n",
            "3\t6\t9\t12\t15\t\n",
            "4\t8\t12\t16\t20\t\n",
            "5\t10\t15\t20\t25\t\n",
            "6\t12\t18\t24\t30\t\n",
            "7\t14\t21\t28\t35\t\n",
            "8\t16\t24\t32\t40\t\n",
            "9\t18\t27\t36\t45\t\n",
            "10\t20\t30\t40\t50\t\n"
          ]
        }
      ]
    },
    {
      "cell_type": "code",
      "source": [
        "fruits = ['apple','orange','banana']\n",
        "for i in fruits:\n",
        "  print(i)"
      ],
      "metadata": {
        "colab": {
          "base_uri": "https://localhost:8080/"
        },
        "id": "SG9xj2SlTCyD",
        "outputId": "86f7e710-dbed-4589-ff30-fc1198b0f49f"
      },
      "execution_count": 4,
      "outputs": [
        {
          "output_type": "stream",
          "name": "stdout",
          "text": [
            "apple\n",
            "orange\n",
            "banana\n"
          ]
        }
      ]
    },
    {
      "cell_type": "code",
      "source": [
        "i=0\n",
        "while i< len(fruits):\n",
        "  print(fruits[i])\n",
        "  i+=1"
      ],
      "metadata": {
        "colab": {
          "base_uri": "https://localhost:8080/"
        },
        "id": "4pVqvaQsVycx",
        "outputId": "7922ac16-58ef-41ca-e0b1-9bbed8691afa"
      },
      "execution_count": 5,
      "outputs": [
        {
          "output_type": "stream",
          "name": "stdout",
          "text": [
            "apple\n",
            "orange\n",
            "banana\n"
          ]
        }
      ]
    },
    {
      "cell_type": "code",
      "source": [
        "word = 'python'\n",
        "for i in word:\n",
        "  print(i)"
      ],
      "metadata": {
        "colab": {
          "base_uri": "https://localhost:8080/"
        },
        "id": "y6qt1Pr2V5LP",
        "outputId": "33420c94-b462-40db-908d-21296a06fff7"
      },
      "execution_count": 6,
      "outputs": [
        {
          "output_type": "stream",
          "name": "stdout",
          "text": [
            "p\n",
            "y\n",
            "t\n",
            "h\n",
            "o\n",
            "n\n"
          ]
        }
      ]
    },
    {
      "cell_type": "code",
      "source": [
        "i=0\n",
        "while i<len(word):\n",
        "  print(word[i])\n",
        "  i+=1"
      ],
      "metadata": {
        "colab": {
          "base_uri": "https://localhost:8080/"
        },
        "id": "_-kpm9AiZMii",
        "outputId": "7f2b9f15-1d77-4040-b8d3-5aab1e8f14a1"
      },
      "execution_count": 7,
      "outputs": [
        {
          "output_type": "stream",
          "name": "stdout",
          "text": [
            "p\n",
            "y\n",
            "t\n",
            "h\n",
            "o\n",
            "n\n"
          ]
        }
      ]
    },
    {
      "cell_type": "markdown",
      "source": [
        "Exercise 2: Accumulating Number\n",
        "\n",
        "✓ Write a program to add all the numbers between two numbers.\n",
        "\n",
        "✓ Ask the user to input two numbers. Note that the second number should be greater than the first number.\n",
        "\n",
        "✓ Add all the numbers between the first number and the second number inclusive.\n",
        "\n",
        "✓ Display the result as a subtotal after each loop.\n",
        "\n",
        "✓ Allow the program to run as many times as the user wants.\n",
        "\n",
        "✓ Finally, display the total of all subtotals as grand total."
      ],
      "metadata": {
        "id": "7nQGluzVbucG"
      }
    },
    {
      "cell_type": "code",
      "source": [
        "while(True):\n",
        "  command= input(\"Do you want to quit the loop 'Y' or 'N': \")\n",
        "  if command.lower() == 'y':\n",
        "    break\n",
        "  else:\n",
        "    num = int(input(\"Input first number: \"))\n",
        "    num2 = int(input(\"Input second number: \"))\n",
        "    if(num2< num):\n",
        "      print(\"enter the second number greater than first\")\n",
        "    else:\n",
        "      sum=0\n",
        "      for i in range(num,num2+1):\n",
        "        sum +=num\n",
        "        print(f\"Sum {sum}\")\n",
        "        num+=1\n",
        "      print(f\"Total sum {sum}\")"
      ],
      "metadata": {
        "colab": {
          "base_uri": "https://localhost:8080/"
        },
        "id": "AJh8Q7RgZTIY",
        "outputId": "9dc828b7-d1b9-4ba4-f6aa-8dd7503808ef"
      },
      "execution_count": 14,
      "outputs": [
        {
          "name": "stdout",
          "output_type": "stream",
          "text": [
            "Do you want to quit the loop 'Y' or 'N': n\n",
            "Input first number: 10\n",
            "Input second number: 1\n",
            "enter the second number greater than first\n",
            "Do you want to quit the loop 'Y' or 'N': n\n",
            "Input first number: 1\n",
            "Input second number: 10\n",
            "Sum 1\n",
            "Sum 3\n",
            "Sum 6\n",
            "Sum 10\n",
            "Sum 15\n",
            "Sum 21\n",
            "Sum 28\n",
            "Sum 36\n",
            "Sum 45\n",
            "Sum 55\n",
            "Total sum 55\n",
            "Do you want to quit the loop 'Y' or 'N': n\n",
            "Input first number: 10\n",
            "Input second number: 20\n",
            "Sum 10\n",
            "Sum 21\n",
            "Sum 33\n",
            "Sum 46\n",
            "Sum 60\n",
            "Sum 75\n",
            "Sum 91\n",
            "Sum 108\n",
            "Sum 126\n",
            "Sum 145\n",
            "Sum 165\n",
            "Total sum 165\n",
            "Do you want to quit the loop 'Y' or 'N': y\n"
          ]
        }
      ]
    },
    {
      "cell_type": "markdown",
      "source": [
        "Write a program to find the factorial of a number"
      ],
      "metadata": {
        "id": "jad-4f6cfs7G"
      }
    },
    {
      "cell_type": "code",
      "source": [
        "while(True):\n",
        "  command= input(\"Do you want to quit the loop 'Y' or 'N': \")\n",
        "  if command.lower() == 'y':\n",
        "    break\n",
        "  else:\n",
        "    num =int(input(\"Enter the factorial number : \"))\n",
        "    if (num == 0):\n",
        "      print(\"Factorial for the given number is : 1\")\n",
        "    else:\n",
        "      fact = 1\n",
        "      for i in range(1,num+1):\n",
        "        fact *= i\n",
        "        i+=1\n",
        "      print(\"Factorial for the given number is : \",fact)"
      ],
      "metadata": {
        "colab": {
          "base_uri": "https://localhost:8080/"
        },
        "id": "tTdXiWC-bWfS",
        "outputId": "a8a45b76-80a8-4f84-d55f-6a96644a72b8"
      },
      "execution_count": 20,
      "outputs": [
        {
          "name": "stdout",
          "output_type": "stream",
          "text": [
            "Do you want to quit the loop 'Y' or 'N': n\n",
            "Enter the factorial number : 0\n",
            "Factorial for the given number is : 1\n",
            "Do you want to quit the loop 'Y' or 'N': 2\n",
            "Enter the factorial number : 2\n",
            "Factorial for the given number is :  2\n",
            "Do you want to quit the loop 'Y' or 'N': n\n",
            "Enter the factorial number : 3\n",
            "Factorial for the given number is :  6\n",
            "Do you want to quit the loop 'Y' or 'N': n\n",
            "Enter the factorial number : 4\n",
            "Factorial for the given number is :  24\n",
            "Do you want to quit the loop 'Y' or 'N': y\n"
          ]
        }
      ]
    },
    {
      "cell_type": "code",
      "source": [],
      "metadata": {
        "id": "-xQjQ4IIgKzG"
      },
      "execution_count": null,
      "outputs": []
    }
  ]
}